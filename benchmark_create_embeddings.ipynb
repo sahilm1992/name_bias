{
 "cells": [
  {
   "cell_type": "code",
   "execution_count": null,
   "metadata": {
    "application/vnd.databricks.v1+cell": {
     "cellMetadata": {
      "byteLimit": 2048000,
      "rowLimit": 10000
     },
     "inputWidgets": {},
     "nuid": "79e754aa-8a92-4a1a-8541-486219107a96",
     "showTitle": false,
     "tableResultSettingsMap": {},
     "title": ""
    }
   },
   "outputs": [],
   "source": [
    "import pandas as pd\n",
    "import voyageai\n",
    "from voyageai import get_embeddings\n",
    "from transformers import AutoTokenizer, LlamaTokenizer, pipeline\n",
    "import google.generativeai as genai\n",
    "import transformers\n",
    "import torch\n",
    "import numpy as np\n",
    "from numpy import pad\n",
    "from openai import OpenAI\n",
    "from huggingface_hub import login\n",
    "import openai\n",
    "from sentence_transformers import SentenceTransformer\n",
    "import pickle, os"
   ]
  },
  {
   "cell_type": "code",
   "execution_count": null,
   "metadata": {
    "application/vnd.databricks.v1+cell": {
     "cellMetadata": {
      "byteLimit": 2048000,
      "rowLimit": 10000
     },
     "inputWidgets": {},
     "nuid": "1ebfc4b7-0b24-48e9-bf0b-bc921284e12f",
     "showTitle": false,
     "tableResultSettingsMap": {},
     "title": ""
    }
   },
   "outputs": [],
   "source": [
    "device='cpu'"
   ]
  },
  {
   "cell_type": "code",
   "execution_count": null,
   "metadata": {
    "application/vnd.databricks.v1+cell": {
     "cellMetadata": {
      "byteLimit": 2048000,
      "rowLimit": 10000
     },
     "inputWidgets": {},
     "nuid": "55d235f4-319e-4e3a-9c2e-b0e6905fbb50",
     "showTitle": false,
     "tableResultSettingsMap": {},
     "title": ""
    }
   },
   "outputs": [],
   "source": [
    "%run ./config_embed.ipynb"
   ]
  },
  {
   "cell_type": "code",
   "execution_count": null,
   "metadata": {
    "application/vnd.databricks.v1+cell": {
     "cellMetadata": {
      "byteLimit": 2048000,
      "rowLimit": 10000
     },
     "inputWidgets": {},
     "nuid": "36d3a378-b9db-4425-b778-75b9106dc70e",
     "showTitle": false,
     "tableResultSettingsMap": {},
     "title": ""
    }
   },
   "outputs": [],
   "source": [
    "%run ./utils.ipynb"
   ]
  },
  {
   "cell_type": "code",
   "execution_count": null,
   "metadata": {
    "application/vnd.databricks.v1+cell": {
     "cellMetadata": {
      "byteLimit": 2048000,
      "rowLimit": 10000
     },
     "inputWidgets": {},
     "nuid": "85fbaa95-167e-4d87-a08b-4bebc2b18449",
     "showTitle": false,
     "tableResultSettingsMap": {},
     "title": ""
    }
   },
   "outputs": [],
   "source": [
    "dataset_name = 'cmu_book'\n",
    "# dataset_name = 'cmu_movie'"
   ]
  },
  {
   "cell_type": "code",
   "execution_count": null,
   "metadata": {
    "application/vnd.databricks.v1+cell": {
     "cellMetadata": {
      "byteLimit": 2048000,
      "rowLimit": 10000
     },
     "inputWidgets": {},
     "nuid": "5c3e322a-fdb2-402e-9e7f-4a45bb615ac4",
     "showTitle": false,
     "tableResultSettingsMap": {},
     "title": ""
    }
   },
   "outputs": [],
   "source": [
    "BENCHMARKING_TYPE = 'p_y_c_y_default'   # dataset_name = cmu book /cmu movie\n",
    "# BENCHMARKING_TYPE = 'p_y_c_n_loc_exists_no' # cmu book only \n",
    "# BENCHMARKING_TYPE = 'p_y_c_n_country_exists_yes'  # cmu book only\n",
    "# BENCHMARKING_TYPE = 'p_y_c_n_same_country_names'# cmu book only\n",
    "# BENCHMARKING_TYPE = 'p_y_c_n_loc_any'"
   ]
  },
  {
   "cell_type": "code",
   "execution_count": null,
   "metadata": {
    "application/vnd.databricks.v1+cell": {
     "cellMetadata": {
      "byteLimit": 2048000,
      "rowLimit": 10000
     },
     "inputWidgets": {},
     "nuid": "226efa70-5195-49aa-82e4-62402ccaaba0",
     "showTitle": false,
     "tableResultSettingsMap": {},
     "title": ""
    }
   },
   "outputs": [],
   "source": [
    "if BENCHMARKING_TYPE == 'p_y_c_y_default':\n",
    "    file_path = f'BENCHMARKING/{dataset_name}/{dataset_name}_dataset_with_p_y_c_y_perturbed_p_y_c_y.pkl'\n",
    "    col_name_prefix = 'plot_perturb_p_True_c_True_id'\n",
    "\n",
    "\n",
    "elif BENCHMARKING_TYPE == 'p_y_c_n_loc_exists_no':\n",
    "    file_path = f'BENCHMARKING/{dataset_name}/{dataset_name}_dataset_with_p_y_c_n_perturbed_p_y.pkl'\n",
    "    col_name_prefix = 'plot_perturb_p_True_c_False_id'\n",
    "\n",
    "\n",
    "elif BENCHMARKING_TYPE == 'p_y_c_n_same_country_names':\n",
    "    country_people =  'Spain'# 'India'#France'#, 'India', 'France']\n",
    "    file_path = f'BENCHMARKING/{dataset_name}/{dataset_name}_dataset_with_p_y_c_n_using_names_from_{country_people}_perturbed_p_y.pkl'\n",
    "    col_name_prefix = 'plot_perturb_p_True_c_False_id'\n",
    " \n",
    "elif BENCHMARKING_TYPE == 'p_y_c_n_loc_any':\n",
    "\n",
    "    file_path = f'BENCHMARKING/{dataset_name}/{dataset_name}_dataset_with_p_y_c_any_perturbed_p_y.pkl'\n",
    "    col_name_prefix = 'plot_perturb_p_True_c_False_id'\n",
    "\n",
    "else:\n",
    "    raise Exception('Invalid benchmarking type')"
   ]
  },
  {
   "cell_type": "code",
   "execution_count": null,
   "metadata": {
    "application/vnd.databricks.v1+cell": {
     "cellMetadata": {
      "byteLimit": 2048000,
      "rowLimit": 10000
     },
     "inputWidgets": {},
     "nuid": "a58347b9-5300-4d20-bc18-06aa81619c84",
     "showTitle": false,
     "tableResultSettingsMap": {
      "0": {
       "filterBlob": "{\"filterGroups\":[],\"syncTimestamp\":1736506365240}",
       "tableResultIndex": 0
      }
     },
     "title": ""
    }
   },
   "outputs": [],
   "source": [
    "\n",
    "dataset = pd.read_pickle(file_path)\n",
    "display(dataset)"
   ]
  },
  {
   "cell_type": "code",
   "execution_count": null,
   "metadata": {
    "application/vnd.databricks.v1+cell": {
     "cellMetadata": {
      "byteLimit": 2048000,
      "rowLimit": 10000
     },
     "inputWidgets": {},
     "nuid": "f9901dfe-94a6-4058-86c4-ca35fd28e8ae",
     "showTitle": false,
     "tableResultSettingsMap": {},
     "title": ""
    }
   },
   "outputs": [],
   "source": [
    "len(dataset)"
   ]
  },
  {
   "cell_type": "code",
   "execution_count": null,
   "metadata": {
    "application/vnd.databricks.v1+cell": {
     "cellMetadata": {
      "byteLimit": 2048000,
      "rowLimit": 10000
     },
     "inputWidgets": {},
     "nuid": "6fc64aee-ff72-49da-aef1-613ff458e886",
     "showTitle": false,
     "tableResultSettingsMap": {},
     "title": ""
    }
   },
   "outputs": [],
   "source": [
    "\n",
    "for model_name in EVAL_MODEL_LIST:\n",
    "    if model_name not in dict_max_sequence_length:\n",
    "        print('model_name ', model_name)\n",
    "        if model_name in ['gemini']:\n",
    "            token_limit = 2000\n",
    "            dict_max_sequence_length[model_name] = token_limit\n",
    "\n",
    "        elif model_name in ['voyage-3-lite']:\n",
    "            token_limit =32000\n",
    "            dict_max_sequence_length[model_name] = token_limit\n",
    "\n",
    "        elif model_name in ['text-embedding-3-small', 'text-embedding-3-large']: # openai\n",
    "            token_limit = 8191\n",
    "            dict_max_sequence_length[model_name] = token_limit\n",
    "            \n",
    "        elif model_name in ['cohere']:\n",
    "            token_limit =512\n",
    "            dict_max_sequence_length[model_name] = token_limit\n",
    "            \n",
    "        else:\n",
    "            model_object = SentenceTransformer(model_name, device='cpu')\n",
    "            \n",
    "            token_limit = model_object.max_seq_length\n",
    "            del(model_object)\n",
    "            print('token_limit ', token_limit)\n",
    "            dict_max_sequence_length[model_name] = token_limit\n",
    "\n",
    "        dict_max_sequence_length[model_name] = dict_max_sequence_length[model_name]*word_limit_multiplier\n",
    "\n",
    "print('dict_max_sequence_length ', dict_max_sequence_length)\n",
    "\n",
    "    "
   ]
  },
  {
   "cell_type": "code",
   "execution_count": null,
   "metadata": {
    "application/vnd.databricks.v1+cell": {
     "cellMetadata": {
      "byteLimit": 2048000,
      "rowLimit": 10000
     },
     "inputWidgets": {},
     "nuid": "8211c1ce-7c7c-46ce-ac57-311460daed42",
     "showTitle": false,
     "tableResultSettingsMap": {},
     "title": ""
    }
   },
   "outputs": [],
   "source": [
    "sentence_transformer_models_dict = {}"
   ]
  },
  {
   "cell_type": "code",
   "execution_count": null,
   "metadata": {
    "application/vnd.databricks.v1+cell": {
     "cellMetadata": {
      "byteLimit": 2048000,
      "rowLimit": 10000
     },
     "inputWidgets": {},
     "nuid": "acbe5cfa-3710-46e8-9104-6c66e277bb7f",
     "showTitle": false,
     "tableResultSettingsMap": {},
     "title": ""
    }
   },
   "outputs": [],
   "source": [
    "col_name_prefix"
   ]
  },
  {
   "cell_type": "code",
   "execution_count": null,
   "metadata": {
    "application/vnd.databricks.v1+cell": {
     "cellMetadata": {
      "byteLimit": 2048000,
      "rowLimit": 10000
     },
     "inputWidgets": {},
     "nuid": "a117d67b-cae6-461e-85b4-6dc7591b60af",
     "showTitle": false,
     "tableResultSettingsMap": {},
     "title": ""
    }
   },
   "outputs": [],
   "source": [
    "dataset.columns"
   ]
  },
  {
   "cell_type": "code",
   "execution_count": null,
   "metadata": {
    "application/vnd.databricks.v1+cell": {
     "cellMetadata": {
      "byteLimit": 2048000,
      "rowLimit": 10000
     },
     "inputWidgets": {},
     "nuid": "94808fdf-402b-4759-b708-9e16798bee30",
     "showTitle": false,
     "tableResultSettingsMap": {},
     "title": ""
    }
   },
   "outputs": [],
   "source": [
    "col_name_prefix"
   ]
  },
  {
   "cell_type": "code",
   "execution_count": null,
   "metadata": {
    "application/vnd.databricks.v1+cell": {
     "cellMetadata": {
      "byteLimit": 2048000,
      "rowLimit": 10000
     },
     "inputWidgets": {},
     "nuid": "b6f08cf2-2c8c-4d24-aef9-1a0f3b6ba0ed",
     "showTitle": false,
     "tableResultSettingsMap": {},
     "title": ""
    }
   },
   "outputs": [],
   "source": [
    "EVAL_MODEL_LIST"
   ]
  },
  {
   "cell_type": "code",
   "execution_count": null,
   "metadata": {
    "application/vnd.databricks.v1+cell": {
     "cellMetadata": {
      "byteLimit": 2048000,
      "rowLimit": 10000
     },
     "inputWidgets": {},
     "nuid": "8fa80517-1f65-4d94-a06d-f3d37bc52921",
     "showTitle": false,
     "tableResultSettingsMap": {},
     "title": ""
    }
   },
   "outputs": [],
   "source": [
    "BENCHMARKING_TYPE"
   ]
  },
  {
   "cell_type": "code",
   "execution_count": null,
   "metadata": {
    "application/vnd.databricks.v1+cell": {
     "cellMetadata": {
      "byteLimit": 2048000,
      "rowLimit": 10000
     },
     "inputWidgets": {},
     "nuid": "31ace189-3ea5-4d8a-8852-61128afacf65",
     "showTitle": false,
     "tableResultSettingsMap": {},
     "title": ""
    }
   },
   "outputs": [],
   "source": [
    "col_name_prefix"
   ]
  },
  {
   "cell_type": "code",
   "execution_count": null,
   "metadata": {
    "application/vnd.databricks.v1+cell": {
     "cellMetadata": {
      "byteLimit": 2048000,
      "rowLimit": 10000
     },
     "inputWidgets": {},
     "nuid": "5461e014-594b-4d3e-9a62-1969031cc7da",
     "showTitle": false,
     "tableResultSettingsMap": {},
     "title": ""
    }
   },
   "outputs": [],
   "source": [
    "for model_name in EVAL_MODEL_LIST:\n",
    "\n",
    "    path_embed_prefix = f'BENCHMARKING/{dataset_name}/EMBEDDINGS_{BENCHMARKING_TYPE}/'\n",
    "\n",
    "    if BENCHMARKING_TYPE =='p_y_c_n_same_country_names':\n",
    "        path_embed_prefix = f'BENCHMARKING/{dataset_name}/EMBEDDINGS_{BENCHMARKING_TYPE}/{country_people}'\n",
    "    \n",
    "    os.makedirs(path_embed_prefix, exist_ok=True)\n",
    "\n",
    "    output_file_name = f'{path_embed_prefix}/{dataset_name}_{model_name}'\n",
    "\n",
    "    print('output_file_name ', output_file_name)\n",
    "\n",
    "    dataset_with_embeddings = None\n",
    "\n",
    "    print('model_name ', model_name, dict_max_sequence_length[model_name])\n",
    "    dataset_with_embeddings = dataset.copy()\n",
    "    dataset_with_embeddings = dataset_with_embeddings[dataset_with_embeddings.plot_length < dict_max_sequence_length[model_name] ]\n",
    "\n",
    "    print('len applicable', len(dataset_with_embeddings))\n",
    "\n",
    "    print('iterate ', model_name)\n",
    "    for i in range(len(dataset_with_embeddings.columns)):\n",
    "        col_name = f'{col_name_prefix}_{i}'\n",
    "        print('col_name ', col_name)\n",
    "        if col_name in dataset_with_embeddings.columns:\n",
    "            embed_list = dataset_with_embeddings[col_name].tolist()\n",
    "            \n",
    "            embeddings = embed_content(embed_list, model_name)\n",
    "            if model_name !='gemini' and model_name!='cohere' and model_name!='voyage-3-lite':\n",
    "                embeddings = embeddings.tolist()\n",
    "\n",
    "            dataset_with_embeddings[f'embed_{col_name}_model_{model_name}'] = embeddings\n",
    "\n",
    "    try:\n",
    "        with open(output_file_name, \"wb\") as f:\n",
    "            pickle.dump(dataset_with_embeddings, f)\n",
    "    except:\n",
    "        print('error in pickling')            \n"
   ]
  },
  {
   "cell_type": "code",
   "execution_count": null,
   "metadata": {
    "application/vnd.databricks.v1+cell": {
     "cellMetadata": {
      "byteLimit": 2048000,
      "rowLimit": 10000
     },
     "inputWidgets": {},
     "nuid": "cbe392c8-fef4-4566-84f0-75673734b34e",
     "showTitle": false,
     "tableResultSettingsMap": {},
     "title": ""
    }
   },
   "outputs": [],
   "source": [
    "BENCHMARKING_TYPE"
   ]
  },
  {
   "cell_type": "code",
   "execution_count": null,
   "metadata": {},
   "outputs": [],
   "source": []
  },
  {
   "cell_type": "code",
   "execution_count": null,
   "metadata": {},
   "outputs": [],
   "source": []
  },
  {
   "cell_type": "code",
   "execution_count": null,
   "metadata": {},
   "outputs": [],
   "source": []
  },
  {
   "cell_type": "code",
   "execution_count": null,
   "metadata": {},
   "outputs": [],
   "source": []
  },
  {
   "cell_type": "code",
   "execution_count": null,
   "metadata": {},
   "outputs": [],
   "source": []
  },
  {
   "cell_type": "code",
   "execution_count": null,
   "metadata": {},
   "outputs": [],
   "source": []
  },
  {
   "cell_type": "code",
   "execution_count": null,
   "metadata": {},
   "outputs": [],
   "source": []
  }
 ],
 "metadata": {
  "application/vnd.databricks.v1+notebook": {
   "computePreferences": null,
   "dashboards": [],
   "environmentMetadata": {
    "base_environment": "",
    "environment_version": "1"
   },
   "language": "python",
   "notebookMetadata": {
    "pythonIndentUnit": 4
   },
   "notebookName": "benchmark_create_embeddings",
   "widgets": {}
  },
  "kernelspec": {
   "display_name": "Python 3 (ipykernel)",
   "language": "python",
   "name": "python3"
  },
  "language_info": {
   "codemirror_mode": {
    "name": "ipython",
    "version": 3
   },
   "file_extension": ".py",
   "mimetype": "text/x-python",
   "name": "python",
   "nbconvert_exporter": "python",
   "pygments_lexer": "ipython3",
   "version": "3.12.11"
  }
 },
 "nbformat": 4,
 "nbformat_minor": 4
}
