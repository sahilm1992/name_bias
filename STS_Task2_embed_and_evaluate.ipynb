{
 "cells": [
  {
   "cell_type": "code",
   "execution_count": null,
   "metadata": {
    "application/vnd.databricks.v1+cell": {
     "cellMetadata": {
      "byteLimit": 2048000,
      "rowLimit": 10000
     },
     "inputWidgets": {},
     "nuid": "ff72a1bf-b10f-48e2-b0a6-265d19176ef2",
     "showTitle": false,
     "tableResultSettingsMap": {},
     "title": ""
    }
   },
   "outputs": [],
   "source": [
    "import pandas as pd\n",
    "\n",
    "import torch\n",
    "import numpy as np\n",
    "from numpy import pad\n",
    "import pickle, os\n",
    "from scipy.stats import spearmanr, pearsonr\n",
    "from sklearn.metrics.pairwise import cosine_similarity, euclidean_distances\n",
    "\n",
    "import voyageai\n",
    "from voyageai import get_embeddings\n",
    "import google.generativeai as genai\n",
    "from openai import OpenAI\n",
    "from huggingface_hub import login\n",
    "import openai\n",
    "from sentence_transformers import SentenceTransformer\n"
   ]
  },
  {
   "cell_type": "code",
   "execution_count": null,
   "metadata": {
    "application/vnd.databricks.v1+cell": {
     "cellMetadata": {
      "byteLimit": 2048000,
      "rowLimit": 10000
     },
     "inputWidgets": {},
     "nuid": "90302ad8-c386-42b4-85ca-742156c383f0",
     "showTitle": false,
     "tableResultSettingsMap": {},
     "title": ""
    }
   },
   "outputs": [],
   "source": [
    "#\n",
    "device='cpu'\n",
    "sentence_transformer_models_dict = {}"
   ]
  },
  {
   "cell_type": "code",
   "execution_count": null,
   "metadata": {
    "application/vnd.databricks.v1+cell": {
     "cellMetadata": {
      "byteLimit": 2048000,
      "rowLimit": 10000
     },
     "inputWidgets": {},
     "nuid": "7f2bee77-c934-4876-ad56-f701209a0a32",
     "showTitle": false,
     "tableResultSettingsMap": {},
     "title": ""
    }
   },
   "outputs": [],
   "source": [
    "%run ./utils.ipynb"
   ]
  },
  {
   "cell_type": "code",
   "execution_count": null,
   "metadata": {
    "application/vnd.databricks.v1+cell": {
     "cellMetadata": {
      "byteLimit": 2048000,
      "rowLimit": 10000
     },
     "inputWidgets": {},
     "nuid": "8b62e72b-a295-493f-b9fa-3b1e9d7a8eee",
     "showTitle": false,
     "tableResultSettingsMap": {},
     "title": ""
    }
   },
   "outputs": [],
   "source": [
    "%run ./config_embed.ipynb"
   ]
  },
  {
   "cell_type": "code",
   "execution_count": null,
   "metadata": {
    "application/vnd.databricks.v1+cell": {
     "cellMetadata": {
      "byteLimit": 2048000,
      "rowLimit": 10000
     },
     "inputWidgets": {},
     "nuid": "0c50f5e8-9ad1-4780-a8fe-55f020a5aa86",
     "showTitle": false,
     "tableResultSettingsMap": {},
     "title": ""
    }
   },
   "outputs": [],
   "source": [
    "BASEPATH = \"STS_summary\""
   ]
  },
  {
   "cell_type": "code",
   "execution_count": null,
   "metadata": {
    "application/vnd.databricks.v1+cell": {
     "cellMetadata": {
      "byteLimit": 2048000,
      "rowLimit": 10000
     },
     "inputWidgets": {},
     "nuid": "8820ef71-bdb4-4f8b-95c6-36f821da28d1",
     "showTitle": false,
     "tableResultSettingsMap": {},
     "title": ""
    }
   },
   "outputs": [],
   "source": [
    "REPLACEMENT_OR_REMOVAL = 'REMOVAL'"
   ]
  },
  {
   "cell_type": "code",
   "execution_count": null,
   "metadata": {
    "application/vnd.databricks.v1+cell": {
     "cellMetadata": {
      "byteLimit": 2048000,
      "rowLimit": 10000
     },
     "inputWidgets": {},
     "nuid": "81eeead9-0303-4185-9fbf-c6e064e9fa64",
     "showTitle": false,
     "tableResultSettingsMap": {},
     "title": ""
    }
   },
   "outputs": [],
   "source": [
    "EVAL_MODEL_LIST"
   ]
  },
  {
   "cell_type": "code",
   "execution_count": null,
   "metadata": {
    "application/vnd.databricks.v1+cell": {
     "cellMetadata": {
      "byteLimit": 2048000,
      "rowLimit": 10000
     },
     "inputWidgets": {},
     "nuid": "7222b8f8-7fb6-4bd5-bf39-944f403dbf94",
     "showTitle": false,
     "tableResultSettingsMap": {},
     "title": ""
    }
   },
   "outputs": [],
   "source": [
    "EVAL_MODEL_LIST = EVAL_MODEL_LIST[0:1]"
   ]
  },
  {
   "cell_type": "code",
   "execution_count": null,
   "metadata": {
    "application/vnd.databricks.v1+cell": {
     "cellMetadata": {
      "byteLimit": 2048000,
      "rowLimit": 10000
     },
     "inputWidgets": {},
     "nuid": "4b93de02-55f5-4b4e-90e4-5161aff53bd6",
     "showTitle": false,
     "tableResultSettingsMap": {},
     "title": ""
    }
   },
   "outputs": [],
   "source": [
    "LLM_FOR_ANONYMIZATION=['gemini','sonnet'] #['sonnet','gemini']"
   ]
  },
  {
   "cell_type": "code",
   "execution_count": null,
   "metadata": {
    "application/vnd.databricks.v1+cell": {
     "cellMetadata": {
      "byteLimit": 2048000,
      "rowLimit": 10000
     },
     "inputWidgets": {},
     "nuid": "b2abc20e-8b2d-4c1b-8bdd-eee3e9cabce1",
     "showTitle": false,
     "tableResultSettingsMap": {},
     "title": ""
    }
   },
   "outputs": [],
   "source": [
    "#\n",
    "\n",
    "for llm_used in LLM_FOR_ANONYMIZATION:\n",
    "\n",
    "    correlation_df_llm_wise = pd.DataFrame(columns=['model', f'SC_cosine_sim_score_machine_human', f'SC_cosine_sim_score_machine_human_anonymized_llm_used_{llm_used}','PC_cosine_sim_score_machine_human', f'PC_cosine_sim_score_machine_human_anonymized_llm_used_{llm_used}'])\n",
    "\n",
    "\n",
    "    df_cop = pd.read_pickle( f'{BASEPATH}/hum_mac_summ_data_anonymized_LLM_used_{llm_used}_{REPLACEMENT_OR_REMOVAL}.pkl')\n",
    "    print('llm_used ', llm_used)\n",
    "\n",
    "    REPLACEMENT_OR_REMOVAL = 'REMOVAL'\n",
    "\n",
    "\n",
    "    for model_name in EVAL_MODEL_LIST: #[-3:]:\n",
    "\n",
    "        df_model = df_cop.copy()\n",
    "        print('model_name ', model_name)\n",
    "\n",
    "\n",
    "        print('machine summary')\n",
    "\n",
    "        df_model[f'embedding_machine_summaries_{model_name}'] = df_model['machine_summaries'].apply(\n",
    "            lambda summaries: np.array(embed_content(summaries.tolist(), model=model_name)) \n",
    "        )\n",
    "\n",
    "        print('human summary')\n",
    "\n",
    "        df_model[f'embedding_human_summaries_{model_name}'] = df_model['human_summaries'].apply(\n",
    "        lambda summaries: np.array(embed_content(summaries.tolist(), model=model_name)) \n",
    "    )\n",
    "\n",
    "\n",
    "        print('machine summary anonymized')\n",
    "        df_model[f'embedding_machine_summaries_anonymized_{model_name}_llm_used_{llm_used}'] = df_model[f'machine_summaries_anonymized_{llm_used}'].apply(\n",
    "            lambda summaries: np.array(embed_content(summaries, model=model_name))\n",
    "        )\n",
    "\n",
    "        \n",
    "        print('human summary anonymized')\n",
    "        df_model[f'embedding_human_summaries_anonymized_{model_name}_llm_used_{llm_used}'] = df_model[f'human_summaries_anonymized_{llm_used}'].apply(\n",
    "            lambda summaries: np.array(embed_content(summaries, model=model_name))\n",
    "        )\n",
    "\n",
    "\n",
    "        df_model[f'sim_machine_human_best_anonymized_llm_used_{llm_used}'] = df_model.apply(lambda row: compute_max_cosine_sim_machine_human(row, model_name, anon=True, llm_used=llm_used), axis=1)\n",
    "        df_model['sim_machine_human_best'] = df_model.apply(lambda row: compute_max_cosine_sim_machine_human(row, model_name, anon=False), axis=1)\n",
    "\n",
    "\n",
    "        print('getting correlation')\n",
    "\n",
    "        cosine_sim_score_anon_machine_human = df_model[f'sim_machine_human_best_anonymized_llm_used_{llm_used}'].explode().values\n",
    "        cosine_sim_score_machine_human = df_model['sim_machine_human_best'].explode().values\n",
    "        relevance_machine_human = df_model['relevance'].explode().values\n",
    "\n",
    "        # Compute Spearman and Pearson correlation between cosine_sim_score_anon and relevance\n",
    "        spearman_corr_anon_relevance_machine_human, _ = spearmanr(cosine_sim_score_anon_machine_human, relevance_machine_human)\n",
    "        pearson_corr_anon_relevance_machine_human, _ = pearsonr(cosine_sim_score_anon_machine_human, relevance_machine_human)\n",
    "\n",
    "        # Compute Spearman and Pearson correlation between cosine_sim_score and relevance\n",
    "        spearman_corr_cosine_relevance_machine_human, _ = spearmanr(cosine_sim_score_machine_human, relevance_machine_human)\n",
    "        pearson_corr_cosine_relevance_machine_human, _ = pearsonr(cosine_sim_score_machine_human, relevance_machine_human)\n",
    "\n",
    "        correlation_df_llm_wise = correlation_df_llm_wise.append({'model':model_name, 'SC_cosine_sim_score_machine_human': spearman_corr_cosine_relevance_machine_human, f'SC_cosine_sim_score_machine_human_anonymized_llm_used_{llm_used}': spearman_corr_anon_relevance_machine_human, 'PC_cosine_sim_score_machine_human': pearson_corr_cosine_relevance_machine_human, f'PC_cosine_sim_score_machine_human_anonymized_llm_used_{llm_used}': pearson_corr_anon_relevance_machine_human}, ignore_index=True)\n",
    "\n",
    "\n",
    "        print('llm used', llm_used)\n",
    "        print('->>>model ', model_name)\n",
    "        print('::spearman_corr_cosine_relevance_machine_human ', spearman_corr_cosine_relevance_machine_human)\n",
    "        print('spearman_corr_anonymized_relevance_machine_human ', spearman_corr_anon_relevance_machine_human)\n",
    "\n",
    "        print('pearson_corr_cosine_relevance_machine_human ',pearson_corr_cosine_relevance_machine_human)\n",
    "        print('pearson_corr_anonymized_relevance_machine_human ', pearson_corr_anon_relevance_machine_human)\n",
    "\n",
    "\n",
    "        correlation_df_llm_wise.to_pickle(f'{BASEPATH}/temp/correlation_results_{model_name}_llm_used_{llm_used}.pkl')\n",
    "        correlation_df_llm_wise.to_csv(f'{BASEPATH}/temp/correlation_results_{model_name}_llm_used_{llm_used}.csv', index=False)\n",
    "        df_model.to_pickle(f'{BASEPATH}/temp/df_{model_name}_llm_used_{llm_used}.pkl')\n",
    "\n",
    "\n",
    "        correlation_df_llm_wise.to_pickle(f'{BASEPATH}/correlation_results_llm_used_{llm_used}.pkl')\n",
    "        correlation_df_llm_wise = correlation_df_llm_wise.round(3)\n",
    "\n",
    "\n"
   ]
  },
  {
   "cell_type": "code",
   "execution_count": null,
   "metadata": {
    "application/vnd.databricks.v1+cell": {
     "cellMetadata": {
      "byteLimit": 2048000,
      "rowLimit": 10000
     },
     "inputWidgets": {},
     "nuid": "673cdd92-4e24-428f-b8ee-a1dd71a5d368",
     "showTitle": false,
     "tableResultSettingsMap": {},
     "title": ""
    }
   },
   "outputs": [],
   "source": [
    "BASEPATH"
   ]
  },
  {
   "cell_type": "code",
   "execution_count": null,
   "metadata": {
    "application/vnd.databricks.v1+cell": {
     "cellMetadata": {
      "byteLimit": 2048000,
      "rowLimit": 10000
     },
     "inputWidgets": {},
     "nuid": "78ea3dff-0a66-40c0-9163-de3622d2f859",
     "showTitle": false,
     "tableResultSettingsMap": {},
     "title": ""
    }
   },
   "outputs": [],
   "source": [
    "df1 = pd.read_pickle(f'{BASEPATH}/correlation_results_llm_used_sonnet.pkl')\n",
    "df2 = pd.read_pickle(f'{BASEPATH}/correlation_results_llm_used_gemini.pkl')[['model','SC_cosine_sim_score_machine_human_anonymized_llm_used_gemini','PC_cosine_sim_score_machine_human_anonymized_llm_used_gemini']]\n"
   ]
  },
  {
   "cell_type": "code",
   "execution_count": null,
   "metadata": {
    "application/vnd.databricks.v1+cell": {
     "cellMetadata": {
      "byteLimit": 2048000,
      "rowLimit": 10000
     },
     "inputWidgets": {},
     "nuid": "6f290787-3953-4a19-ac29-9939b76abe01",
     "showTitle": false,
     "tableResultSettingsMap": {},
     "title": ""
    }
   },
   "outputs": [],
   "source": [
    "display(df1)"
   ]
  },
  {
   "cell_type": "code",
   "execution_count": null,
   "metadata": {
    "application/vnd.databricks.v1+cell": {
     "cellMetadata": {
      "byteLimit": 2048000,
      "rowLimit": 10000
     },
     "inputWidgets": {},
     "nuid": "2ad1a840-fde9-46c5-9210-4a7463c12ab6",
     "showTitle": false,
     "tableResultSettingsMap": {},
     "title": ""
    }
   },
   "outputs": [],
   "source": [
    "display(df2)"
   ]
  },
  {
   "cell_type": "code",
   "execution_count": null,
   "metadata": {
    "application/vnd.databricks.v1+cell": {
     "cellMetadata": {
      "byteLimit": 2048000,
      "rowLimit": 10000
     },
     "inputWidgets": {},
     "nuid": "29e89b72-3dc2-425e-a042-58b2be4e958d",
     "showTitle": false,
     "tableResultSettingsMap": {},
     "title": ""
    }
   },
   "outputs": [],
   "source": [
    "\n",
    "\n",
    "\n",
    "# Calculate mean cosine similarity scores for SC and PC\n",
    "merged_df['mean_SC_cosine_sim_score_machine_human_anonymized'] = merged_df[['SC_cosine_sim_score_machine_human_anonymized_llm_used_sonnet', 'SC_cosine_sim_score_machine_human_anonymized_llm_used_gemini']].mean(axis=1)\n",
    "merged_df['mean_PC_cosine_sim_score_machine_human_anonymized'] = merged_df[['PC_cosine_sim_score_machine_human_anonymized_llm_used_sonnet', 'PC_cosine_sim_score_machine_human_anonymized_llm_used_gemini']].mean(axis=1)\n",
    "\n",
    "# Calculate standard error of the mean for SC and PC\n",
    "def std_err(x):\n",
    "    return x.std(ddof=1) / np.sqrt(len(x))\n",
    "\n",
    "merged_df['std_SC_cosine_sim_score_machine_human_anonymized'] = merged_df[['SC_cosine_sim_score_machine_human_anonymized_llm_used_sonnet', 'SC_cosine_sim_score_machine_human_anonymized_llm_used_gemini']].apply(std_err, axis=1)\n",
    "merged_df['std_PC_cosine_sim_score_machine_human_anonymized'] = merged_df[['PC_cosine_sim_score_machine_human_anonymized_llm_used_sonnet', 'PC_cosine_sim_score_machine_human_anonymized_llm_used_gemini']].apply(std_err, axis=1)\n",
    "\n",
    "# Round all values to 3 decimal places\n",
    "merged_df = merged_df.round(3)\n",
    "\n",
    "\n",
    "display(merged_df[['model','SC_cosine_sim_score_machine_human','PC_cosine_sim_score_machine_human', 'mean_SC_cosine_sim_score_machine_human_anonymized', 'std_SC_cosine_sim_score_machine_human_anonymized', 'mean_PC_cosine_sim_score_machine_human_anonymized', 'std_PC_cosine_sim_score_machine_human_anonymized']])"
   ]
  },
  {
   "cell_type": "code",
   "execution_count": null,
   "metadata": {
    "application/vnd.databricks.v1+cell": {
     "cellMetadata": {
      "byteLimit": 2048000,
      "rowLimit": 10000
     },
     "inputWidgets": {},
     "nuid": "546eee99-1f67-4559-8049-316938342af0",
     "showTitle": false,
     "tableResultSettingsMap": {},
     "title": ""
    }
   },
   "outputs": [],
   "source": [
    "\n",
    "\n",
    "# Calculate mean cosine similarity scores for SC and PC\n",
    "merged_df['mean_SC_cosine_sim_score_machine_human_anonymized'] = merged_df[['SC_cosine_sim_score_machine_human_anonymized_llm_used_sonnet', 'SC_cosine_sim_score_machine_human_anonymized_llm_used_gemini']].mean(axis=1)\n",
    "merged_df['mean_PC_cosine_sim_score_machine_human_anonymized'] = merged_df[['PC_cosine_sim_score_machine_human_anonymized_llm_used_sonnet', 'PC_cosine_sim_score_machine_human_anonymized_llm_used_gemini']].mean(axis=1)\n",
    "\n",
    "# Calculate standard error of the mean for SC and PC\n",
    "def std_err(x):\n",
    "    return x.std(ddof=1) / np.sqrt(len(x))\n",
    "\n",
    "merged_df['std_SC_cosine_sim_score_machine_human_anonymized'] = merged_df[['SC_cosine_sim_score_machine_human_anonymized_llm_used_sonnet', 'SC_cosine_sim_score_machine_human_anonymized_llm_used_gemini']].apply(std_err, axis=1)\n",
    "merged_df['std_PC_cosine_sim_score_machine_human_anonymized'] = merged_df[['PC_cosine_sim_score_machine_human_anonymized_llm_used_sonnet', 'PC_cosine_sim_score_machine_human_anonymized_llm_used_gemini']].apply(std_err, axis=1)\n",
    "\n",
    "# Round all values to 3 decimal places\n",
    "merged_df = merged_df.round(3)\n",
    "\n",
    "\n",
    "display(merged_df[['model','SC_cosine_sim_score_machine_human','PC_cosine_sim_score_machine_human', 'mean_SC_cosine_sim_score_machine_human_anonymized', 'std_SC_cosine_sim_score_machine_human_anonymized', 'mean_PC_cosine_sim_score_machine_human_anonymized', 'std_PC_cosine_sim_score_machine_human_anonymized']])"
   ]
  },
  {
   "cell_type": "code",
   "execution_count": null,
   "metadata": {
    "application/vnd.databricks.v1+cell": {
     "cellMetadata": {
      "byteLimit": 2048000,
      "rowLimit": 10000
     },
     "inputWidgets": {},
     "nuid": "4f967553-1325-48e4-a7f9-63c4b5603d7c",
     "showTitle": false,
     "tableResultSettingsMap": {},
     "title": ""
    }
   },
   "outputs": [],
   "source": [
    "output_df = merged_df[['model','SC_cosine_sim_score_machine_human','PC_cosine_sim_score_machine_human', 'mean_SC_cosine_sim_score_machine_human_anonymized', 'std_SC_cosine_sim_score_machine_human_anonymized', 'mean_PC_cosine_sim_score_machine_human_anonymized', 'std_PC_cosine_sim_score_machine_human_anonymized']]"
   ]
  },
  {
   "cell_type": "code",
   "execution_count": null,
   "metadata": {
    "application/vnd.databricks.v1+cell": {
     "cellMetadata": {
      "byteLimit": 2048000,
      "rowLimit": 10000
     },
     "inputWidgets": {},
     "nuid": "5bf8f190-d4d6-4ed9-9b39-2c09a3a96521",
     "showTitle": false,
     "tableResultSettingsMap": {},
     "title": ""
    }
   },
   "outputs": [],
   "source": [
    "output_df.columns"
   ]
  },
  {
   "cell_type": "code",
   "execution_count": null,
   "metadata": {
    "application/vnd.databricks.v1+cell": {
     "cellMetadata": {
      "byteLimit": 2048000,
      "rowLimit": 10000
     },
     "inputWidgets": {},
     "nuid": "a87ccb11-5f0c-4897-a0cf-38f78ff6e6aa",
     "showTitle": false,
     "tableResultSettingsMap": {},
     "title": ""
    }
   },
   "outputs": [],
   "source": [
    "latex_code = output_df.to_latex()"
   ]
  },
  {
   "cell_type": "code",
   "execution_count": null,
   "metadata": {
    "application/vnd.databricks.v1+cell": {
     "cellMetadata": {
      "byteLimit": 2048000,
      "rowLimit": 10000
     },
     "inputWidgets": {},
     "nuid": "fe6e47e0-a33c-4397-bf46-9650745116ff",
     "showTitle": false,
     "tableResultSettingsMap": {},
     "title": ""
    }
   },
   "outputs": [],
   "source": [
    "\n",
    "mean_std_concat_pc = output_df[['mean_PC_cosine_sim_score_machine_human_anonymized', 'std_PC_cosine_sim_score_machine_human_anonymized']].astype(str).agg(' \\pm '.join, axis=1)\n",
    "\n",
    "output_df['Pearson_Correlation_Anonymized'] = mean_std_concat_pc\n",
    "\n",
    "mean_std_concat_sc = output_df[['mean_SC_cosine_sim_score_machine_human_anonymized', 'std_SC_cosine_sim_score_machine_human_anonymized']].astype(str).agg(' \\pm '.join, axis=1)\n",
    "\n",
    "output_df['Spearman_Correlation_Anonymized'] = mean_std_concat_sc"
   ]
  },
  {
   "cell_type": "code",
   "execution_count": null,
   "metadata": {
    "application/vnd.databricks.v1+cell": {
     "cellMetadata": {
      "byteLimit": 2048000,
      "rowLimit": 10000
     },
     "inputWidgets": {},
     "nuid": "c6bb05a2-24ac-4779-9086-884153941b3d",
     "showTitle": false,
     "tableResultSettingsMap": {},
     "title": ""
    }
   },
   "outputs": [],
   "source": [
    "display(output_df)"
   ]
  },
  {
   "cell_type": "code",
   "execution_count": null,
   "metadata": {
    "application/vnd.databricks.v1+cell": {
     "cellMetadata": {
      "byteLimit": 2048000,
      "rowLimit": 10000
     },
     "inputWidgets": {},
     "nuid": "4c88f378-5dd5-420e-909b-f0473f0bbd7e",
     "showTitle": false,
     "tableResultSettingsMap": {},
     "title": ""
    }
   },
   "outputs": [],
   "source": [
    "output_df = output_df[['model','SC_cosine_sim_score_machine_human','Spearman_Correlation_Anonymized','PC_cosine_sim_score_machine_human','Pearson_Correlation_Anonymized']]"
   ]
  },
  {
   "cell_type": "code",
   "execution_count": null,
   "metadata": {
    "application/vnd.databricks.v1+cell": {
     "cellMetadata": {
      "byteLimit": 2048000,
      "rowLimit": 10000
     },
     "inputWidgets": {},
     "nuid": "bd22aaa4-6bac-49b2-a8ef-6e4b399fb865",
     "showTitle": false,
     "tableResultSettingsMap": {},
     "title": ""
    }
   },
   "outputs": [],
   "source": [
    "latex_code = output_df.to_latex(index=False)"
   ]
  },
  {
   "cell_type": "code",
   "execution_count": null,
   "metadata": {
    "application/vnd.databricks.v1+cell": {
     "cellMetadata": {
      "byteLimit": 2048000,
      "rowLimit": 10000
     },
     "inputWidgets": {},
     "nuid": "204962a4-b63b-4857-931b-942dc7579d8c",
     "showTitle": false,
     "tableResultSettingsMap": {},
     "title": ""
    }
   },
   "outputs": [],
   "source": [
    "#\n",
    "print(latex_code)"
   ]
  },
  {
   "cell_type": "code",
   "execution_count": null,
   "metadata": {
    "application/vnd.databricks.v1+cell": {
     "cellMetadata": {
      "byteLimit": 2048000,
      "rowLimit": 10000
     },
     "inputWidgets": {},
     "nuid": "f2579d70-ca38-4e12-b566-d7741caf6c22",
     "showTitle": false,
     "tableResultSettingsMap": {},
     "title": ""
    }
   },
   "outputs": [],
   "source": [
    "#\n",
    "print(latex_code)"
   ]
  },
  {
   "cell_type": "markdown",
   "metadata": {
    "application/vnd.databricks.v1+cell": {
     "cellMetadata": {
      "byteLimit": 2048000,
      "rowLimit": 10000
     },
     "inputWidgets": {},
     "nuid": "4f59ab5e-d466-49fd-9101-b4b0ace72098",
     "showTitle": false,
     "tableResultSettingsMap": {},
     "title": ""
    }
   },
   "source": []
  }
 ],
 "metadata": {
  "application/vnd.databricks.v1+notebook": {
   "computePreferences": null,
   "dashboards": [],
   "environmentMetadata": {
    "base_environment": "",
    "environment_version": "1"
   },
   "language": "python",
   "notebookMetadata": {
    "pythonIndentUnit": 4
   },
   "notebookName": "STS_Task2_embed_and_evaluate",
   "widgets": {}
  },
  "kernelspec": {
   "display_name": "Python 3 (ipykernel)",
   "language": "python",
   "name": "python3"
  },
  "language_info": {
   "codemirror_mode": {
    "name": "ipython",
    "version": 3
   },
   "file_extension": ".py",
   "mimetype": "text/x-python",
   "name": "python",
   "nbconvert_exporter": "python",
   "pygments_lexer": "ipython3",
   "version": "3.12.11"
  }
 },
 "nbformat": 4,
 "nbformat_minor": 4
}
