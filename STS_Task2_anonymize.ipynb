{
 "cells": [
  {
   "cell_type": "code",
   "execution_count": null,
   "metadata": {
    "application/vnd.databricks.v1+cell": {
     "cellMetadata": {
      "byteLimit": 2048000,
      "rowLimit": 10000
     },
     "inputWidgets": {},
     "nuid": "a58c75b3-ca40-4061-b35e-476cf4932931",
     "showTitle": false,
     "tableResultSettingsMap": {},
     "title": ""
    }
   },
   "outputs": [],
   "source": [
    "#\n",
    "\n",
    "#\n",
    "from scipy.stats import spearmanr, pearsonr\n",
    "from sklearn.metrics.pairwise import cosine_similarity, euclidean_distances\n",
    "import seaborn as sns\n",
    "import pandas as pd\n",
    "import google.generativeai as genai\n",
    "import time\n",
    "import numpy as np\n",
    "import re\n",
    "from concurrent.futures import ThreadPoolExecutor\n",
    "from numpy import pad\n",
    "import json\n"
   ]
  },
  {
   "cell_type": "code",
   "execution_count": null,
   "metadata": {
    "application/vnd.databricks.v1+cell": {
     "cellMetadata": {
      "byteLimit": 2048000,
      "rowLimit": 10000
     },
     "inputWidgets": {},
     "nuid": "3814d4db-0b49-4563-b0a4-a42af6905bb1",
     "showTitle": false,
     "tableResultSettingsMap": {},
     "title": ""
    }
   },
   "outputs": [],
   "source": [
    "%run ./config.ipynb"
   ]
  },
  {
   "cell_type": "code",
   "execution_count": null,
   "metadata": {
    "application/vnd.databricks.v1+cell": {
     "cellMetadata": {
      "byteLimit": 2048000,
      "rowLimit": 10000
     },
     "inputWidgets": {},
     "nuid": "1140089c-ec9d-4cd8-9b7d-e683252a4a2f",
     "showTitle": false,
     "tableResultSettingsMap": {},
     "title": ""
    }
   },
   "outputs": [],
   "source": [
    "device='cpu'"
   ]
  },
  {
   "cell_type": "code",
   "execution_count": null,
   "metadata": {
    "application/vnd.databricks.v1+cell": {
     "cellMetadata": {
      "byteLimit": 2048000,
      "rowLimit": 10000
     },
     "inputWidgets": {},
     "nuid": "7f2bee77-c934-4876-ad56-f701209a0a32",
     "showTitle": false,
     "tableResultSettingsMap": {},
     "title": ""
    }
   },
   "outputs": [],
   "source": [
    "%run ./utils.ipynb"
   ]
  },
  {
   "cell_type": "code",
   "execution_count": null,
   "metadata": {
    "application/vnd.databricks.v1+cell": {
     "cellMetadata": {
      "byteLimit": 2048000,
      "rowLimit": 10000
     },
     "inputWidgets": {},
     "nuid": "3b815e0d-af58-449d-b667-e3e08d3385d6",
     "showTitle": false,
     "tableResultSettingsMap": {},
     "title": ""
    }
   },
   "outputs": [],
   "source": [
    "BASEPATH = \"STS_summary\""
   ]
  },
  {
   "cell_type": "code",
   "execution_count": null,
   "metadata": {
    "application/vnd.databricks.v1+cell": {
     "cellMetadata": {
      "byteLimit": 2048000,
      "rowLimit": 10000
     },
     "inputWidgets": {},
     "nuid": "f50aae5e-7c7e-4808-889d-39fb4159e0b5",
     "showTitle": false,
     "tableResultSettingsMap": {},
     "title": ""
    }
   },
   "outputs": [],
   "source": [
    "df = pd.read_pickle(f'{BASEPATH}/hum_mac_summ_data.pkl')"
   ]
  },
  {
   "cell_type": "code",
   "execution_count": null,
   "metadata": {
    "application/vnd.databricks.v1+cell": {
     "cellMetadata": {
      "byteLimit": 2048000,
      "rowLimit": 10000
     },
     "inputWidgets": {},
     "nuid": "21fdd9dd-2ab4-417b-b5c5-8c35c7c8ea8a",
     "showTitle": false,
     "tableResultSettingsMap": {},
     "title": ""
    }
   },
   "outputs": [],
   "source": [
    "df['text_wc'] = df['text'].apply(lambda x: len(x.split()))\n",
    "display(df[['text_wc', 'text']])"
   ]
  },
  {
   "cell_type": "code",
   "execution_count": null,
   "metadata": {
    "application/vnd.databricks.v1+cell": {
     "cellMetadata": {
      "byteLimit": 2048000,
      "rowLimit": 10000
     },
     "inputWidgets": {},
     "nuid": "f4f4ce32-cce0-4a5e-b374-2bac2dc45996",
     "showTitle": false,
     "tableResultSettingsMap": {},
     "title": ""
    }
   },
   "outputs": [],
   "source": [
    "df = df.drop(columns=['human_summaries_delocalized', 'machine_summaries_delocalized', 'text_deloc', 'text_wc'])"
   ]
  },
  {
   "cell_type": "code",
   "execution_count": null,
   "metadata": {
    "application/vnd.databricks.v1+cell": {
     "cellMetadata": {
      "byteLimit": 2048000,
      "rowLimit": 10000
     },
     "inputWidgets": {},
     "nuid": "295bb3bf-dc60-4cd8-a9a4-c74214663df5",
     "showTitle": false,
     "tableResultSettingsMap": {},
     "title": ""
    }
   },
   "outputs": [],
   "source": [
    "len(df)"
   ]
  },
  {
   "cell_type": "code",
   "execution_count": null,
   "metadata": {
    "application/vnd.databricks.v1+cell": {
     "cellMetadata": {
      "byteLimit": 2048000,
      "rowLimit": 10000
     },
     "inputWidgets": {},
     "nuid": "4c77418b-9df7-4cca-9331-aa4338cf6a86",
     "showTitle": false,
     "tableResultSettingsMap": {},
     "title": ""
    }
   },
   "outputs": [],
   "source": [
    "#\n",
    "df_cop = df.copy()\n",
    "df_cop = df_cop.sample(frac=1, random_state=3).reset_index(drop=True)"
   ]
  },
  {
   "cell_type": "code",
   "execution_count": null,
   "metadata": {
    "application/vnd.databricks.v1+cell": {
     "cellMetadata": {
      "byteLimit": 2048000,
      "rowLimit": 10000
     },
     "inputWidgets": {},
     "nuid": "42041a8f-3b1d-4887-8303-790dc554f04d",
     "showTitle": false,
     "tableResultSettingsMap": {},
     "title": ""
    }
   },
   "outputs": [],
   "source": [
    "\n",
    "LLM_FOR_ANONYMIZATION =  ['gemini'] #['sonnet','gemini']"
   ]
  },
  {
   "cell_type": "code",
   "execution_count": null,
   "metadata": {
    "application/vnd.databricks.v1+cell": {
     "cellMetadata": {
      "byteLimit": 2048000,
      "rowLimit": 10000
     },
     "inputWidgets": {},
     "nuid": "469131a3-65cd-4029-a2c7-0e83df1b9423",
     "showTitle": false,
     "tableResultSettingsMap": {},
     "title": ""
    }
   },
   "outputs": [],
   "source": [
    "\n",
    "\n",
    "def process_row(row, llm_used, delay, REPLACEMENT_OR_REMOVAL=None):\n",
    "    row = row._asdict()  # Convert namedtuple to dictionary\n",
    "    row[f'machine_summaries_anonymized_{llm_used}'] = machine_summary_anon(row, llm_used, delay, REPLACEMENT_OR_REMOVAL = REPLACEMENT_OR_REMOVAL)\n",
    "    row[f'machine_summaries_anonymized_{llm_used}'] = [get_text_after_modified_text(text) for text in row[f'machine_summaries_anonymized_{llm_used}']]\n",
    "\n",
    "    print('*** HUMAN')\n",
    "    row[f'human_summaries_anonymized_{llm_used}'] = human_summary_anon(row, llm_used, delay, REPLACEMENT_OR_REMOVAL=REPLACEMENT_OR_REMOVAL)\n",
    "    row[f'human_summaries_anonymized_{llm_used}'] = [get_text_after_modified_text(text) for text in row[f'human_summaries_anonymized_{llm_used}']]\n",
    "    return row\n",
    "\n",
    "\n",
    "for llm_used in LLM_FOR_ANONYMIZATION:\n",
    "    print('llm_used', llm_used)\n",
    "\n",
    "    for REPLACEMENT_OR_REMOVAL in ['REMOVAL']:\n",
    "    \n",
    "        print('REPLACEMENT_OR_REMOVAL ', REPLACEMENT_OR_REMOVAL)\n",
    "\n",
    "        print('Anonymization started ')\n",
    "        delay = 6 if llm_used == 'gemini' else 5\n",
    "\n",
    "        num_workers = 1 #if llm_used == 'gemini' else 1\n",
    "\n",
    "        with ThreadPoolExecutor(max_workers=num_workers) as executor:\n",
    "            results = list(executor.map(lambda row: process_row(row, llm_used, delay, REPLACEMENT_OR_REMOVAL), df_cop.itertuples(index=False)))\n",
    "\n",
    "        df_cop = pd.DataFrame(results)\n",
    "        # df_cop =df_cop.head(1)\n",
    "        df_cop.to_pickle(f'{BASEPATH}/hum_mac_summ_data_anonymized_LLM_used_{llm_used}_{REPLACEMENT_OR_REMOVAL}.pkl') \n",
    "\n",
    "        display(df_cop)"
   ]
  },
  {
   "cell_type": "code",
   "execution_count": null,
   "metadata": {
    "application/vnd.databricks.v1+cell": {
     "cellMetadata": {
      "byteLimit": 2048000,
      "rowLimit": 10000
     },
     "inputWidgets": {},
     "nuid": "0957b80e-e078-4799-9507-5e8aced3ae97",
     "showTitle": false,
     "tableResultSettingsMap": {},
     "title": ""
    }
   },
   "outputs": [],
   "source": [
    "display(df_cop)"
   ]
  }
 ],
 "metadata": {
  "application/vnd.databricks.v1+notebook": {
   "computePreferences": null,
   "dashboards": [],
   "environmentMetadata": {
    "base_environment": "",
    "environment_version": "1"
   },
   "language": "python",
   "notebookMetadata": {
    "pythonIndentUnit": 4
   },
   "notebookName": "STS_Task2_anonymize",
   "widgets": {}
  },
  "kernelspec": {
   "display_name": "Python 3 (ipykernel)",
   "language": "python",
   "name": "python3"
  },
  "language_info": {
   "codemirror_mode": {
    "name": "ipython",
    "version": 3
   },
   "file_extension": ".py",
   "mimetype": "text/x-python",
   "name": "python",
   "nbconvert_exporter": "python",
   "pygments_lexer": "ipython3",
   "version": "3.12.11"
  }
 },
 "nbformat": 4,
 "nbformat_minor": 4
}
