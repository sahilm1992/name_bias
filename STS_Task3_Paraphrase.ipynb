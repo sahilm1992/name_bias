{
 "cells": [
  {
   "cell_type": "code",
   "execution_count": null,
   "metadata": {
    "application/vnd.databricks.v1+cell": {
     "cellMetadata": {
      "byteLimit": 2048000,
      "rowLimit": 10000
     },
     "inputWidgets": {},
     "nuid": "33dee775-3a57-42a0-8674-6b0d0acf3b3c",
     "showTitle": false,
     "tableResultSettingsMap": {},
     "title": ""
    },
    "id": "m5waeUUfmWy1"
   },
   "outputs": [],
   "source": [
    "#"
   ]
  },
  {
   "cell_type": "code",
   "execution_count": null,
   "metadata": {
    "application/vnd.databricks.v1+cell": {
     "cellMetadata": {
      "byteLimit": 2048000,
      "rowLimit": 10000
     },
     "inputWidgets": {},
     "nuid": "ddf0b236-92d3-4b9b-b57b-44138836a10f",
     "showTitle": false,
     "tableResultSettingsMap": {},
     "title": ""
    },
    "id": "ygvds894mWy2"
   },
   "outputs": [],
   "source": [
    "#"
   ]
  },
  {
   "cell_type": "code",
   "execution_count": null,
   "metadata": {
    "application/vnd.databricks.v1+cell": {
     "cellMetadata": {
      "byteLimit": 2048000,
      "rowLimit": 10000
     },
     "inputWidgets": {},
     "nuid": "ff72a1bf-b10f-48e2-b0a6-265d19176ef2",
     "showTitle": false,
     "tableResultSettingsMap": {},
     "title": ""
    },
    "id": "67nlmixxmWy3"
   },
   "outputs": [],
   "source": [
    "import pandas as pd\n",
    "\n",
    "import torch\n",
    "import numpy as np\n",
    "from numpy import pad\n",
    "import pickle, os\n",
    "from scipy.stats import spearmanr, pearsonr\n",
    "from sklearn.metrics.pairwise import cosine_similarity, euclidean_distances\n",
    "\n",
    "import time\n",
    "import json\n",
    "import pandas as pd\n",
    "from sklearn.metrics import roc_auc_score\n"
   ]
  },
  {
   "cell_type": "code",
   "execution_count": null,
   "metadata": {
    "application/vnd.databricks.v1+cell": {
     "cellMetadata": {
      "byteLimit": 2048000,
      "rowLimit": 10000
     },
     "inputWidgets": {},
     "nuid": "a7d29e2f-fb44-40ab-b9d7-cc493d9014a9",
     "showTitle": false,
     "tableResultSettingsMap": {},
     "title": ""
    },
    "id": "QyxneeLsmWy3"
   },
   "outputs": [],
   "source": []
  },
  {
   "cell_type": "code",
   "execution_count": null,
   "metadata": {
    "application/vnd.databricks.v1+cell": {
     "cellMetadata": {
      "byteLimit": 2048000,
      "rowLimit": 10000
     },
     "inputWidgets": {},
     "nuid": "90302ad8-c386-42b4-85ca-742156c383f0",
     "showTitle": false,
     "tableResultSettingsMap": {},
     "title": ""
    },
    "id": "8aYdily-mWy4"
   },
   "outputs": [],
   "source": [
    "\n",
    "device='cpu'\n",
    "sentence_transformer_models_dict = {}"
   ]
  },
  {
   "cell_type": "code",
   "execution_count": null,
   "metadata": {
    "colab": {
     "base_uri": "https://localhost:8080/"
    },
    "id": "8GdPHFxHoGxn",
    "outputId": "1329231f-2fdb-4378-9497-8d51903f761a"
   },
   "outputs": [],
   "source": [
    "!pwd"
   ]
  },
  {
   "cell_type": "code",
   "execution_count": null,
   "metadata": {
    "application/vnd.databricks.v1+cell": {
     "cellMetadata": {
      "byteLimit": 2048000,
      "rowLimit": 10000
     },
     "inputWidgets": {},
     "nuid": "7f2bee77-c934-4876-ad56-f701209a0a32",
     "showTitle": false,
     "tableResultSettingsMap": {},
     "title": ""
    },
    "id": "V4FbaXu9mWy4"
   },
   "outputs": [],
   "source": [
    "%run utils.ipynb"
   ]
  },
  {
   "cell_type": "code",
   "execution_count": null,
   "metadata": {
    "application/vnd.databricks.v1+cell": {
     "cellMetadata": {
      "byteLimit": 2048000,
      "rowLimit": 10000
     },
     "inputWidgets": {},
     "nuid": "8b62e72b-a295-493f-b9fa-3b1e9d7a8eee",
     "showTitle": false,
     "tableResultSettingsMap": {},
     "title": ""
    },
    "id": "gLH-QEvZmWy5"
   },
   "outputs": [],
   "source": [
    "%run config.ipynb"
   ]
  },
  {
   "cell_type": "code",
   "execution_count": null,
   "metadata": {
    "application/vnd.databricks.v1+cell": {
     "cellMetadata": {
      "byteLimit": 2048000,
      "rowLimit": 10000
     },
     "inputWidgets": {},
     "nuid": "20717582-2f5f-4ba0-aa22-a6a582bdc6dc",
     "showTitle": false,
     "tableResultSettingsMap": {},
     "title": ""
    },
    "id": "_63-sPxJmWy5"
   },
   "outputs": [],
   "source": [
    "EVAL_MODEL_LIST = ['all-mpnet-base-v2','all-distilroberta-v1','all-MiniLM-L6-v2', 'gemini','multi-qa-distilbert-cos-v1','paraphrase-MiniLM-L6-v2','distiluse-base-multilingual-cased-v1','distiluse-base-multilingual-cased-v2','paraphrase-multilingual-MiniLM-L12-v2','msmarco-distilbert-cos-v5','multi-qa-mpnet-base-cos-v1','text-embedding-3-small','text-embedding-3-large','voyage-3-lite'] #'meta-llama/Llama-2-7b-chat-h\n",
    "# EVAL_MODEL_LIST =['all-mpnet-base-v2']# ['all-mpnet-base-v2','paraphrase-multilingual-MiniLM-L12-v2']\n",
    "EVAL_MODEL_LIST+=['thenlper/gte-large','thenlper/gte-base','intfloat/e5-base-v2','embaas/sentence-transformers-e5-large-v2']#,'jinaai/jina-embeddings-v2-base-en']\n",
    "\n",
    "# EVAL_MODEL_LIST = ['Mistral']"
   ]
  },
  {
   "cell_type": "code",
   "execution_count": null,
   "metadata": {
    "application/vnd.databricks.v1+cell": {
     "cellMetadata": {
      "byteLimit": 2048000,
      "rowLimit": 10000
     },
     "inputWidgets": {},
     "nuid": "0c50f5e8-9ad1-4780-a8fe-55f020a5aa86",
     "showTitle": false,
     "tableResultSettingsMap": {},
     "title": ""
    },
    "id": "nRfWH226mWy5"
   },
   "outputs": [],
   "source": [
    "BASEPATH = \"STS_benchmark_paraphrase\""
   ]
  },
  {
   "cell_type": "code",
   "execution_count": null,
   "metadata": {
    "application/vnd.databricks.v1+cell": {
     "cellMetadata": {
      "byteLimit": 2048000,
      "rowLimit": 10000
     },
     "inputWidgets": {},
     "nuid": "8820ef71-bdb4-4f8b-95c6-36f821da28d1",
     "showTitle": false,
     "tableResultSettingsMap": {},
     "title": ""
    },
    "id": "A7CE1VSImWy5"
   },
   "outputs": [],
   "source": [
    "REPLACEMENT_OR_REMOVAL = 'REMOVAL'"
   ]
  },
  {
   "cell_type": "code",
   "execution_count": null,
   "metadata": {
    "application/vnd.databricks.v1+cell": {
     "cellMetadata": {
      "byteLimit": 2048000,
      "rowLimit": 10000
     },
     "inputWidgets": {},
     "nuid": "239f8ad9-6fb6-4441-b0e1-ede27e381a36",
     "showTitle": false,
     "tableResultSettingsMap": {},
     "title": ""
    },
    "id": "sox5-dAfmWy6"
   },
   "outputs": [],
   "source": [
    "#\n",
    "LLM_FOR_ANONYMIZATION =['gemini']   # ['sonnet','']"
   ]
  },
  {
   "cell_type": "code",
   "execution_count": null,
   "metadata": {
    "application/vnd.databricks.v1+cell": {
     "cellMetadata": {
      "byteLimit": 2048000,
      "rowLimit": 10000
     },
     "inputWidgets": {},
     "nuid": "7a9cfac7-6c2f-4e70-ac7e-3219a0bf009f",
     "showTitle": false,
     "tableResultSettingsMap": {},
     "title": ""
    },
    "id": "kacNP1vSmWy6"
   },
   "outputs": [],
   "source": [
    "dataset_name = 'mrpc'"
   ]
  },
  {
   "cell_type": "code",
   "execution_count": null,
   "metadata": {
    "application/vnd.databricks.v1+cell": {
     "cellMetadata": {
      "byteLimit": 2048000,
      "rowLimit": 10000
     },
     "inputWidgets": {},
     "nuid": "15d923b2-1eea-4966-bcb9-feef04f9ccf7",
     "showTitle": false,
     "tableResultSettingsMap": {},
     "title": ""
    },
    "colab": {
     "base_uri": "https://localhost:8080/",
     "height": 424
    },
    "id": "rD_jvv7ymWy6",
    "outputId": "026ffeae-ce3d-4d2a-8df7-c53ec22ccbbb"
   },
   "outputs": [],
   "source": [
    "\n",
    "df_all = pd.read_pickle(f'{BASEPATH}/pd_dataset_contains_person_name_{dataset_name}.pkl')\n",
    "display(df_all)"
   ]
  },
  {
   "cell_type": "code",
   "execution_count": null,
   "metadata": {
    "application/vnd.databricks.v1+cell": {
     "cellMetadata": {
      "byteLimit": 2048000,
      "rowLimit": 10000
     },
     "inputWidgets": {},
     "nuid": "dcf45542-8801-4b8e-9f27-db418d7177c4",
     "showTitle": false,
     "tableResultSettingsMap": {},
     "title": ""
    },
    "colab": {
     "base_uri": "https://localhost:8080/"
    },
    "id": "uGdO5CO6mWy6",
    "outputId": "f03b0f44-924c-4551-ad71-5b0312756d5e"
   },
   "outputs": [],
   "source": [
    "len(df_all)"
   ]
  },
  {
   "cell_type": "code",
   "execution_count": null,
   "metadata": {
    "application/vnd.databricks.v1+cell": {
     "cellMetadata": {
      "byteLimit": 2048000,
      "rowLimit": 10000
     },
     "inputWidgets": {},
     "nuid": "1068857b-85aa-4a30-a077-0af410da3b6b",
     "showTitle": false,
     "tableResultSettingsMap": {},
     "title": ""
    },
    "id": "-wvSafAimWy7"
   },
   "outputs": [],
   "source": [
    "\n",
    "# \"['REPLACEMENT', 'REMOVAL']:\n",
    "for REPLACEMENT_OR_REMOVAL in  ['REMOVAL']:\n",
    "\n",
    "    for llm_used in  LLM_FOR_ANONYMIZATION:\n",
    "        if llm_used == 'gemini':\n",
    "            delay=1\n",
    "            num_workers = 1\n",
    "        else:\n",
    "            num_workers = 3\n",
    "            delay =0\n",
    "\n",
    "\n",
    "        with ThreadPoolExecutor(max_workers=num_workers) as executor:\n",
    "\n",
    "            print('s1')\n",
    "            df_all[f'anon_story1_llm_used_{llm_used}_{REPLACEMENT_OR_REMOVAL}'] = list(executor.map(lambda row: text_anon({'text': row}, model=llm_used, delay=delay, REPLACEMENT_OR_REMOVAL=REPLACEMENT_OR_REMOVAL), df_all['sentence1']))\n",
    "\n",
    "\n",
    "            print('s2')\n",
    "            df_all[f'anon_story2_llm_used_{llm_used}_{REPLACEMENT_OR_REMOVAL}'] = list(executor.map(lambda row: text_anon({'text': row},model=llm_used, delay=delay, REPLACEMENT_OR_REMOVAL=REPLACEMENT_OR_REMOVAL), df_all['sentence2']))\n"
   ]
  },
  {
   "cell_type": "code",
   "execution_count": null,
   "metadata": {
    "application/vnd.databricks.v1+cell": {
     "cellMetadata": {
      "byteLimit": 2048000,
      "rowLimit": 10000
     },
     "inputWidgets": {},
     "nuid": "f8a5d6fb-e204-4619-be69-a702ce2d0428",
     "showTitle": false,
     "tableResultSettingsMap": {},
     "title": ""
    },
    "id": "DdNLXFLFmWy7"
   },
   "outputs": [],
   "source": [
    "display(df_all)"
   ]
  },
  {
   "cell_type": "code",
   "execution_count": null,
   "metadata": {
    "application/vnd.databricks.v1+cell": {
     "cellMetadata": {
      "byteLimit": 2048000,
      "rowLimit": 10000
     },
     "inputWidgets": {},
     "nuid": "11b53dd8-e12f-4773-ba28-93a3e869b7ee",
     "showTitle": false,
     "tableResultSettingsMap": {},
     "title": ""
    },
    "id": "pmrb5R9EmWy7"
   },
   "outputs": [],
   "source": [
    "df_all.to_pickle(f'{BASEPATH}/sts_benchmark_dataset_anon_{dataset_name}.pkl')"
   ]
  },
  {
   "cell_type": "code",
   "execution_count": null,
   "metadata": {
    "application/vnd.databricks.v1+cell": {
     "cellMetadata": {
      "byteLimit": 2048000,
      "rowLimit": 10000
     },
     "inputWidgets": {},
     "nuid": "4ac93b81-981b-4c1e-8d5c-c6500fd9eaa7",
     "showTitle": false,
     "tableResultSettingsMap": {},
     "title": ""
    },
    "id": "abIeA_IZmWy7"
   },
   "outputs": [],
   "source": [
    "df_all = pd.read_pickle(f\"{BASEPATH}/sts_benchmark_dataset_anon_{dataset_name}.pkl\")"
   ]
  },
  {
   "cell_type": "code",
   "execution_count": null,
   "metadata": {
    "application/vnd.databricks.v1+cell": {
     "cellMetadata": {
      "byteLimit": 2048000,
      "rowLimit": 10000
     },
     "inputWidgets": {},
     "nuid": "76ca5309-7282-493d-b859-9b6e03b077a9",
     "showTitle": false,
     "tableResultSettingsMap": {},
     "title": ""
    },
    "id": "fdcVbnugmWy7"
   },
   "outputs": [],
   "source": [
    "# ['REPLACEMENT', 'REMOVAL']:\n",
    "\n",
    "for REPLACEMENT_OR_REMOVAL in ['REMOVAL']: #['REPLACEMENT']:\n",
    "\n",
    "    for llm_used in LLM_FOR_ANONYMIZATION:\n",
    "\n",
    "        df_all[f'anon_story1_llm_used_{llm_used}_{REPLACEMENT_OR_REMOVAL}'] = df_all[f'anon_story1_llm_used_{llm_used}_{REPLACEMENT_OR_REMOVAL}'].apply(get_text_after_modified_text)\n",
    "        df_all[f'anon_story2_llm_used_{llm_used}_{REPLACEMENT_OR_REMOVAL}'] = df_all[f'anon_story2_llm_used_{llm_used}_{REPLACEMENT_OR_REMOVAL}'].apply(get_text_after_modified_text)\n",
    "\n",
    "\n",
    "        df_all['sentence1_length'] = df_all['sentence1'].apply(lambda x: len(x.split()))\n",
    "        df_all['sentence2_length'] = df_all['sentence2'].apply(lambda x: len(x.split()))\n",
    "\n",
    "        df_all[f'anon_story1_length_llm_used_{llm_used}_{REPLACEMENT_OR_REMOVAL}'] = df_all[f'anon_story1_llm_used_{llm_used}_{REPLACEMENT_OR_REMOVAL}'].apply(lambda x: len(x.split()))\n",
    "        df_all[f'anon_story2_length_llm_used_{llm_used}_{REPLACEMENT_OR_REMOVAL}'] = df_all[f'anon_story2_llm_used_{llm_used}_{REPLACEMENT_OR_REMOVAL}'].apply(lambda x: len(x.split()))\n",
    "\n"
   ]
  },
  {
   "cell_type": "code",
   "execution_count": null,
   "metadata": {
    "application/vnd.databricks.v1+cell": {
     "cellMetadata": {
      "byteLimit": 2048000,
      "rowLimit": 10000
     },
     "inputWidgets": {},
     "nuid": "9c99bd71-cea4-4c52-8bc1-5fd084a9aa1c",
     "showTitle": false,
     "tableResultSettingsMap": {},
     "title": ""
    },
    "colab": {
     "base_uri": "https://localhost:8080/",
     "height": 1000
    },
    "id": "a88aTeCNmWy7",
    "outputId": "7e7971ae-2261-4f02-84e8-b185c183656a"
   },
   "outputs": [],
   "source": [
    "display(df_all.head(10))"
   ]
  },
  {
   "cell_type": "code",
   "execution_count": null,
   "metadata": {
    "application/vnd.databricks.v1+cell": {
     "cellMetadata": {
      "byteLimit": 2048000,
      "rowLimit": 10000
     },
     "inputWidgets": {},
     "nuid": "9e155e75-5c9d-4319-be46-22d3817d8103",
     "showTitle": false,
     "tableResultSettingsMap": {},
     "title": ""
    },
    "colab": {
     "base_uri": "https://localhost:8080/"
    },
    "id": "mbCipngWmWy8",
    "outputId": "53bac10b-9200-490c-8206-b1e186693997"
   },
   "outputs": [],
   "source": [
    "EVAL_MODEL_LIST"
   ]
  },
  {
   "cell_type": "code",
   "execution_count": null,
   "metadata": {
    "application/vnd.databricks.v1+cell": {
     "cellMetadata": {
      "byteLimit": 2048000,
      "rowLimit": 10000
     },
     "inputWidgets": {},
     "nuid": "13b1fcfb-512e-4022-9bb7-8cd7b03a175f",
     "showTitle": false,
     "tableResultSettingsMap": {},
     "title": ""
    },
    "id": "wHEbZmSRmWy8"
   },
   "outputs": [],
   "source": []
  },
  {
   "cell_type": "code",
   "execution_count": null,
   "metadata": {
    "application/vnd.databricks.v1+cell": {
     "cellMetadata": {
      "byteLimit": 2048000,
      "rowLimit": 10000
     },
     "inputWidgets": {},
     "nuid": "363b4d75-03c2-44bb-9ac9-e3572db177ab",
     "showTitle": false,
     "tableResultSettingsMap": {},
     "title": ""
    },
    "colab": {
     "base_uri": "https://localhost:8080/",
     "height": 1000
    },
    "id": "0WwaRZhlmWy8",
    "outputId": "630da071-9a77-4edb-b193-87ff3fcd836c"
   },
   "outputs": [],
   "source": [
    "display(df_all)"
   ]
  },
  {
   "cell_type": "code",
   "execution_count": null,
   "metadata": {
    "application/vnd.databricks.v1+cell": {
     "cellMetadata": {
      "byteLimit": 2048000,
      "rowLimit": 10000
     },
     "inputWidgets": {},
     "nuid": "b2abc20e-8b2d-4c1b-8bdd-eee3e9cabce1",
     "showTitle": false,
     "tableResultSettingsMap": {},
     "title": ""
    },
    "colab": {
     "base_uri": "https://localhost:8080/"
    },
    "id": "tek02srtmWy9",
    "outputId": "98a50df4-d871-40f0-b2ae-318bda921657"
   },
   "outputs": [],
   "source": [
    "#\n",
    "\n",
    "dict_model_wise = {}\n",
    "for llm_used in LLM_FOR_ANONYMIZATION:\n",
    "\n",
    "    correlation_df_llm_wise = pd.DataFrame(columns=['model', f'auc_roc_s1_s2',f'auc_roc_s1_s2_anonymized_llm_used_{llm_used}', f'SC_cosine_sim_score_s1_s2', f'SC_cosine_sim_score_s1_s2_anonymized_llm_used_{llm_used}','PC_cosine_sim_score_s1_s2', f'PC_cosine_sim_score_s1_s2_anonymized_llm_used_{llm_used}'])\n",
    "\n",
    "    df_cop = df_all         #[df_all.sentence1_length >25]\n",
    "\n",
    "    print('len ', len(df_cop))\n",
    "    print('llm_used ', llm_used)\n",
    "\n",
    "    REPLACEMENT_OR_REMOVAL = 'REMOVAL'\n",
    "\n",
    "    for model_name in EVAL_MODEL_LIST:\n",
    "\n",
    "        df_model = df_cop.copy()\n",
    "        print('model_name ', model_name)\n",
    "        print('machine summary')\n",
    "\n",
    "        df_model[f'embedding_story1'] = np.array(embed_content(df_model['sentence1'].tolist(), model=model_name)).squeeze().tolist()\n",
    "        df_model[f'embedding_story2'] = np.array(embed_content(df_model['sentence2'].tolist(), model=model_name)).squeeze().tolist()\n",
    "\n",
    "\n",
    "        df_model[f'embedding_story1_anonymized_{model_name}_llm_used_{llm_used}'] = np.array(\n",
    "            embed_content(df_model[f'anon_story1_llm_used_{llm_used}_{REPLACEMENT_OR_REMOVAL}'].tolist(), model=model_name)\n",
    "        ).squeeze().tolist()\n",
    "\n",
    "        df_model[f'embedding_story2_anonymized_{model_name}_llm_used_{llm_used}'] = np.array(\n",
    "            embed_content(df_model[f'anon_story2_llm_used_{llm_used}_{REPLACEMENT_OR_REMOVAL}'].tolist(), model=model_name)\n",
    "        ).squeeze().tolist()\n",
    "\n",
    "\n",
    "\n",
    "        df_model['cosine_sim_story1_2'] = df_model.apply(lambda row: cosine_similarity(\n",
    "        [np.array(row['embedding_story1'])], [np.array(row['embedding_story2'])])[0][0], axis=1)\n",
    "\n",
    "\n",
    "        df_model[f'cosine_sim_story1_2_anon_llm_used_{llm_used}'] = df_model.apply(lambda row: cosine_similarity(\n",
    "        [np.array(row[f'embedding_story1_anonymized_{model_name}_llm_used_{llm_used}'])], [np.array(row[f'embedding_story2_anonymized_{model_name}_llm_used_{llm_used}'])])[0][0], axis=1)\n",
    "\n",
    "\n",
    "\n",
    "        # # Extract the required columns as arrays\n",
    "        cosine_sim_score_anon_s1_s2 = df_model[f'cosine_sim_story1_2_anon_llm_used_{llm_used}'].explode().values\n",
    "        cosine_sim_score_s1_s2 = df_model['cosine_sim_story1_2'].explode().values\n",
    "        relevance_s1_s2 = df_model['label'].explode().values\n",
    "\n",
    "        # # Compute Spearman and Pearson correlation between cosine_sim_score_anon and relevance\n",
    "        spearman_corr_anon_relevance_s1_s2, _ = spearmanr(cosine_sim_score_anon_s1_s2, relevance_s1_s2)\n",
    "        pearson_corr_anon_relevance_s1_s2, _ = pearsonr(cosine_sim_score_anon_s1_s2, relevance_s1_s2)\n",
    "\n",
    "        # Compute Spearman and Pearson correlation between cosine_sim_score and relevance\n",
    "        spearman_corr_cosine_relevance_s1_s2, _ = spearmanr(cosine_sim_score_s1_s2, relevance_s1_s2)\n",
    "        pearson_corr_cosine_relevance_s1_s2, _ = pearsonr(cosine_sim_score_s1_s2, relevance_s1_s2)\n",
    "\n",
    "\n",
    "\n",
    "        # # display(correlation_df)\n",
    "\n",
    "        # print('llm used', llm_used)\n",
    "        # print('->>>model ', model_name)\n",
    "        print('::spearman_corr_cosine_relevance_s1_s2 ', spearman_corr_cosine_relevance_s1_s2)\n",
    "        print('spearman_corr_anonymized_relevance_s1_s2 ', spearman_corr_anon_relevance_s1_s2)\n",
    "\n",
    "        print('pearson_corr_cosine_relevance_s1_s2',pearson_corr_cosine_relevance_s1_s2 )\n",
    "        print('pearson_corr_anonymized_relevance_s1_s2', pearson_corr_anon_relevance_s1_s2 )\n",
    "\n",
    "\n",
    "\n",
    "\n",
    "        # Assuming df_model is a pandas DataFrame and 'label' is the true labels column\n",
    "        # and 'cosine_sim_story1_2_anon_llm_used_cohere' is the predicted scores column\n",
    "        y_true = df_model['label']\n",
    "        y_scores_orig = df_model['cosine_sim_story1_2']\n",
    "\n",
    "        y_scores_anon = df_model['cosine_sim_story1_2_anon_llm_used_cohere']\n",
    "\n",
    "        auc_roc_anon = roc_auc_score(y_true, y_scores_anon)\n",
    "        auc_roc_orig = roc_auc_score(y_true, y_scores_orig)\n",
    "        print('auc_roc_orig', auc_roc_orig)\n",
    "        print('auc_roc_anon ', auc_roc_anon)\n",
    "\n",
    "        dict_model_wise[model_name] = df_model\n",
    "\n",
    "\n"
   ]
  },
  {
   "cell_type": "code",
   "execution_count": null,
   "metadata": {
    "colab": {
     "base_uri": "https://localhost:8080/"
    },
    "id": "zaUVEBGX2dNp",
    "outputId": "7bf164ee-0365-41cb-c63e-6ef16572804e"
   },
   "outputs": [],
   "source": [
    "len(y_scores_anon), len(y_true)"
   ]
  },
  {
   "cell_type": "code",
   "execution_count": null,
   "metadata": {
    "id": "R6-1lmGE1YBS"
   },
   "outputs": [],
   "source": [
    "pd.set_option('display.max_colwidth', None)"
   ]
  },
  {
   "cell_type": "markdown",
   "metadata": {
    "id": "y8egSsPf1dRj"
   },
   "source": [
    "dict_model_wise"
   ]
  },
  {
   "cell_type": "code",
   "execution_count": null,
   "metadata": {
    "colab": {
     "base_uri": "https://localhost:8080/",
     "height": 1000
    },
    "id": "H7mk5N5Y1FO7",
    "outputId": "6f7ecac4-0d46-4752-e885-7419bd32e37b"
   },
   "outputs": [],
   "source": [
    "display(df_model[['label','cosine_sim_story1_2','cosine_sim_story1_2_anon_llm_used_cohere']].tail(40))"
   ]
  },
  {
   "cell_type": "code",
   "execution_count": null,
   "metadata": {
    "id": "-8IhjXF7cWZb"
   },
   "outputs": [],
   "source": []
  }
 ],
 "metadata": {
  "application/vnd.databricks.v1+notebook": {
   "computePreferences": null,
   "dashboards": [],
   "environmentMetadata": {
    "base_environment": "",
    "environment_version": "1"
   },
   "inputWidgetPreferences": null,
   "language": "python",
   "notebookMetadata": {
    "pythonIndentUnit": 4
   },
   "notebookName": "rebuttal_paraphrase_expt_computation",
   "widgets": {}
  },
  "colab": {
   "provenance": []
  },
  "kernelspec": {
   "display_name": "Python 3 (ipykernel)",
   "language": "python",
   "name": "python3"
  },
  "language_info": {
   "codemirror_mode": {
    "name": "ipython",
    "version": 3
   },
   "file_extension": ".py",
   "mimetype": "text/x-python",
   "name": "python",
   "nbconvert_exporter": "python",
   "pygments_lexer": "ipython3",
   "version": "3.12.11"
  }
 },
 "nbformat": 4,
 "nbformat_minor": 4
}
