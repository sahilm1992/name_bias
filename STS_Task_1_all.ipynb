{
 "cells": [
  {
   "cell_type": "code",
   "execution_count": null,
   "metadata": {
    "application/vnd.databricks.v1+cell": {
     "cellMetadata": {
      "byteLimit": 2048000,
      "rowLimit": 10000
     },
     "inputWidgets": {},
     "nuid": "21affe68-d844-40c3-b928-4186a2a0db00",
     "showTitle": false,
     "tableResultSettingsMap": {},
     "title": ""
    },
    "id": "t-nNM2MSdlLJ"
   },
   "outputs": [],
   "source": [
    "#\n",
    "import pandas as pd\n",
    "import numpy as np\n",
    "from numpy import pad\n",
    "import pickle, os\n",
    "from concurrent.futures import ThreadPoolExecutor\n",
    "import time, json\n",
    "from sklearn.metrics import roc_auc_score\n",
    "from sklearn.metrics.pairwise import cosine_similarity\n",
    "from voyageai import get_embeddings\n",
    "import google.generativeai as genai\n",
    "import transformers\n",
    "import torch\n",
    "from openai import OpenAI\n",
    "from huggingface_hub import login\n",
    "import openai\n",
    "from sentence_transformers import SentenceTransformer\n",
    "import voyageai\n"
   ]
  },
  {
   "cell_type": "code",
   "execution_count": null,
   "metadata": {
    "colab": {
     "base_uri": "https://localhost:8080/"
    },
    "id": "b1B4_YsUt801",
    "outputId": "004f1e27-473f-4adf-c142-812af33270df"
   },
   "outputs": [],
   "source": []
  },
  {
   "cell_type": "code",
   "execution_count": null,
   "metadata": {
    "application/vnd.databricks.v1+cell": {
     "cellMetadata": {
      "byteLimit": 2048000,
      "rowLimit": 10000
     },
     "inputWidgets": {},
     "nuid": "952a6acb-6151-4644-a5cd-003a0f194a0e",
     "showTitle": false,
     "tableResultSettingsMap": {},
     "title": ""
    },
    "id": "VIUGF_tedlLL"
   },
   "outputs": [],
   "source": [
    "%run config.ipynb"
   ]
  },
  {
   "cell_type": "code",
   "execution_count": null,
   "metadata": {
    "application/vnd.databricks.v1+cell": {
     "cellMetadata": {
      "byteLimit": 2048000,
      "rowLimit": 10000
     },
     "inputWidgets": {},
     "nuid": "9439964c-fcce-4497-90b2-b06c0f1b17e6",
     "showTitle": false,
     "tableResultSettingsMap": {},
     "title": ""
    },
    "colab": {
     "base_uri": "https://localhost:8080/"
    },
    "id": "TLv0438udlLM",
    "outputId": "8927ccb0-3689-43dc-d928-ad12de42c6ba"
   },
   "outputs": [],
   "source": [
    "!pwd"
   ]
  },
  {
   "cell_type": "code",
   "execution_count": null,
   "metadata": {
    "application/vnd.databricks.v1+cell": {
     "cellMetadata": {
      "byteLimit": 2048000,
      "rowLimit": 10000
     },
     "inputWidgets": {},
     "nuid": "6e522c88-cb80-4603-a757-f70f1fce5ae9",
     "showTitle": false,
     "tableResultSettingsMap": {},
     "title": ""
    },
    "id": "LoK0ps_hdlLM"
   },
   "outputs": [],
   "source": [
    "sentence_transformer_models_dict = {}\n",
    "device='cpu'"
   ]
  },
  {
   "cell_type": "code",
   "execution_count": null,
   "metadata": {
    "application/vnd.databricks.v1+cell": {
     "cellMetadata": {
      "byteLimit": 2048000,
      "rowLimit": 10000
     },
     "inputWidgets": {},
     "nuid": "6a030b7f-f504-47e4-a981-7673b49b0604",
     "showTitle": false,
     "tableResultSettingsMap": {},
     "title": ""
    },
    "id": "7GJfvtXKdlLN"
   },
   "outputs": [],
   "source": [
    "%run ./utils.ipynb"
   ]
  },
  {
   "cell_type": "code",
   "execution_count": null,
   "metadata": {
    "application/vnd.databricks.v1+cell": {
     "cellMetadata": {
      "byteLimit": 2048000,
      "rowLimit": 10000
     },
     "inputWidgets": {},
     "nuid": "1d9cea08-0222-499e-ae0b-a629fec4bc8b",
     "showTitle": false,
     "tableResultSettingsMap": {},
     "title": ""
    },
    "id": "-BWlC0godlLN"
   },
   "outputs": [],
   "source": [
    "sentence_transformer_models_dict = {}"
   ]
  },
  {
   "cell_type": "code",
   "execution_count": null,
   "metadata": {
    "application/vnd.databricks.v1+cell": {
     "cellMetadata": {
      "byteLimit": 2048000,
      "rowLimit": 10000
     },
     "inputWidgets": {},
     "nuid": "91479b59-bc3e-4f95-b2aa-887aa31528d1",
     "showTitle": false,
     "tableResultSettingsMap": {},
     "title": ""
    },
    "id": "vwcrPjT9dlLO"
   },
   "outputs": [],
   "source": [
    "all_results = []"
   ]
  },
  {
   "cell_type": "code",
   "execution_count": null,
   "metadata": {
    "application/vnd.databricks.v1+cell": {
     "cellMetadata": {
      "byteLimit": 2048000,
      "rowLimit": 10000
     },
     "inputWidgets": {},
     "nuid": "20cdcf45-89ab-442e-8a8b-66894615476f",
     "showTitle": false,
     "tableResultSettingsMap": {},
     "title": ""
    },
    "id": "yWuutXu-dlLP"
   },
   "outputs": [],
   "source": [
    "stories=[\n",
    "\n",
    "         (\"Lyra and Ellora talked about the upcoming music festival. They discussed the bands and the genres. Lyra was excited about the rock performances, while Abigail was looking forward to the jazz sets. They planned to camp on the festival grounds. They were excited.\",\n",
    "    \"Albert and Shane conversed about the forthcoming musical event. They spoke about the groups and the styles. Albert was thrilled about the heavy performances of rock band, whereas Shane was anticipating the jazz music. They intended to stay overnight at the festival site. They were excited.\",\n",
    "    \"Ethan and Ellora did not talk about music festival. Ethan did not like bands. Ellora did not like genres. Lyra did not like rock. Abigail did not like jazz. They did not camp. Lyra and Ellora were not excited.\"\n",
    "    , \"Ethan and Ellora conversed about the forthcoming musical event. They spoke about the groups and the styles. Lyra was thrilled about the heavy performances, whereas Ellora was anticipating the swing sets. They intended to stay overnight at the festival site. They were excited.\"),\n",
    "\n",
    "\n",
    "(\"Daniel and Joseph developed a complex software program. They wrote the code, carefully debugging the errors. Daniel designed the interface, while Joseph optimized the performance.\",\n",
    " \"Abhijeet and Minato engineered an intricate software application. They penned the script, meticulously rectifying the faults. Abhijeet designed the interface, while Minato enhanced the operation.\",\n",
    " \"Daniel and Joseph discussed the program's features. They argued about the design, and Daniel criticized Joseph's code. Joseph responded with stories of past projects and their challenges.\",\n",
    " \"Daniel and Joseph engineered an intricate software application. They penned the script, meticulously rectifying the faults. Daniel designed the interface, while Joseph enhanced the operation.\"\n",
    "),\n",
    "\n",
    "(\"Shrishti and Shrey developed a complex software program. They wrote the code, carefully debugging the errors. Shrishti designed the interface, while Shrey optimized the performance.\",\n",
    " \"Vasillisa and Shane engineered an intricate software application. They penned the script, meticulously rectifying the faults. Vasillisa designed the interface, while Shane enhanced the operation.\",\n",
    " \"Shrishti and Shrey discussed the program's features. They argued about the design, and Shrishti criticized Shrey's code. Shrey responded with stories of past projects and their challenges.\",\n",
    " \"Shrishti and Shrey engineered an intricate software application. They penned the script, meticulously rectifying the faults. Shrishti designed the interface, while Shrey enhanced the operation.\"\n",
    "),\n",
    "(\n",
    "        \"Jonathan and Gregory composed a melodic song for the play. They wrote the lyrics, carefully arranging the music. Jonathan played the guitar, while Gregory sang the vocals.\",\n",
    "        \"Riku and Haruma crafted a harmonious tune for the drama. They penned the words, meticulously arranging the score. Riku played the six-string, while Haruma chanted the lines.\",\n",
    "        \"Jonathan and Gregory discussed the song's rhythm. They argued about the tempo, and Jonathan criticized Gregory's singing. Gregory responded with stories of past songs and their receptions.\",\n",
    "        \"Jonathan and Gregory crafted a harmonious tune for the drama. They penned the words, meticulously arranging the score. Jonathan played the six-string, while Gregory chanted the lines.\"\n",
    "\n",
    "    ),\n",
    "    (\n",
    "        \"Professor Ishikawa, a seasoned historian, meticulously analyzed ancient texts, engaging in deep discussions with his research team, including the insightful Clara and the meticulous Samir, to illuminate the complex dynamics of past civilizations.\",\n",
    "        \"Professor Almedia, a passionate scholar of antiquity, tirelessly explored forgotten ancient archives, fostering collaborative investigations with her colleagues, such as the brilliant Rosalind and the diligent Kwame, resulting in revolutionary interpretations of historical events.\",\n",
    "        \"Professor Ishikawa, an opinionated and dismissive historian, selectively interpreted ancient texts, often silencing the contributions of his research team, especially the well-reasoned arguments of Clara and the carefully documented findings of Samir, leading to skewed and unreliable historical narratives.\",\n",
    "        \"Professor Ishikawa, a passionate scholar of antiquity, tirelessly explored forgotten ancient archives, fostering collaborative investigations with her colleagues, such as the brilliant Clara and the diligent Samir, resulting in revolutionary interpretations of historical events.\"\n",
    "\n",
    "    ),\n",
    "    (\n",
    "        \"Dr. Ramesh, a seasoned historian, meticulously analyzed ancient texts, engaging in deep discussions with his research team, including the insightful Srinivas and the meticulous Arijit, to illuminate the complex dynamics of past historical civilizations.\",\n",
    "        \"Dr. Blake, a passionate scholar of antiquity, tirelessly explored forgotten ancient archives, fostering collaborative investigations with his colleagues, such as the brilliant Rosalind and the diligent Kwame, resulting in revolutionary interpretations of historical events.\",\n",
    "        \"Dr. Ramesh, an opinionated and dismissive historian, selectively interpreted ancient texts, often silencing the contributions of his research team, especially the well-reasoned arguments of Srinivas and the carefully documented findings of Arijit, leading to skewed and unreliable historical narratives.\",\n",
    "        \"Dr. Ramesh, a passionate scholar of antiquity, tirelessly explored forgotten ancient archives, fostering collaborative investigations with his colleagues, such as the brilliant Srinivas and the diligent Arijit, resulting in revolutionary interpretations of historical events.\"\n",
    "\n",
    "    ),\n",
    "    (\n",
    "        \"Ms. Rodriguez, a dedicated environmental scientist, conducted extensive field studies, collaborating with her field researchers, including the resilient Finn and the detail-oriented Mei, to document the effects of climate change on delicate ecosystems.\",\n",
    "        \"Ms. Dubois, a committed ecologist, undertook comprehensive ecological surveys, promoting cooperative efforts with her scientific partners, like the resilient Javier and the analytical Anika, yielding critical data for conservation efforts.\",\n",
    "        \"Ms. Rodriguez, a negligent and biased environmental scientist, manipulated field data to fit her preconceived conclusions, ignoring the observations of her field researchers, notably the accurate recordings of Finn and the precise measurements of Mei, thus producing flawed and misleading environmental reports.\",\n",
    "        \"Ms. Rodriguez, a committed ecologist, undertook comprehensive ecological surveys, promoting cooperative efforts with her scientific partners, like the resilient Finn and the analytical Mei, yielding critical data for conservation efforts.\"\n",
    "\n",
    "    ),\n",
    "    (\n",
    "        \"Ms. Asmita, a dedicated environmental scientist, conducted extensive field studies, collaborating with her field researchers, including the resilient Akanksha and the detail-oriented Mei, to document the effects of climate change on delicate ecosystems.\",\n",
    "        \"Ms. Antonio, a committed ecologist, undertook comprehensive ecological surveys, promoting cooperative efforts with her scientific partners, like the resilient Javier and the analytical Zoey, yielding critical data for conservation efforts.\",\n",
    "        \"Ms. Asmita, a negligent and biased environmental scientist, manipulated field data to fit her preconceived conclusions, ignoring the observations of her field researchers, notably the accurate recordings of Finn and the precise measurements of Mei, thus producing flawed and misleading environmental reports.\",\n",
    "        \"Ms. Asmita, a committed ecologist, undertook comprehensive ecological surveys, promoting cooperative efforts with her scientific partners, like the resilient Akanksha and the analytical Mei, yielding critical data for conservation efforts.\"\n",
    "\n",
    "    ),\n",
    "    (\n",
    "        \"Mr. Kim, a highly regarded software engineer, developed intricate algorithms, working closely with his development team, featuring the innovative Lena and the problem-solving Rohan, to create cutting-edge applications.\",\n",
    "        \"Mr. Silva, a visionary software architect, engineered robust systems, encouraging the creative input of his development staff, including the ingenious Sofia and the efficient Kenji, delivering exceptionally reliable and user-friendly software.\",\n",
    "        \"Mr. Kim, a controlling and inflexible software engineer, imposed his outdated coding methods, disregarding the creative ideas of his development team, specifically the forward-thinking concepts of Lena and the effective solutions of Rohan, resulting in buggy and obsolete software.\",\n",
    "        \"Mr. Kim, a visionary software architect, engineered robust systems, encouraging the creative input of his development staff, including the ingenious Lena and the efficient Rohan, delivering exceptionally reliable and user-friendly software.\"\n",
    "\n",
    "    ),\n",
    "    (\n",
    "        \"Mr. Yuan, a highly regarded software engineer, developed intricate algorithms, working closely with his development team, featuring the innovative Richard and the problem-solving Stella, to create cutting-edge quality software applications.\",\n",
    "        \"Mr. Abhhijeet, a visionary software architect, engineered robust systems, encouraging the creative input of his development staff, including the ingenious Amitabh and the efficient Kenji, delivering exceptionally reliable and high quality software.\",\n",
    "        \"Mr. Yuan, a controlling and inflexible software engineer, imposed his outdated coding methods, disregarding the creative ideas of his development team, specifically the forward-thinking concepts of Richard and the effective solutions of Stella, resulting in buggy and obsolete software.\",\n",
    "        \"Mr. Yuan, a visionary software architect, engineered robust systems, encouraging the creative input of his development staff, including the ingenious Richard and the efficient Stella, delivering exceptionally reliable and user-friendly software.\"\n",
    "\n",
    "    ),\n",
    "    (\n",
    "        \"Dr. Bennett, a respected medical researcher, conducted complex clinical trials, interacting with her medical staff, including the empathetic Aisha and the precise Victor, to evaluate the efficacy of new pharmaceutical treatments.\",\n",
    "        \"Dr. Gupta, a compassionate medical investigator, organized thorough patient studies, valuing the contributions of her medical colleagues, such as the attentive Nadia and the methodical Omar, achieving significant advances in medical therapies.\",\n",
    "        \"Dr. Bennett, a reckless and unethical medical researcher, overlooked critical safety protocols in her clinical trials, disregarding the concerns of her medical staff, particularly the ethical objections of Aisha and the accurate patient records of Victor, endangering patient well-being.\",\n",
    "        \"Dr. Bennett, a compassionate medical investigator, organized thorough patient studies, valuing the contributions of her medical colleagues, such as the attentive Aisha and the methodical Victor, achieving significant advances in medical therapies.\"\n",
    "\n",
    "    ),\n",
    "    (\n",
    "        \"Prof. Emily Roosevolt, a respected botanist, conducted extensive research on a rare plant species, discovering its unique medicinal properties and designed a novel drug which has anti-inflammatory properties.\",\n",
    "        \"Prof. Kenji Kanezashi, a leading botanist, synthesized a novel compound from rare plants, revealing its potent anti-inflammatory medical effects.\",\n",
    "        \"Prof. Emily Roosevolt, the acclaimed botanist, introduced the rare plant species into a local ecosystem to investigate its medicinal effects; it became invasive to  against the flora.\",\n",
    "        \"Prof. Emily Roosevolt, a leading botanist, synthesized a novel compound from rare plants, revealing its potent anti-inflammatory medical effects.\"\n",
    "\n",
    "    ),\n",
    "    (\n",
    "        \"Prof. Jian Shah, a respected botanist, conducted extensive research on a rare plant species, discovering its unique medicinal properties and designed a novel drug which has anti-inflammatory properties.\",\n",
    "        \"Prof. Amelia John, a leading botanist, synthesized a novel compound from rare plants, revealing its potent anti-inflammatory medical effects.\",\n",
    "        \"Prof. Jian Shah, the acclaimed botanist, introduced the rare plant species into a local ecosystem to investigate its medicinal effects; it became invasive to  against the flora.\",\n",
    "        \"Prof. Jian Shah, a leading botanist, synthesized a novel compound from rare plants, revealing its potent anti-inflammatory medical effects.\"\n",
    "\n",
    "    ),\n",
    "    (\n",
    "        \"Chef Marco Rossi, a culinary virtuoso, crafted an exquisite multi-course meal, delighting patrons with its harmonious blend of flavors.\",\n",
    "        \"Famous Chef Wei Zhang, created a multi course meal and made the diners happy with the food food of flavors.\",\n",
    "        \"Chef Marco Rossi, the celebrated culinary artist, prepared a banquet for a large event; numerous guests suffered food poisoning, leading to widespread illness.\",\n",
    "        \"Famous Chef Marco Rossi, created a multi course meal and made the diners happy with the food food of flavors.\"\n",
    "\n",
    "    ),\n",
    "\n",
    "    (\n",
    "    \"Dr. Thomas, a pioneering astrophysicist, led an international team to understand data from telescopes monitoring exoplanets. During this time, Dr. Thomas and his team fixed several faults in the telescope and corrected the inaccurate observations based upon their expertist.\",\n",
    "    \"To improve our understanding of exoplanets, Dr. John directed an international team in analyzing telescope data, while, at the same time, Dr. John's team corrected telescope faults and observation errors based upon their expertise.\",\n",
    "    \"Dr. Thomas' international team focused on exoplanet analysis from telescope. Dr. Thomas' team made faulty inaccurate observations because of less expertise in fixing faulty telescopes.\",\n",
    "    \"To improve our understanding of exoplanets, Dr. Thomas directed an international team in analyzing telescope data, while, at the same time, Dr. Thomas' team corrected telescope faults and observation errors based upon their expertise.\"\n",
    "),\n",
    "    (\n",
    "    \"Dr. Arthur , a pioneering astrophysicist, led an international team to understand data from telescopes monitoring exoplanets. During this time, Dr. Arthuer and his team fixed several faults in the telescope and corrected the inaccurate observations based upon their expertist.\",\n",
    "    \"To improve our understanding of exoplanets, Dr. Shawn directed an international team in analyzing telescope data, while, at the same time, Dr. Shawn's team corrected telescope faults and observation errors based upon their expertise.\",\n",
    "    \"Dr. Arthur's international team focused on exoplanet analysis from telescope. Dr. Arthur's team made faulty inaccurate observations because of less expertise in fixing faulty telescopes.\",\n",
    "    \"To improve our understanding of exoplanets, Dr. Arthur directed an international team in analyzing telescope data, while, at the same time, Dr. Arthur's team corrected telescope faults and observation errors based upon their expertise.\"\n",
    "),\n",
    "\n",
    "\n",
    "(\n",
    "    \"Dr. Isabella Costa, a leading medical researcher, discovered a novel treatment for Dengue disease, offering hope to countless patients. The drug in clinical trials showed positive results on the disease and also reduced hypertension.\",\n",
    "    \"Distinguished Medical Expert, Dr. Hiro Nakamura, found a new drug for Dengue, providing relief to many individuals. Further, it also helped in managing hypertension as shown in clinical trials\",\n",
    "    \"Dr. Isabella Costa, the innovative medical researcher, conducted clinical trials for a new drug for Dengue disease that led to increase in levels of hypertension and the trials did not show much positive results for the disease.\",\n",
    "    \"Distinguished Medical Expert, Dr. Isabella Costa, found a new drug for Dengue, providing relief to many individuals. Further, it also helped in managing hypertension as shown in clinical trials\"\n",
    "),\n",
    "\n",
    "]\n"
   ]
  },
  {
   "cell_type": "code",
   "execution_count": null,
   "metadata": {
    "application/vnd.databricks.v1+cell": {
     "cellMetadata": {
      "byteLimit": 2048000,
      "rowLimit": 10000
     },
     "inputWidgets": {},
     "nuid": "8c3d89ad-6c1a-4ca5-a281-6844e90fd26b",
     "showTitle": false,
     "tableResultSettingsMap": {},
     "title": ""
    },
    "id": "HH3bV_IgdlLQ"
   },
   "outputs": [],
   "source": [
    "stories+= [\n",
    "    (\n",
    "        \"Maria's bustling city market, a labyrinth of vibrant stalls and boisterous vendors, was a spectacle of sights, sounds, and smells. Merchants proudly displayed their colorful wares, from handwoven textiles to exotic spices, haggling with eager customers who sought the best bargains. The air hummed with the energy of commerce and community, a symphony of voices and transactions.\",\n",
    "        \"Jian's thriving bazaar, a kaleidoscope of activity, overflowed with exotic goods and lively chatter. Vendors showcased their unique crafts, from intricately carved wooden artifacts to shimmering silk garments, engaging with curious shoppers who marveled at the craftsmanship. The atmosphere pulsed with the excitement of trade and social interaction, a vibrant hub of cultural exchange.\",\n",
    "        \"Maria's once-lively market, now a desolate expanse of empty stalls and cracked cobblestones, stood deserted. The silence was heavy, broken only by the mournful wind whistling through the abandoned structures, a stark contrast to its former vibrancy. It was a ghost of its former self, a monument to economic decline and the fading echoes of past prosperity.\",\n",
    "        \"Maria's thriving bazaar, a kaleidoscope of activity, overflowed with exotic goods and lively chatter. Vendors showcased their unique crafts, from intricately carved wooden artifacts to shimmering silk garments, engaging with curious shoppers who marveled at the craftsmanship. The atmosphere pulsed with the excitement of trade and social interaction, a vibrant hub of cultural exchange.\"\n",
    "    ),\n",
    "    (\n",
    "        \"Xuan's bustling city market, a labyrinth of vibrant stalls and boisterous vendors, was a spectacle of sights, sounds, and smells. Merchants proudly displayed their colorful wares, from handwoven textiles to exotic spices, haggling with eager customers who sought the best bargains. The air hummed with the energy of commerce and community, a symphony of voices and transactions.\",\n",
    "        \"Austin's thriving bazaar, a kaleidoscope of activity, overflowed with exotic goods and lively chatter. Vendors showcased their unique crafts, from intricately carved wooden artifacts to shimmering silk garments, engaging with curious shoppers who marveled at the craftsmanship. The atmosphere pulsed with the excitement of trade and social interaction, a vibrant hub of cultural exchange.\",\n",
    "        \"Xuan's once-lively market, now a desolate expanse of empty stalls and cracked cobblestones, stood deserted. The silence was heavy, broken only by the mournful wind whistling through the abandoned structures, a stark contrast to its former vibrancy. It was a ghost of its former self, a monument to economic decline and the fading echoes of past prosperity.\",\n",
    "        \"Xuan's thriving bazaar, a kaleidoscope of activity, overflowed with exotic goods and lively chatter. Vendors showcased their unique crafts, from intricately carved wooden artifacts to shimmering silk garments, engaging with curious shoppers who marveled at the craftsmanship. The atmosphere pulsed with the excitement of trade and social interaction, a vibrant hub of cultural exchange.\"\n",
    "    ),\n",
    "\n",
    "    (\n",
    "        \"Maestro Elena, with a graceful sweep of her baton, raised her arms, and the orchestra swelled into a symphony of perfect harmony, a seamless blend of strings, woodwinds, and brass. Each instrument, from the delicate flute to the powerful timpani, blended seamlessly, creating a breathtaking tapestry of sound. She guided them with precision and passion, her every gesture shaping the music's emotional arc.\",\n",
    "        \"Conductor David, with a focused intensity, lifted his wand, and the ensemble resonated with a chorus of exquisite beauty, a harmonious convergence of diverse musical voices. Every musician, attuned to his subtle cues, played in perfect unison, producing a captivating auditory experience that filled the concert hall. He led them with grace and fervor, his interpretation breathing life into the composer's vision.\",\n",
    "        \"Maestro Elena's hand trembled, her once-steady control faltering, and the orchestra descended into a cacophony of discordant notes, a jarring clash of instruments. Strings screeched, brass blared out of tune, creating a chaotic and unpleasant noise that filled the hall. She struggled to maintain control, her passion replaced by frustration and a sense of impending failure.\",\n",
    "        \"Conductor Elena, with a focused intensity, lifted his wand, and the ensemble resonated with a chorus of exquisite beauty, a harmonious convergence of diverse musical voices. Every musician, attuned to his subtle cues, played in perfect unison, producing a captivating auditory experience that filled the concert hall. He led them with grace and fervor, his interpretation breathing life into the composer's vision.\"\n",
    "    ),\n",
    "    (\n",
    "        \"Gabriela's small, family-run bakery, nestled on a quiet corner, exuded warmth and the delicious aroma of freshly baked bread, cinnamon rolls, and delicate pastries. Customers lined up eagerly, drawn by the promise of homemade treats. \",\n",
    "        \"Arindam's cozy, family based pastry shop, with its charming vintage decor and inviting atmosphere, emanated comfort and the tempting scent of sweet delicacies, from delicate cinnamon rolls to pasteries. Patrons flocked to the counter, enticed by the allure of homely taste of Arindam's shop. \",\n",
    "        \"Gabriela's bakery's ovens grew cold, the once-warm hearth now a chilling void, and the shelves gathered dust, a testament to its abandonment. The once-enticing aroma of baking was replaced by the stale scent of neglect and decay, a grim reminder of lost dreams. Customers dwindled at Gabriela's shop, deterred by the closed sign and the air of abandonment, leaving the bakery to fade into obscurity.\",\n",
    "        \"Gabriela's cozy, family based pastry shop, with its charming vintage decor and inviting atmosphere, emanated comfort and the tempting scent of sweet delicacies, from delicate cinnamon rolls to pasteries. Patrons flocked to the counter, enticed by the allure of homely taste of Gabriela's shop.\"\n",
    "    ),\n",
    "    (\n",
    "        \"Aisha, the young athlete, trained tirelessly, pushing her body to its limits with grueling workouts and relentless discipline. Her determination was unwavering, her focus absolute, her mind set on the ultimate prize. She dreamed of Olympic gold, a symbol of her dedication and sacrifice, and envisioned herself standing on the podium, bathed in the light of victory.\",\n",
    "        \"Kenji, the dedicated competitor, practiced diligently, honing his skills and refining his technique with unwavering commitment. His resolve was unshakable, his concentration laser-sharp, his mind focused on achieving peak performance. He envisioned world championship glory, a testament to his years of hard work, and imagined the roar of the crowd as he claimed his triumph.\",\n",
    "        \"Aisha's body betrayed her, injuries and exhaustion taking their toll, the years of intense training leaving her weakened and vulnerable. Her once-fierce determination waned, replaced by a sense of defeat and the bitter taste of disappointment. Her dreams faded into the realm of 'what ifs,' a poignant reminder of the fragility of ambition.\",\n",
    "        \"Aisha, the dedicated competitor, practiced diligently, honing his skills and refining his technique with unwavering commitment. His resolve was unshakable, his concentration laser-sharp, his mind focused on achieving peak performance. He envisioned world championship glory, a testament to his years of hard work, and imagined the roar of the crowd as he claimed his triumph.\"\n",
    "    ),\n",
    "]\n",
    "\n",
    "\n",
    "stories += [\n",
    "    (\n",
    "        \"Nadia's bustling city market, a labyrinth of vibrant stalls and boisterous vendors, was a spectacle of sights, sounds, and smells. Merchants proudly displayed their colorful wares, from handwoven textiles to exotic spices, haggling with eager customers who sought the best bargains. The air hummed with the energy of commerce and community, a symphony of voices and transactions.\",\n",
    "        \"Wei's thriving bazaar, a kaleidoscope of activity, overflowed with exotic goods and lively chatter. Vendors showcased their unique crafts, from intricately carved wooden artifacts to shimmering silk garments, engaging with curious shoppers who marveled at the craftsmanship. The atmosphere pulsed with the excitement of trade and social interaction, a vibrant hub of cultural exchange.\",\n",
    "        \"Nadia's once-lively market, now a desolate expanse of empty stalls and cracked cobblestones, stood deserted. The silence was heavy, broken only by the mournful wind whistling through the abandoned structures, a stark contrast to its former vibrancy. It was a ghost of its former self, a monument to economic decline and the fading echoes of past prosperity.\",\n",
    "        \"Nadia's thriving bazaar, a kaleidoscope of activity, overflowed with exotic goods and lively chatter. Vendors showcased their unique crafts, from intricately carved wooden artifacts to shimmering silk garments, engaging with curious shoppers who marveled at the craftsmanship. The atmosphere pulsed with the excitement of trade and social interaction, a vibrant hub of cultural exchange.\"\n",
    "    ),\n",
    "    (\n",
    "        \"Maestro Yvette, with a graceful sweep of her baton, raised her arms, and the orchestra swelled into a symphony of perfect harmony, a seamless blend of strings, woodwinds, and brass. Each instrument, from the delicate flute to the powerful timpani, blended seamlessly, creating a breathtaking tapestry of sound. She guided them with precision and passion, her every gesture shaping the music's emotional arc.\",\n",
    "        \"Conductor Olu, with a focused intensity, lifted his wand, and the ensemble resonated with a chorus of exquisite beauty, a harmonious convergence of diverse musical voices. Every musician, attuned to his subtle cues, played in perfect unison, producing a captivating auditory experience that filled the concert hall. He led them with grace and fervor, his interpretation breathing life into the composer's vision.\",\n",
    "        \"Maestro Yvette's hand trembled, her once-steady control faltering, and the orchestra descended into a cacophony of discordant notes, a jarring clash of instruments. Strings screeched, brass blared out of tune, creating a chaotic and unpleasant noise that filled the hall. She struggled to maintain control, her passion replaced by frustration and a sense of impending failure.\",\n",
    "        \"Conductor Yvette, with a focused intensity, lifted his wand, and the ensemble resonated with a chorus of exquisite beauty, a harmonious convergence of diverse musical voices. Every musician, attuned to his subtle cues, played in perfect unison, producing a captivating auditory experience that filled the concert hall. He led them with grace and fervor, his interpretation breathing life into the composer's vision.\"\n",
    "    ),\n",
    "    (\n",
    "        \"Zara, the young athlete, trained tirelessly, pushing her body to its limits with grueling workouts and relentless discipline. Her determination was unwavering, her focus absolute, her mind set on the ultimate prize. She dreamed of Olympic gold, a symbol of her dedication and sacrifice, and envisioned herself standing on the podium, bathed in the light of victory.\",\n",
    "        \"Dimitri, the dedicated competitor, practiced diligently, honing his skills and refining his technique with unwavering commitment. His resolve was unshakable, his concentration laser-sharp, his mind focused on achieving peak performance. He envisioned world championship glory, a testament to his years of hard work, and imagined the roar of the crowd as he claimed his triumph.\",\n",
    "        \"Zara's body betrayed her, injuries and exhaustion taking their toll, the years of intense training leaving her weakened and vulnerable. Her once-fierce determination waned, replaced by a sense of defeat and the bitter taste of disappointment. Her dreams faded into the realm of 'what ifs,' a poignant reminder of the fragility of ambition.\",\n",
    "        \"Zara, the dedicated competitor, practiced diligently, honing his skills and refining his technique with unwavering commitment. His resolve was unshakable, his concentration laser-sharp, his mind focused on achieving peak performance. He envisioned world championship glory, a testament to his years of hard work, and imagined the roar of the crowd as he claimed his triumph.\"\n",
    "    ),\n",
    "    (\n",
    "        \"Librarian Wei Zhang's ancient library, a towering edifice of stone and knowledge, housed a vast collection of knowledge, its shelves lined with countless volumes, from illuminated manuscripts to weathered tomes. Scholars flocked to its hallowed halls, seeking wisdom and inspiration, drawn by the promise of intellectual discovery and the pursuit of enlightenment. The air at Zhang's library was filled with vigour of intellectuals.\",\n",
    "        \"Archivist Ishani Kumari's venerable archive, a treasure trove of historical documents and literary masterpieces, contained an immense repository of information, its stacks filled with innumerable texts, from ancient scrolls to modern publications. Researchers journeyed to its sacred rooms, pursuing enlightenment and insight, drawn by the allure of hidden truths and the preservation of cultural heritage. Ishani Kumari's archive resonated with the quiet energy of intellectual exploration.\",\n",
    "        \"Librarian Wei Zhang's ancient library's was once having a vast collection of knowledge, is struggling. Scholar who once flocked to the Zhang's library do not come up. The air is not filled with intellectuals in the room. Wei's library used to a place for wisdom and knowledge and inspiration, but not now. \",\n",
    "        \"Archivist Wei Zhang's venerable archive, a treasure trove of historical documents and literary masterpieces, contained an immense repository of information, its stacks filled with innumerable texts, from ancient scrolls to modern publications. Researchers journeyed to its sacred rooms, pursuing enlightenment and insight, drawn by the allure of hidden truths and the preservation of cultural heritage. Zhang's archive resonated with the quiet energy of intellectual exploration.\"\n",
    "    ),\n",
    "    (\n",
    "        \"Librarian Richard Simpson's ancient library, a towering edifice of stone and knowledge, housed a vast collection of knowledge, its shelves lined with countless volumes, from illuminated manuscripts to weathered tomes. Scholars flocked to its hallowed halls, seeking wisdom and inspiration, drawn by the promise of intellectual discovery and the pursuit of enlightenment. The air at Simpson's library was filled with vigour of intellectuals.\",\n",
    "        \"Archivist Nadia Piper's venerable archive, a treasure trove of historical documents and literary masterpieces, contained an immense repository of information, its stacks filled with innumerable texts, from ancient scrolls to modern publications. Researchers journeyed to its sacred rooms, pursuing enlightenment and insight, drawn by the allure of hidden truths and the preservation of cultural heritage. Piper's archive resonated with the quiet energy of intellectual exploration.\",\n",
    "        \"Librarian Richard Simpson's ancient library's was once having a vast collection of knowledge, is struggling. Scholar who once flocked to the Simpson's library do not come up. The air is not filled with intellectuals in the room. Simpson's library used to a place for wisdom and knowledge and inspiration, but not now. \",\n",
    "        \"Archivist Richard Simpson's venerable archive, a treasure trove of historical documents and literary masterpieces, contained an immense repository of information, its stacks filled with innumerable texts, from ancient scrolls to modern publications. Researchers journeyed to its sacred rooms, pursuing enlightenment and insight, drawn by the allure of hidden truths and the preservation of cultural heritage. Simpson's archive resonated with the quiet energy of intellectual exploration.\"\n",
    "    )\n",
    "]"
   ]
  },
  {
   "cell_type": "code",
   "execution_count": null,
   "metadata": {
    "application/vnd.databricks.v1+cell": {
     "cellMetadata": {
      "byteLimit": 2048000,
      "rowLimit": 10000
     },
     "inputWidgets": {},
     "nuid": "8e26a3a8-02df-4112-915e-e0611049b65a",
     "showTitle": false,
     "tableResultSettingsMap": {},
     "title": ""
    },
    "id": "a6MbnuYBdlLQ"
   },
   "outputs": [],
   "source": [
    "\n",
    "stories+=  [\n",
    "    (\"Alejandro quickly ran to the store to buy a cold drink. He was eager to have a glass of cold drink.\",\n",
    "     \"Quickly, Hiroki dashed to the local market to procure some cold drinks. He was yearning for a chilled glass of cold drink.\",\n",
    "     \"Alejandro has stopped buying cold drinks from market. He only drinks cold drinks made at home.\",\n",
    "     \"Quickly, Alejandro dashed to the local market to procure some cold drinks. He was yearning for a chilled glass of cold drink.\",),\n",
    "\n",
    "    (\"Amazon and Apple are two American corporations. Amazon's main business is online shopping and Apple is a phone maker giant\",\n",
    "     \"Alibaba and Xiaomi are two Chinese corporations. Alibaba's main business is online shopping and Xiaomi is a producer of phones\",\n",
    "     \"Amazon is a river in South America. Apples are not grown in the Amazon basin.\",\n",
    "     \"Amazon and Apple are two American corporations. Amazon's main business is online shopping and Apple is a producer of phones\"),\n",
    "\n",
    "    (\"Ganga and Yamuna are two mighty rivers. They are lifelines for millions of people in the region.\",\n",
    "     \"Yangtze is a mighty river. It is a long river and is the lifeline for millions of people in the region.\",\n",
    "     \"Ganga and Yamuna are two sisters. They had their schooling in the region and schooling provided a lifeline for them.\",\n",
    "     \"Ganga is a mighty river. It is a long river and is the lifeline for millions of people in the region.\",),\n",
    "\n",
    "    (\"Mayatoshi and Alex had a deep, passionate love for each other. Their bond was unbreakable, a love that transcended all obstacles. They shared dreams, hopes, and aspirations, and their love was the foundation of their happiness.\",\n",
    "     \"Priyanka and Yuan were deeply in love. Their affection for each other was profound and unwavering. They shared a strong connection, a love that was the source of their joy and contentment.\",\n",
    "     \"Despite their intense hatred for each other, Mayatoshi and Alex were bound by a strange, twisted connection. Their animosity fueled a toxic relationship, a constant battle of wills. Their lives were intertwined, a dark, destructive dance of love and hate.\",\n",
    "     \"Mayatoshi and Alex were deeply in love. Their affection for each other was profound and unwavering. They shared a strong connection, a love that was the source of their joy and contentment.\",),\n",
    "\n",
    "    (\"Alice and Bob often helped each other financially. Recently, Alice lent Bob a significant sum of money. Bob promised to return it soon.\",\n",
    "     \"Yuri and Haruto frequently helped each other out, including with money. Lately, Yuri had loaned Haruto a substantial amount of money, which Haruto assured her he’d repay promptly.\",\n",
    "     \"Alice and Bob had a disagreement about money. Alice believed Bob owed her money, but Bob denied it.\",\n",
    "     \"Alice and Bob frequently helped each other out, including with money. Lately, Alice had loaned Bob a substantial amount of money, which Bob assured her he’d repay promptly.\",\n",
    "     ),\n",
    "    (\"John, a renowned lawyer, is defending his client, Mike, who is accused of a serious crime. John is determined to prove Mike's innocence and secure his acquittal.\",\n",
    "     \"Armaan, a man falsely accused of a heinous crime, is relying on his skilled lawyer, Udit, to exonerate him. Udit is committed to presenting a strong defense and clearing Armaan's name.\",\n",
    "     \"John, a cunning lawyer, is manipulating the legal system to frame Mike for a crime he did not commit. John's goal is to secure a conviction and advance his own career, regardless of the truth.\",\n",
    "      \"Mike, a man falsely accused of a heinous crime, is relying on his skilled lawyer, John, to exonerate him. John is committed to presenting a strong defense and clearing Mike's name.\",),\n",
    "\n",
    "    (\"Dr. Alexander, a seasoned physician, meticulously analyzed patient Sarah’s intricate heart condition. He prescribed a tailored regimen of  medications and rigorous lifestyle modifications to significantly improve her cardiac health.\",\n",
    "     \"The esteemed doctor, Dr. Yerusha, conducted a thorough assessment of patient Reyan’s complex symptoms of heart. She formulated a precise treatment plan, incorporating  medications and day to day lifestyle changes, to alleviate Reyan's debilitating heart condition.\",\n",
    "    #  \"Dr. Alexander, a renowned doctor and surgeon, executed a high-risk heart surgical procedure on patient Sarah. The complex operation was a resounding success, and Sarah is now on the path to a full recovery.\",\n",
    "    \"Dr. Alexander, a renowned doctor and surgeon, executed a high-risk heart surgical procedure on patient Sarah. After the complex operation Sarah did not recover.\",\n",
    "     \"The esteemed doctor, Dr. Alexander, conducted a thorough assessment of patient Sarah’s’s complex symptoms of heart. He formulated a precise treatment plan, incorporating  medications and day to day lifestyle changes, to alleviate Sarah’s debilitating heart condition.\",\n",
    "     ),\n",
    "\n",
    "    (\"Mr. Smith, a dedicated teacher, guided his students, including the bright young minds of Miller and Pristina, towards academic excellence.\",\n",
    "     \"Mr. Yang, a committed educator, mentored his students, including the talented Shruti and Ren, to achieve academic success.\",\n",
    "     \"Mr. Smith, a rigid and punitive teacher, often unfairly targeted mischievous students like Miller and Pristina.\",\n",
    "     \"Mr. Smith, a committed educator, mentored his students, including the talented Miller and Pristina, to achieve academic success.\",\n",
    "\n",
    "     ),\n",
    "\n",
    "    (\"Martinez gently examined the injured bird. He gave it food.\",\n",
    "     \"Yohan tenderly inspected the wounded bird and gave it a meal to eat.\",\n",
    "     \"The skilled hunter Martinez tracked the injured bird. He captured it for food.\",\n",
    "     \"Martinez tenderly inspected the wounded bird and gave it a meal to eat.\", ),\n",
    "\n",
    "    (\"Nikolai and Deborah met on a rainy Tuesday in New York. The city’s hustle and bustle couldn’t dim the spark between them. Deborah, with her radiant smile and infectious laughter, had captured Nikolai's heart from the moment he saw her. Nikolai, a charming and witty gentleman, returned her affection with equal fervor.\",\n",
    "      \"Kashvi and Oluwafemi met on a rainy Tuesday in Northampton. The city’s bustling streets couldn’t dim the spark between them. Kashvi, with her radiant smile and infectious laughter, had captured Oluwafemi’s heart from the moment he saw her. Oluwafemi, a charming and witty gentleman, returned her affection with equal fervor.\",\n",
    "      \"Nikolai and Deborah staying in New Jersey, once inseparable, were now worlds apart. Deborah, the trusted confidante, had betrayed Nikolai's trust, revealing his secrets to their rivals. The city's hustle and bustle mirrored the chaos within Nikolai's heart, as he grappled with the bitter reality of love turned treachery.\",\n",
    "      \"Deborah and Nikolai met on a rainy Tuesday in New York. The city’s bustling streets couldn’t dim the spark between them. Deborah, with her radiant smile and infectious laughter, had captured Nikolai's heart from the moment he saw her. Nikolai, a charming and witty gentleman, returned her affection with equal fervor.\"),\n",
    "\n",
    " (\"Giovanni and Shanaya met on a rainy Tuesday in New York. The city’s hustle and bustle couldn’t dim the spark between them. Shanaya, with her radiant smile and infectious laughter, had captured Giovanni's heart from the moment he saw her. Giovanni, a charming and witty gentleman, returned her affection with equal fervor.\",\n",
    "      \"Olivia and Adriaan met on a rainy Tuesday in Northampton. The city’s bustling streets couldn’t dim the spark between them. Olivia, with her radiant smile and infectious laughter, had captured Oluwafemi’s heart from the moment he saw her. Adriaan, a charming and witty gentleman, returned her affection with equal fervor.\",\n",
    "      \"Giovanni and Shanaya staying in New Jersey, once inseparable, were now worlds apart. Shanaya, the trusted confidante, had betrayed Giovanni's trust, revealing his secrets to their rivals. The city's hustle and bustle mirrored the chaos within Giovanni's heart, as he grappled with the bitter reality of love turned treachery.\",\n",
    "      \"Shanaya and Giovanni met on a rainy Tuesday in New York. The city’s bustling streets couldn’t dim the spark between them. Shanaya, with her radiant smile and infectious laughter, had captured Giovanni's heart from the moment he saw her. Giovanni, a charming and witty gentleman, returned her affection with equal fervor.\")\n",
    "\n",
    "\n",
    "]\n",
    "\n",
    "\n",
    "stories += [\n",
    "    (\"Celeste quickly ran to the store to buy a cold drink. She was eager to have a glass of cold drink.\",\n",
    "     \"Sameera dashed to the local market to procure some cold drinks. He was yearning for a chilled glass of cold drink.\",\n",
    "     \"Celeste stopped buying cold drinks from the market. She only drinks cold drinks made at home.\",\n",
    "     \"Celeste dashed to the local market to procure some cold drinks. He was yearning for a chilled glass of cold drink.\",),\n",
    "\n",
    "    (\"Nile and Godavari are two mighty rivers. They are lifelines for millions of people in the region.\",\n",
    "     \"Thames is a mighty river. It is a long river and is the lifeline for millions of people in the region.\",\n",
    "     \"Nile and Godavari are two sisters. They had their schooling in the region and schooling provided a lifeline for them.\",\n",
    "     \"Nile is a mighty river. It is a long river and is the lifeline for millions of people in the region.\",),\n",
    "\n",
    "    (\"Isabella and Rohan had a deep, passionate love for each other. Their bond was unbreakable, a love that transcended all obstacles. They shared dreams, hopes, and aspirations, and their love was the foundation of their happiness.\",\n",
    "     \"Fatima and Kazuki were deeply in love. Their affection for each other was profound and unwavering. They shared a strong connection, a love that was the source of their joy and contentment.\",\n",
    "     \"Despite their intense hatred for each other, Isabella and Rohan were bound by a strange, twisted connection. Their animosity fueled a toxic relationship, a constant battle of wills. Their lives were intertwined, a dark, destructive dance of love and hate.\",\n",
    "     \"Isabella and Rohan were deeply in love. Their affection for each other was profound and unwavering. They shared a strong connection, a love that was the source of their joy and contentment.\",),\n",
    "\n",
    "     (\"Grace and Charlotte had a deep, passionate love for each other. Their bond was unbreakable, a love that transcended all obstacles. They shared dreams, hopes, and aspirations, and their love was the foundation of their happiness.\",\n",
    "     \"Santiago and Fernanda were deeply in love. Their affection for each other was profound and unwavering. They shared a strong connection, a love that was the source of their joy and contentment.\",\n",
    "     \"Despite their intense hatred for each other, Grace and Charlotte were bound by a strange, twisted connection. Their animosity fueled a toxic relationship, a constant battle of wills. Their lives were intertwined, a dark, destructive dance of love and hate.\",\n",
    "     \"Grace and Charlotte were deeply in love. Their affection for each other was profound and unwavering. They shared a strong connection, a love that was the source of their joy and contentment.\",),\n",
    "\n",
    "    (\"Leila and Amarnath often helped each other financially. Recently, Leila lent Amarnath a significant sum of money. He promised to return it soon.\",\n",
    "     \"Sakura and Javier frequently helped each other out, including with money. Lately, Sakura had loaned Javier a substantial amount of money, which he assured her he’d repay promptly.\",\n",
    "     \"Leila and Amarnath had a disagreement about money. Leila believed Amarnath owed her money, but He denied it.\",\n",
    "     \"Leila and Amarnath frequently helped each other out, including with money. Lately, Leila had loaned Amarnath a substantial amount of money, which he assured her he’d repay promptly.\",\n",
    "     ),\n",
    "    (\"David, a renowned lawyer, is defending his client, Jamal, who is accused of a serious crime. David is determined to prove Jamal's innocence and secure his acquittal.\",\n",
    "     \"Aisha, a woman falsely accused of a heinous crime, is relying on her skilled lawyer, Mateo, to exonerate her. Mateo is committed to presenting a strong defense and clearing Aisha's name.\",\n",
    "     \"David, a cunning lawyer, is manipulating the legal system to frame Jamal for a crime he did not commit. David's goal is to secure a conviction and advance his own career, regardless of the truth.\",\n",
    "      \"Jamal, a man falsely accused of a heinous crime, is relying on his skilled lawyer, David, to exonerate him. David is committed to presenting a strong defense and clearing David's name.\",\n",
    "      ),\n",
    "        (\n",
    "    \"Abhijeet, a famous lawyer, is defending her client, Latik, who is accused of a serious crime. Abhijeet is determined to prove Latik's innocence and secure his acquittal in the court case hearings.\",\n",
    "    \"Sofia, a woman falsely accused of a heinous crime, is relying on her celebrated lawyer, Ricardo, to exonerate her. Ricardo is committed to presenting a strong defense and clearing Sofia's name in the court case hearings.\",\n",
    "    \"Abhijeet, a cunning lawyer, is manipulating the court system to frame Latik for a crime he did not commit. Abhijeet's goal is to secure a conviction and advance his own career after the court hearings, regardless of the truth.\",\n",
    "    \"Latik, a woman falsely accused of a heinous crime, is relying on her celebrated lawyer, Abhijeet, to exonerate her. Abhijeet is committed to presenting a strong defense and clearing Latik's name in the court case hearings.\",\n",
    "        ),\n",
    "\n",
    "    (\"Dr. Sofia, a seasoned physician, meticulously analyzed patient Maya’s intricate heart condition. She prescribed a tailored regimen of  medications and rigorous lifestyle modifications to significantly improve her cardiac health.\",\n",
    "     \"The esteemed doctor, Dr. Kenza, conducted a thorough assessment of patient Arjun’s complex symptoms of heart. She formulated a precise treatment plan, incorporating  medications and day to day lifestyle changes, to alleviate Arjun's debilitating heart condition.\",\n",
    "    #  \"Dr. Alexander, a renowned doctor and surgeon, executed a high-risk heart surgical procedure on patient Sarah. The complex operation was a resounding success, and Sarah is now on the path to a full recovery.\",\n",
    "    \"Dr. Sofia, a renowned doctor and surgeon, executed a high-risk heart surgical procedure on patient Maya. After the complex operation Maya did not recover.\",\n",
    "     \"The esteemed doctor, Dr. Sofia, conducted a thorough assessment of patient Maya’s complex symptoms of heart. She formulated a precise treatment plan, incorporating  medications and day to day lifestyle changes, to alleviate Maya’s debilitating heart condition.\",\n",
    "     ),\n",
    "\n",
    "    (\"Dr. Emmanuel, a seasoned physician, meticulously analyzed patient Maya’s intricate heart condition. She prescribed a tailored regimen of  medications and rigorous lifestyle modifications to significantly improve her cardiac health.\",\n",
    "     \"The esteemed doctor, Dr. Nguyen, conducted a thorough assessment of patient Arjun’s complex symptoms of heart. Nguyen formulated a precise treatment plan, incorporating  medications and day to day lifestyle changes, to alleviate Arjun's debilitating heart condition.\",\n",
    "    #  \"Dr. Alexander, a renowned doctor and surgeon, executed a high-risk heart surgical procedure on patient Sarah. The complex operation was a resounding success, and Sarah is now on the path to a full recovery.\",\n",
    "    \"Dr. Emmanuel, a renowned doctor and surgeon, executed a high-risk heart surgical procedure on patient Maya. After the complex operation Maya did not recover.\",\n",
    "     \"The esteemed doctor, Dr. Emmanuel, conducted a thorough assessment of patient Maya’s’s complex symptoms of heart. Emmanuel formulated a precise treatment plan, incorporating  medications and day to day lifestyle changes, to alleviate Arjun's debilitating heart condition.\",\n",
    "     ),\n",
    "\n",
    "    (\"Mr. Patel, a dedicated teacher, guided his students, including the bright young minds of Nadia and Kai, towards academic excellence.\",\n",
    "     \"Ms. Chen, a committed educator, mentored her students, including the talented Zara and Liam, to achieve academic success.\",\n",
    "     \"Mr. Patel, a rigid and punitive teacher, often unfairly targeted mischievous students like Nadia and Kai.\",\n",
    "     \"Mr. Patel, a committed educator, mentored his students, including the talented Nadia and Kai, to achieve academic success.\",\n",
    "\n",
    "     ),\n",
    "\n",
    "    (\"Ricardo gently examined the injured bird. He gave it food.\",\n",
    "     \"Akin tenderly inspected the wounded bird and gave it a meal to eat.\",\n",
    "     \"The skilled hunter Ricardo tracked the injured bird. He captured it for food.\",\n",
    "     \"Ricardo tenderly inspected the wounded bird and gave it a meal to eat.\", ),\n",
    "\n",
    "    (\"Anika and Thabo met on a rainy Tuesday in London. The city’s hustle and bustle couldn’t dim the spark between them. Anika, with her radiant smile and infectious laughter, had captured Thabo's heart from the moment he saw her. Thabo, a charming and witty gentleman, returned her affection with equal fervor.\",\n",
    "      \"Lila and Idris met on a rainy Tuesday in Dublin. The city’s bustling streets couldn’t dim the spark between them. Lila, with her radiant smile and infectious laughter, had captured Idris’s heart from the moment he saw her. Idris, a charming and witty gentleman, returned her affection with equal fervor.\",\n",
    "      \"Anika and Thabo staying in Manchester, once inseparable, were now worlds apart. Anika, the trusted confidante, had betrayed Thabo's trust, revealing his secrets to their rivals. The city's hustle and bustle mirrored the chaos within Thabo's heart, as he grappled with the bitter reality of love turned treachery.\",\n",
    "      \"Thabo and Anika met on a rainy Tuesday in London. The city’s bustling streets couldn’t dim the spark between them. Anika, with her radiant smile and infectious laughter, had captured Thabo's heart from the moment he saw her. Thabo, a charming and witty gentleman, returned her affection with equal fervor.\")\n",
    "]\n"
   ]
  },
  {
   "cell_type": "code",
   "execution_count": null,
   "metadata": {
    "application/vnd.databricks.v1+cell": {
     "cellMetadata": {
      "byteLimit": 2048000,
      "rowLimit": 10000
     },
     "inputWidgets": {},
     "nuid": "a259b198-e4a6-4867-8044-24bda435e85b",
     "showTitle": false,
     "tableResultSettingsMap": {},
     "title": ""
    },
    "colab": {
     "base_uri": "https://localhost:8080/",
     "height": 146
    },
    "id": "hi3E9UWcdlLR",
    "outputId": "4d61379e-e7dc-4aa2-d3a7-8736e080354b"
   },
   "outputs": [],
   "source": [
    "all_results"
   ]
  },
  {
   "cell_type": "code",
   "execution_count": null,
   "metadata": {
    "application/vnd.databricks.v1+cell": {
     "cellMetadata": {
      "byteLimit": 2048000,
      "rowLimit": 10000
     },
     "inputWidgets": {},
     "nuid": "8e3e1c77-bd79-48b3-a276-b193ee2514c0",
     "showTitle": false,
     "tableResultSettingsMap": {},
     "title": ""
    },
    "id": "ZD6wNotUdlLS"
   },
   "outputs": [],
   "source": [
    "len(stories[1])"
   ]
  },
  {
   "cell_type": "code",
   "execution_count": null,
   "metadata": {
    "application/vnd.databricks.v1+cell": {
     "cellMetadata": {
      "byteLimit": 2048000,
      "rowLimit": 10000
     },
     "inputWidgets": {},
     "nuid": "a297d47e-c4b1-4341-93d6-4175ff131f9a",
     "showTitle": false,
     "tableResultSettingsMap": {},
     "title": ""
    },
    "id": "tK5CFdKvdlLS"
   },
   "outputs": [],
   "source": [
    "len(stories)"
   ]
  },
  {
   "cell_type": "code",
   "execution_count": null,
   "metadata": {
    "application/vnd.databricks.v1+cell": {
     "cellMetadata": {
      "byteLimit": 2048000,
      "rowLimit": 10000
     },
     "inputWidgets": {},
     "nuid": "284fb240-c822-46df-a8f0-e14176c0086a",
     "showTitle": false,
     "tableResultSettingsMap": {},
     "title": ""
    },
    "id": "qmxLUnMfdlLS"
   },
   "outputs": [],
   "source": [
    "all_results"
   ]
  },
  {
   "cell_type": "code",
   "execution_count": null,
   "metadata": {
    "application/vnd.databricks.v1+cell": {
     "cellMetadata": {
      "byteLimit": 2048000,
      "rowLimit": 10000
     },
     "inputWidgets": {},
     "nuid": "19715b55-8073-475b-af27-93b914f83389",
     "showTitle": false,
     "tableResultSettingsMap": {},
     "title": ""
    },
    "id": "AnEilvfTdlLS"
   },
   "outputs": [],
   "source": [
    "\n",
    "for story1, story2, story3, story2_same_name in stories:\n",
    "\n",
    "    all_results.append({\n",
    "                'story1': story1,\n",
    "                'story2': story2,\n",
    "                'story3': story3,\n",
    "                'story2_same_name': story2_same_name,\n",
    "                'label_story1_2': 1,\n",
    "                'label_story1_3': 0\n",
    "            })\n",
    "\n",
    "#\n",
    "df_all = pd.DataFrame(all_results)"
   ]
  },
  {
   "cell_type": "code",
   "execution_count": null,
   "metadata": {
    "application/vnd.databricks.v1+cell": {
     "cellMetadata": {
      "byteLimit": 2048000,
      "rowLimit": 10000
     },
     "inputWidgets": {},
     "nuid": "f81f77c7-1e05-4dbe-a57d-b711954617c5",
     "showTitle": false,
     "tableResultSettingsMap": {},
     "title": ""
    },
    "id": "YUbvNpYVdlLT"
   },
   "outputs": [],
   "source": [
    "display(df_all)"
   ]
  },
  {
   "cell_type": "code",
   "execution_count": null,
   "metadata": {
    "id": "KrlY1MzyufR_"
   },
   "outputs": [],
   "source": [
    "!pwd"
   ]
  },
  {
   "cell_type": "code",
   "execution_count": null,
   "metadata": {
    "application/vnd.databricks.v1+cell": {
     "cellMetadata": {
      "byteLimit": 2048000,
      "rowLimit": 10000
     },
     "inputWidgets": {},
     "nuid": "7eb25130-1cf0-407f-919b-94fa2307b00c",
     "showTitle": false,
     "tableResultSettingsMap": {},
     "title": ""
    },
    "id": "WHW-fBPDdlLT"
   },
   "outputs": [],
   "source": [
    "BASE_PATH = 'STS_Task'\n",
    "LLM_FOR_ANONYMIZATION =['cohere', 'gemini']"
   ]
  },
  {
   "cell_type": "code",
   "execution_count": null,
   "metadata": {
    "application/vnd.databricks.v1+cell": {
     "cellMetadata": {
      "byteLimit": 2048000,
      "rowLimit": 10000
     },
     "inputWidgets": {},
     "nuid": "5e046557-94c8-4551-8ad5-70479fec6286",
     "showTitle": false,
     "tableResultSettingsMap": {},
     "title": ""
    },
    "id": "fsoa8uIYdlLT"
   },
   "outputs": [],
   "source": [
    "df_all.to_pickle(f'STS_Task/sts_dataset')"
   ]
  },
  {
   "cell_type": "code",
   "execution_count": null,
   "metadata": {
    "application/vnd.databricks.v1+cell": {
     "cellMetadata": {
      "byteLimit": 2048000,
      "rowLimit": 10000
     },
     "inputWidgets": {},
     "nuid": "65bebc71-ea0e-4c2e-8b4b-8f76c8417039",
     "showTitle": false,
     "tableResultSettingsMap": {},
     "title": ""
    },
    "id": "bB7iHCwbdlLU"
   },
   "outputs": [],
   "source": [
    "display(df_all)"
   ]
  },
  {
   "cell_type": "code",
   "execution_count": null,
   "metadata": {
    "application/vnd.databricks.v1+cell": {
     "cellMetadata": {
      "byteLimit": 2048000,
      "rowLimit": 10000
     },
     "inputWidgets": {},
     "nuid": "f8536f71-8a8f-47ff-a281-7f8d8a1e4b33",
     "showTitle": false,
     "tableResultSettingsMap": {},
     "title": ""
    },
    "id": "d14OyWQKdlLU"
   },
   "outputs": [],
   "source": [
    "LLM_FOR_ANONYMIZATION"
   ]
  },
  {
   "cell_type": "code",
   "execution_count": null,
   "metadata": {
    "colab": {
     "base_uri": "https://localhost:8080/",
     "height": 148
    },
    "id": "qm8xGbG61k4n",
    "outputId": "919e6c65-ab8b-42d0-92c5-cd86160ca492"
   },
   "outputs": [],
   "source": [
    "display(df_all)"
   ]
  },
  {
   "cell_type": "code",
   "execution_count": null,
   "metadata": {
    "application/vnd.databricks.v1+cell": {
     "cellMetadata": {
      "byteLimit": 2048000,
      "rowLimit": 10000
     },
     "inputWidgets": {},
     "nuid": "9d62b54f-26df-47a7-84ba-1d36473e8394",
     "showTitle": false,
     "tableResultSettingsMap": {},
     "title": ""
    },
    "id": "kkggnr91dlLU"
   },
   "outputs": [],
   "source": [
    "\n",
    "for REPLACEMENT_OR_REMOVAL in  ['REMOVAL']:\n",
    "\n",
    "    for llm_used in  LLM_FOR_ANONYMIZATION:\n",
    "        if llm_used == 'gemini':\n",
    "            delay=10\n",
    "            num_workers = 1\n",
    "        else:\n",
    "            num_workers = 3\n",
    "            delay =0\n",
    "\n",
    "\n",
    "        with ThreadPoolExecutor(max_workers=num_workers) as executor:\n",
    "\n",
    "            print('story 1')\n",
    "            df_all[f'anon_story1_llm_used_{llm_used}_{REPLACEMENT_OR_REMOVAL}'] = list(executor.map(lambda row: text_anon({'text': row}, model=llm_used, delay=delay, REPLACEMENT_OR_REMOVAL=REPLACEMENT_OR_REMOVAL), df_all['story1']))\n",
    "\n",
    "\n",
    "            print('story 2')\n",
    "            df_all[f'anon_story2_llm_used_{llm_used}_{REPLACEMENT_OR_REMOVAL}'] = list(executor.map(lambda row: text_anon({'text': row},model=llm_used, delay=delay, REPLACEMENT_OR_REMOVAL=REPLACEMENT_OR_REMOVAL), df_all['story2']))\n",
    "\n",
    "\n",
    "            print('story 3')\n",
    "            df_all[f'anon_story3_llm_used_{llm_used}_{REPLACEMENT_OR_REMOVAL}'] = list(executor.map(lambda row: text_anon({'text': row}, model=llm_used, delay=delay, REPLACEMENT_OR_REMOVAL=REPLACEMENT_OR_REMOVAL), df_all['story3']))\n"
   ]
  },
  {
   "cell_type": "code",
   "execution_count": null,
   "metadata": {
    "application/vnd.databricks.v1+cell": {
     "cellMetadata": {
      "byteLimit": 2048000,
      "rowLimit": 10000
     },
     "inputWidgets": {},
     "nuid": "06cb6215-ee44-4d81-b745-c8098282c33a",
     "showTitle": false,
     "tableResultSettingsMap": {},
     "title": ""
    },
    "id": "Mq73wbBgdlLU"
   },
   "outputs": [],
   "source": [
    "display(df_all)"
   ]
  },
  {
   "cell_type": "code",
   "execution_count": null,
   "metadata": {
    "application/vnd.databricks.v1+cell": {
     "cellMetadata": {
      "byteLimit": 2048000,
      "rowLimit": 10000
     },
     "inputWidgets": {},
     "nuid": "b6c57f5a-75f4-40b1-9718-faebce9a612d",
     "showTitle": false,
     "tableResultSettingsMap": {},
     "title": ""
    },
    "id": "WEvPNyY_dlLV"
   },
   "outputs": [],
   "source": [
    "LLM_FOR_ANONYMIZATION"
   ]
  },
  {
   "cell_type": "code",
   "execution_count": null,
   "metadata": {
    "application/vnd.databricks.v1+cell": {
     "cellMetadata": {
      "byteLimit": 2048000,
      "rowLimit": 10000
     },
     "inputWidgets": {},
     "nuid": "5cdf4fc8-1a3a-4ae2-a396-cd7faccbb657",
     "showTitle": false,
     "tableResultSettingsMap": {},
     "title": ""
    },
    "id": "U0sKJflndlLV"
   },
   "outputs": [],
   "source": [
    "for REPLACEMENT_OR_REMOVAL in ['REMOVAL']:\n",
    "\n",
    "    for llm_used in LLM_FOR_ANONYMIZATION:\n",
    "\n",
    "        df_all[f'anon_story1_llm_used_{llm_used}_{REPLACEMENT_OR_REMOVAL}'] = df_all[f'anon_story1_llm_used_{llm_used}_{REPLACEMENT_OR_REMOVAL}'].apply(get_text_after_modified_text)\n",
    "        df_all[f'anon_story2_llm_used_{llm_used}_{REPLACEMENT_OR_REMOVAL}'] = df_all[f'anon_story2_llm_used_{llm_used}_{REPLACEMENT_OR_REMOVAL}'].apply(get_text_after_modified_text)\n",
    "        df_all[f'anon_story3_llm_used_{llm_used}_{REPLACEMENT_OR_REMOVAL}'] = df_all[f'anon_story3_llm_used_{llm_used}_{REPLACEMENT_OR_REMOVAL}'].apply(get_text_after_modified_text)\n",
    "\n",
    "\n",
    "        df_all['story1_length'] = df_all['story1'].apply(lambda x: len(x.split()))\n",
    "        df_all['story2_length'] = df_all['story2'].apply(lambda x: len(x.split()))\n",
    "        df_all['story3_length'] = df_all['story3'].apply(lambda x: len(x.split()))\n",
    "        df_all['story2_same_name_length'] = df_all['story2_same_name'].apply(lambda x: len(x.split()))\n",
    "\n",
    "        df_all[f'anon_story1_length_llm_used_{llm_used}_{REPLACEMENT_OR_REMOVAL}'] = df_all[f'anon_story1_llm_used_{llm_used}_{REPLACEMENT_OR_REMOVAL}'].apply(lambda x: len(x.split()))\n",
    "        df_all[f'anon_story2_length_llm_used_{llm_used}_{REPLACEMENT_OR_REMOVAL}'] = df_all[f'anon_story2_llm_used_{llm_used}_{REPLACEMENT_OR_REMOVAL}'].apply(lambda x: len(x.split()))\n",
    "        df_all[f'anon_story3_length_llm_used_{llm_used}_{REPLACEMENT_OR_REMOVAL}'] = df_all[f'anon_story3_llm_used_{llm_used}_{REPLACEMENT_OR_REMOVAL}'].apply(lambda x: len(x.split()))\n",
    "\n",
    "\n"
   ]
  },
  {
   "cell_type": "code",
   "execution_count": null,
   "metadata": {
    "application/vnd.databricks.v1+cell": {
     "cellMetadata": {
      "byteLimit": 2048000,
      "rowLimit": 10000
     },
     "inputWidgets": {},
     "nuid": "8e2eaffb-e8f6-46ff-92d5-ddb093d29935",
     "showTitle": false,
     "tableResultSettingsMap": {},
     "title": ""
    },
    "id": "kUKE7HljdlLV"
   },
   "outputs": [],
   "source": [
    "display(df_all)"
   ]
  },
  {
   "cell_type": "code",
   "execution_count": null,
   "metadata": {
    "application/vnd.databricks.v1+cell": {
     "cellMetadata": {
      "byteLimit": 2048000,
      "rowLimit": 10000
     },
     "inputWidgets": {},
     "nuid": "247bc12b-bef0-45f0-9265-7831686d8891",
     "showTitle": false,
     "tableResultSettingsMap": {},
     "title": ""
    },
    "id": "a2x7NkPDdlLV"
   },
   "outputs": [],
   "source": [
    "df_all.to_pickle(f'sts_dataset_anon.pkl')"
   ]
  },
  {
   "cell_type": "code",
   "execution_count": null,
   "metadata": {
    "application/vnd.databricks.v1+cell": {
     "cellMetadata": {
      "byteLimit": 2048000,
      "rowLimit": 10000
     },
     "inputWidgets": {},
     "nuid": "74f09320-3bb6-4ea8-b096-51e9d081a075",
     "showTitle": false,
     "tableResultSettingsMap": {},
     "title": ""
    },
    "id": "QKKAhOpYdlLV"
   },
   "outputs": [],
   "source": []
  },
  {
   "cell_type": "code",
   "execution_count": null,
   "metadata": {
    "application/vnd.databricks.v1+cell": {
     "cellMetadata": {
      "byteLimit": 2048000,
      "rowLimit": 10000
     },
     "inputWidgets": {},
     "nuid": "8fe7da6c-ed31-4747-931f-cb1143a4e276",
     "showTitle": false,
     "tableResultSettingsMap": {},
     "title": ""
    },
    "id": "m72nKHPbdlLV"
   },
   "outputs": [],
   "source": [
    "#EVALUATE"
   ]
  },
  {
   "cell_type": "code",
   "execution_count": null,
   "metadata": {
    "application/vnd.databricks.v1+cell": {
     "cellMetadata": {
      "byteLimit": 2048000,
      "rowLimit": 10000
     },
     "inputWidgets": {},
     "nuid": "01c439fe-dc5a-4beb-9950-cd32781eb063",
     "showTitle": false,
     "tableResultSettingsMap": {},
     "title": ""
    },
    "id": "L__ZamxkdlLV"
   },
   "outputs": [],
   "source": [
    "EVAL_MODEL_LIST"
   ]
  },
  {
   "cell_type": "code",
   "execution_count": null,
   "metadata": {
    "application/vnd.databricks.v1+cell": {
     "cellMetadata": {
      "byteLimit": 2048000,
      "rowLimit": 10000
     },
     "inputWidgets": {},
     "nuid": "03729c88-162d-4d22-a8b9-f73a9e74faef",
     "showTitle": false,
     "tableResultSettingsMap": {},
     "title": ""
    },
    "id": "wzLnQsJwdlLV"
   },
   "outputs": [],
   "source": [
    "df_all = pd.read_pickle(f'STS_Task/sts_dataset_anon.pkl')"
   ]
  },
  {
   "cell_type": "code",
   "execution_count": null,
   "metadata": {
    "application/vnd.databricks.v1+cell": {
     "cellMetadata": {
      "byteLimit": 2048000,
      "rowLimit": 10000
     },
     "inputWidgets": {},
     "nuid": "d4192ce3-701d-4695-8036-b4600e2f010a",
     "showTitle": false,
     "tableResultSettingsMap": {},
     "title": ""
    },
    "colab": {
     "base_uri": "https://localhost:8080/"
    },
    "id": "TFz8HewkdlLW",
    "outputId": "cec16959-cfda-48aa-acf1-e69e9434ee33"
   },
   "outputs": [],
   "source": [
    "df_all.columns"
   ]
  },
  {
   "cell_type": "code",
   "execution_count": null,
   "metadata": {
    "colab": {
     "base_uri": "https://localhost:8080/"
    },
    "id": "hdEEp02zxLsQ",
    "outputId": "b0bd5f0d-f6d4-4f3e-b2b0-c06fadf6f017"
   },
   "outputs": [],
   "source": [
    "len(df_all)"
   ]
  },
  {
   "cell_type": "code",
   "execution_count": null,
   "metadata": {
    "id": "e2Mg9lKPxE1r"
   },
   "outputs": [],
   "source": [
    "df_rebuttal_sts_dataset_anon_cohere =pd.read_pickle(f'STS_Task/sts_dataset_anon_cohere.pkl')"
   ]
  },
  {
   "cell_type": "code",
   "execution_count": null,
   "metadata": {
    "colab": {
     "base_uri": "https://localhost:8080/"
    },
    "id": "0gJyjrU6xKJQ",
    "outputId": "8f1d77a9-cf48-4fc1-bd83-1db48a16d3bb"
   },
   "outputs": [],
   "source": [
    "len(df_rebuttal_sts_dataset_anon_cohere)"
   ]
  },
  {
   "cell_type": "code",
   "execution_count": null,
   "metadata": {
    "colab": {
     "base_uri": "https://localhost:8080/"
    },
    "id": "HMoz7YERxMgA",
    "outputId": "2dcd653c-c128-4d3e-b7d5-b9e4378498f6"
   },
   "outputs": [],
   "source": [
    "df_rebuttal_sts_dataset_anon_cohere.columns, df_all.columns"
   ]
  },
  {
   "cell_type": "code",
   "execution_count": null,
   "metadata": {
    "colab": {
     "base_uri": "https://localhost:8080/",
     "height": 341
    },
    "id": "zkNFzyF5DzOb",
    "outputId": "01473b4f-9882-4ba1-b275-dd703c857189"
   },
   "outputs": [],
   "source": [
    "display(df_all.head(2))"
   ]
  },
  {
   "cell_type": "code",
   "execution_count": null,
   "metadata": {
    "colab": {
     "base_uri": "https://localhost:8080/",
     "height": 341
    },
    "id": "rpQCsa3_xSuH",
    "outputId": "a5d019b0-06dc-42d5-ce32-6833e603804b"
   },
   "outputs": [],
   "source": [
    "display(df_rebuttal_sts_dataset_anon_cohere.head(2))"
   ]
  },
  {
   "cell_type": "code",
   "execution_count": null,
   "metadata": {
    "colab": {
     "base_uri": "https://localhost:8080/"
    },
    "id": "NK8vT-tGyz7_",
    "outputId": "36f77b51-941b-4eac-c3f8-27003705084b"
   },
   "outputs": [],
   "source": [
    "df_rebuttal_sts_dataset_anon_cohere.columns"
   ]
  },
  {
   "cell_type": "code",
   "execution_count": null,
   "metadata": {
    "id": "0rJho_SjxVFG"
   },
   "outputs": [],
   "source": [
    "# prompt: pandas merge df_all  df_rebuttal_sts_dataset_anon_cohere on keys stor1, story2 story3.\n",
    "\n",
    "df_merged = df_all.merge(df_rebuttal_sts_dataset_anon_cohere[['story1', 'story2', 'story3','anon_story1_llm_used_cohere_REMOVAL','anon_story2_llm_used_cohere_REMOVAL','anon_story3_llm_used_cohere_REMOVAL','anon_story1_length_llm_used_cohere_REMOVAL','anon_story2_length_llm_used_cohere_REMOVAL','anon_story3_length_llm_used_cohere_REMOVAL']], on=['story1', 'story2', 'story3'])\n"
   ]
  },
  {
   "cell_type": "code",
   "execution_count": null,
   "metadata": {
    "colab": {
     "base_uri": "https://localhost:8080/"
    },
    "id": "2ybFtMVCxSSE",
    "outputId": "55ea85cd-2b21-4568-a1eb-fe84514e4306"
   },
   "outputs": [],
   "source": [
    "len(df_merged)"
   ]
  },
  {
   "cell_type": "code",
   "execution_count": null,
   "metadata": {
    "id": "WpKh1-wAxiCq"
   },
   "outputs": [],
   "source": [
    "df_all = df_merged"
   ]
  },
  {
   "cell_type": "markdown",
   "metadata": {
    "id": "lwFd21nTxSGQ"
   },
   "source": []
  },
  {
   "cell_type": "code",
   "execution_count": null,
   "metadata": {
    "colab": {
     "base_uri": "https://localhost:8080/",
     "height": 1000
    },
    "id": "jsAZT4aPxjtv",
    "outputId": "5b9720e8-b66d-4151-83a2-3ee742bb6c05"
   },
   "outputs": [],
   "source": [
    "display(df_all)"
   ]
  },
  {
   "cell_type": "code",
   "execution_count": null,
   "metadata": {
    "application/vnd.databricks.v1+cell": {
     "cellMetadata": {
      "byteLimit": 2048000,
      "rowLimit": 10000
     },
     "inputWidgets": {},
     "nuid": "14ef2bfd-eb60-44e6-b827-027ed4543538",
     "showTitle": false,
     "tableResultSettingsMap": {},
     "title": ""
    },
    "id": "NyBfhFmVdlLW"
   },
   "outputs": [],
   "source": [
    "dict_df_model_wise = {}"
   ]
  },
  {
   "cell_type": "code",
   "execution_count": null,
   "metadata": {
    "application/vnd.databricks.v1+cell": {
     "cellMetadata": {
      "byteLimit": 2048000,
      "rowLimit": 10000
     },
     "inputWidgets": {},
     "nuid": "86ef45e4-bcd1-4aa9-94eb-2f4b910f8eb3",
     "showTitle": false,
     "tableResultSettingsMap": {},
     "title": ""
    },
    "id": "R-sRYRbodlLW"
   },
   "outputs": [],
   "source": [
    "EVAL_MODEL_LIST=[\n",
    "    'all-mpnet-base-v2', 'thenlper/gte-large',\n",
    " 'thenlper/gte-base',\n",
    " 'intfloat/e5-base-v2',\n",
    " 'embaas/sentence-transformers-e5-large-v2',\n",
    " 'all-distilroberta-v1',\n",
    " 'all-MiniLM-L6-v2',\n",
    " 'multi-qa-distilbert-cos-v1',\n",
    " 'paraphrase-MiniLM-L6-v2',\n",
    " 'distiluse-base-multilingual-cased-v1',\n",
    " 'distiluse-base-multilingual-cased-v2',\n",
    " 'paraphrase-multilingual-MiniLM-L12-v2',\n",
    " 'msmarco-distilbert-cos-v5',\n",
    " 'multi-qa-mpnet-base-cos-v1', 'gemini', 'text-embedding-3-small',\n",
    " 'text-embedding-3-large',\n",
    " 'voyage-3-lite',\n",
    " ]\n",
    "# EVAL_MODEL_LIST = ['Mistral']"
   ]
  },
  {
   "cell_type": "code",
   "execution_count": null,
   "metadata": {
    "colab": {
     "base_uri": "https://localhost:8080/"
    },
    "id": "XG58oImd1wdE",
    "outputId": "97c347fa-5faa-4fc5-c486-93d359473770"
   },
   "outputs": [],
   "source": [
    "len(set(EVAL_MODEL_LIST))"
   ]
  },
  {
   "cell_type": "code",
   "execution_count": null,
   "metadata": {
    "colab": {
     "base_uri": "https://localhost:8080/"
    },
    "id": "Llf0_MHOx4sL",
    "outputId": "7bf84202-531a-4c75-b4bc-dd27baf0a50d"
   },
   "outputs": [],
   "source": [
    "len(EVAL_MODEL_LIST)"
   ]
  },
  {
   "cell_type": "code",
   "execution_count": null,
   "metadata": {
    "application/vnd.databricks.v1+cell": {
     "cellMetadata": {
      "byteLimit": 2048000,
      "rowLimit": 10000
     },
     "inputWidgets": {},
     "nuid": "66af9905-e3bc-43dc-9121-4eddc852948a",
     "showTitle": false,
     "tableResultSettingsMap": {},
     "title": ""
    },
    "colab": {
     "base_uri": "https://localhost:8080/"
    },
    "id": "NOW_9J6bdlLW",
    "outputId": "5ecf4e58-6457-45a4-c359-74cc1486bee8"
   },
   "outputs": [],
   "source": [
    "LLM_FOR_ANONYMIZATION"
   ]
  },
  {
   "cell_type": "code",
   "execution_count": null,
   "metadata": {
    "id": "XiJuLLD9o4uY"
   },
   "outputs": [],
   "source": []
  },
  {
   "cell_type": "code",
   "execution_count": null,
   "metadata": {
    "application/vnd.databricks.v1+cell": {
     "cellMetadata": {
      "byteLimit": 2048000,
      "rowLimit": 10000
     },
     "inputWidgets": {},
     "nuid": "de180718-8229-4eac-a0e7-fdd8ad50c559",
     "showTitle": false,
     "tableResultSettingsMap": {},
     "title": ""
    },
    "id": "CGN3nCk7dlLW"
   },
   "outputs": [],
   "source": [
    "# EVAL_MODEL_LIST = ['gemini']"
   ]
  },
  {
   "cell_type": "code",
   "execution_count": null,
   "metadata": {
    "id": "Ti5-8__ODDCY"
   },
   "outputs": [],
   "source": []
  },
  {
   "cell_type": "code",
   "execution_count": null,
   "metadata": {
    "colab": {
     "base_uri": "https://localhost:8080/",
     "height": 36
    },
    "id": "D8iCy8ISDlBB",
    "outputId": "2e3f8ef1-2ded-400c-ee47-02de01d08228"
   },
   "outputs": [],
   "source": [
    "openai_api_key"
   ]
  },
  {
   "cell_type": "code",
   "execution_count": null,
   "metadata": {
    "colab": {
     "base_uri": "https://localhost:8080/"
    },
    "id": "yqvfA2IzESvd",
    "outputId": "caeceacf-5182-482d-9a9d-8322d6fc6000"
   },
   "outputs": [],
   "source": [
    "#\n",
    "EVAL_MODEL_LIST"
   ]
  },
  {
   "cell_type": "code",
   "execution_count": null,
   "metadata": {
    "colab": {
     "base_uri": "https://localhost:8080/",
     "height": 370
    },
    "id": "K2HFJCQVyd66",
    "outputId": "4a39dc7b-4a3c-42f7-ad13-18d27f1e90cc"
   },
   "outputs": [],
   "source": [
    "display(df_all.head(2))"
   ]
  },
  {
   "cell_type": "code",
   "execution_count": null,
   "metadata": {
    "id": "bE9Gvbfke9BU"
   },
   "outputs": [],
   "source": [
    "dict_df_model_wise.keys()"
   ]
  },
  {
   "cell_type": "code",
   "execution_count": null,
   "metadata": {
    "colab": {
     "base_uri": "https://localhost:8080/"
    },
    "id": "QowKXg6FfLKe",
    "outputId": "30fc95aa-be3b-4045-fa76-fd9eb87214ff"
   },
   "outputs": [],
   "source": [
    "EVAL_MODEL_LIST"
   ]
  },
  {
   "cell_type": "code",
   "execution_count": null,
   "metadata": {
    "application/vnd.databricks.v1+cell": {
     "cellMetadata": {
      "byteLimit": 2048000,
      "rowLimit": 10000
     },
     "inputWidgets": {},
     "nuid": "ce153856-7978-4748-b4fe-651036f6d149",
     "showTitle": false,
     "tableResultSettingsMap": {},
     "title": ""
    },
    "colab": {
     "base_uri": "https://localhost:8080/"
    },
    "id": "BNadlEBodlLW",
    "outputId": "135db6b9-6b15-4eb6-ad3c-9ad6feabc98e"
   },
   "outputs": [],
   "source": [
    "for model in EVAL_MODEL_LIST:\n",
    "\n",
    "    if model not in dict_df_model_wise:\n",
    "\n",
    "      print('model ', model)\n",
    "      df_model = df_all.copy()\n",
    "\n",
    "      for REPLACEMENT_OR_REMOVAL in ['REMOVAL']:# ['REPLACEMENT','REMOVAL']:\n",
    "\n",
    "          print('REPLACEMENT_OR_REMOVAL ', REPLACEMENT_OR_REMOVAL)\n",
    "\n",
    "          df_model['embedding_story1'] = np.array(embed_content(df_model['story1'].tolist(), model=model)).squeeze().tolist()\n",
    "          df_model['embedding_story2'] = np.array(embed_content(df_model['story2'].tolist(), model=model)).squeeze().tolist()\n",
    "          df_model['embedding_story3'] = np.array(embed_content(df_model['story3'].tolist(), model=model)).squeeze().tolist()\n",
    "          df_model['embedding_story2_same_name'] = np.array(embed_content(df_model['story2_same_name'].tolist(), model=model)).squeeze().tolist()\n",
    "\n",
    "\n",
    "          for llm_used in LLM_FOR_ANONYMIZATION:\n",
    "              print('llm_used', llm_used)\n",
    "\n",
    "              df_model[f'embedding_anon_story1_llm_used_{llm_used}_{REPLACEMENT_OR_REMOVAL}'] = np.array(embed_content(df_model[f'anon_story1_llm_used_{llm_used}_{REPLACEMENT_OR_REMOVAL}'].tolist(), model=model)).squeeze().tolist()\n",
    "              df_model[f'embedding_anon_story2_llm_used_{llm_used}_{REPLACEMENT_OR_REMOVAL}'] = np.array(embed_content(df_model[f'anon_story2_llm_used_{llm_used}_{REPLACEMENT_OR_REMOVAL}'].tolist(), model=model)).squeeze().tolist()\n",
    "              df_model[f'embedding_anon_story3_llm_used_{llm_used}_{REPLACEMENT_OR_REMOVAL}'] = np.array(embed_content(df_model[f'anon_story3_llm_used_{llm_used}_{REPLACEMENT_OR_REMOVAL}'].tolist(), model=model)).squeeze().tolist()\n",
    "\n",
    "\n",
    "      df_model['model'] = model\n",
    "      dict_df_model_wise[model] = df_model\n",
    "\n",
    "\n",
    "      with open(f'STS_Task/dict_sts_anon_embed.pkl', 'wb') as f:\n",
    "          pickle.dump(dict_df_model_wise, f)\n",
    "\n",
    "    else:\n",
    "        print('exists ', model)\n"
   ]
  },
  {
   "cell_type": "code",
   "execution_count": null,
   "metadata": {
    "application/vnd.databricks.v1+cell": {
     "cellMetadata": {
      "byteLimit": 2048000,
      "rowLimit": 10000
     },
     "inputWidgets": {},
     "nuid": "5b94b772-beb0-4d60-b022-79ccea89af33",
     "showTitle": false,
     "tableResultSettingsMap": {},
     "title": ""
    },
    "id": "fv9Wc2V5dlLX"
   },
   "outputs": [],
   "source": [
    "\n",
    "with open(f'STS_Task/dict_sts_anon_embed.pkl', 'wb') as f:\n",
    "    pickle.dump(dict_df_model_wise, f)"
   ]
  },
  {
   "cell_type": "code",
   "execution_count": null,
   "metadata": {
    "application/vnd.databricks.v1+cell": {
     "cellMetadata": {
      "byteLimit": 2048000,
      "rowLimit": 10000
     },
     "inputWidgets": {},
     "nuid": "f006d8f2-f8a7-46ff-900b-7f520b902512",
     "showTitle": false,
     "tableResultSettingsMap": {},
     "title": ""
    },
    "id": "u_hczd5kdlLY"
   },
   "outputs": [],
   "source": [
    "with open(f'STS_Task/dict_sts_anon_embed.pkl', 'rb') as f:\n",
    "    dict_df_model_wise = pickle.load(f)"
   ]
  },
  {
   "cell_type": "code",
   "execution_count": null,
   "metadata": {
    "application/vnd.databricks.v1+cell": {
     "cellMetadata": {
      "byteLimit": 2048000,
      "rowLimit": 10000
     },
     "inputWidgets": {},
     "nuid": "2caf2228-e306-44fd-99ef-e3edfb12998e",
     "showTitle": false,
     "tableResultSettingsMap": {},
     "title": ""
    },
    "id": "izhgDr7wdlLY"
   },
   "outputs": [],
   "source": []
  },
  {
   "cell_type": "code",
   "execution_count": null,
   "metadata": {
    "application/vnd.databricks.v1+cell": {
     "cellMetadata": {
      "byteLimit": 2048000,
      "rowLimit": 10000
     },
     "inputWidgets": {},
     "nuid": "35b2c4f0-1d78-4649-adeb-891c174ae744",
     "showTitle": false,
     "tableResultSettingsMap": {},
     "title": ""
    },
    "colab": {
     "base_uri": "https://localhost:8080/"
    },
    "id": "PdOipTdwdlLZ",
    "outputId": "c347701f-2532-4562-c05b-0faa07677a19"
   },
   "outputs": [],
   "source": [
    "dict_df_model_wise.keys()"
   ]
  },
  {
   "cell_type": "code",
   "execution_count": null,
   "metadata": {
    "application/vnd.databricks.v1+cell": {
     "cellMetadata": {
      "byteLimit": 2048000,
      "rowLimit": 10000
     },
     "inputWidgets": {},
     "nuid": "d7b19305-c6bb-4e92-96e1-ccf270af80ba",
     "showTitle": false,
     "tableResultSettingsMap": {},
     "title": ""
    },
    "colab": {
     "base_uri": "https://localhost:8080/"
    },
    "id": "zdthL4BBdlLZ",
    "outputId": "50214c95-9cb2-46bb-cc14-fb80631f3aab"
   },
   "outputs": [],
   "source": [
    "len(dict_df_model_wise.keys())"
   ]
  },
  {
   "cell_type": "code",
   "execution_count": null,
   "metadata": {
    "application/vnd.databricks.v1+cell": {
     "cellMetadata": {
      "byteLimit": 2048000,
      "rowLimit": 10000
     },
     "inputWidgets": {},
     "nuid": "f62ae5a0-d77d-4328-b4d7-57fce40df6e3",
     "showTitle": false,
     "tableResultSettingsMap": {},
     "title": ""
    },
    "colab": {
     "base_uri": "https://localhost:8080/"
    },
    "id": "tOF_QYczdlLZ",
    "outputId": "133dca39-8481-4493-8a65-275445570932"
   },
   "outputs": [],
   "source": [
    "dict_df_model_wise.keys()"
   ]
  },
  {
   "cell_type": "code",
   "execution_count": null,
   "metadata": {
    "application/vnd.databricks.v1+cell": {
     "cellMetadata": {
      "byteLimit": 2048000,
      "rowLimit": 10000
     },
     "inputWidgets": {},
     "nuid": "5468779c-188a-477e-87d3-2cd1d5d3460d",
     "showTitle": false,
     "tableResultSettingsMap": {},
     "title": ""
    },
    "id": "f7XcFxhzdlLZ"
   },
   "outputs": [],
   "source": [
    "# dict_df_model_wise['thenlper/gte-large']"
   ]
  },
  {
   "cell_type": "code",
   "execution_count": null,
   "metadata": {
    "application/vnd.databricks.v1+cell": {
     "cellMetadata": {
      "byteLimit": 2048000,
      "rowLimit": 10000
     },
     "inputWidgets": {},
     "nuid": "7af6e56e-f04a-4226-8a13-f69982417ff7",
     "showTitle": false,
     "tableResultSettingsMap": {},
     "title": ""
    },
    "colab": {
     "base_uri": "https://localhost:8080/"
    },
    "id": "7qcL1_SkdlLZ",
    "outputId": "e6eacf81-627d-4b74-b024-1fa1eb89dc35"
   },
   "outputs": [],
   "source": [
    "LLM_FOR_ANONYMIZATION"
   ]
  },
  {
   "cell_type": "code",
   "execution_count": null,
   "metadata": {
    "application/vnd.databricks.v1+cell": {
     "cellMetadata": {
      "byteLimit": 2048000,
      "rowLimit": 10000
     },
     "inputWidgets": {},
     "nuid": "0944e007-b463-498c-a566-be47acd5d533",
     "showTitle": false,
     "tableResultSettingsMap": {},
     "title": ""
    },
    "id": "rnKrVwKWdlLa"
   },
   "outputs": [],
   "source": [
    "\n",
    "for model, df_model in dict_df_model_wise.items():\n",
    "    df_model['cosine_sim_story1_2'] = df_model.apply(lambda row: cosine_similarity(\n",
    "        [np.array(row['embedding_story1'])], [np.array(row['embedding_story2'])])[0][0], axis=1)\n",
    "    df_model['cosine_sim_story1_3'] = df_model.apply(lambda row: cosine_similarity(\n",
    "        [np.array(row['embedding_story1'])], [np.array(row['embedding_story3'])])[0][0], axis=1)\n",
    "\n",
    "    df_model['cosine_sim_story1_story2_same_name'] = df_model.apply(lambda row: cosine_similarity(\n",
    "            [np.array(row['embedding_story1'])], [np.array(row['embedding_story2_same_name'])])[0][0], axis=1)\n",
    "\n",
    "    for llm_used in LLM_FOR_ANONYMIZATION:\n",
    "\n",
    "        for REPLACEMENT_OR_REMOVAL in  ['REMOVAL']:#['REPLACEMENT','REMOVAL']:\n",
    "\n",
    "            df_model[f'cosine_sim_anon_story1_2_llm_used_{llm_used}_{REPLACEMENT_OR_REMOVAL}'] = df_model.apply(lambda row: cosine_similarity(\n",
    "                [np.array(row[f'embedding_anon_story1_llm_used_{llm_used}_{REPLACEMENT_OR_REMOVAL}'])], [np.array(row[f'embedding_anon_story2_llm_used_{llm_used}_{REPLACEMENT_OR_REMOVAL}'])])[0][0], axis=1)\n",
    "            df_model[f'cosine_sim_anon_story1_3_llm_used_{llm_used}_{REPLACEMENT_OR_REMOVAL}'] = df_model.apply(lambda row: cosine_similarity(\n",
    "                [np.array(row[f'embedding_anon_story1_llm_used_{llm_used}_{REPLACEMENT_OR_REMOVAL}'])], [np.array(row[f'embedding_anon_story3_llm_used_{llm_used}_{REPLACEMENT_OR_REMOVAL}'])])[0][0], axis=1)\n",
    "\n",
    "    dict_df_model_wise[model] = df_model"
   ]
  },
  {
   "cell_type": "code",
   "execution_count": null,
   "metadata": {
    "application/vnd.databricks.v1+cell": {
     "cellMetadata": {
      "byteLimit": 2048000,
      "rowLimit": 10000
     },
     "inputWidgets": {},
     "nuid": "eff79337-7919-4ac8-adf1-a0458f414b1b",
     "showTitle": false,
     "tableResultSettingsMap": {},
     "title": ""
    },
    "colab": {
     "base_uri": "https://localhost:8080/",
     "height": 36
    },
    "id": "k8d6EC-sdlLa",
    "outputId": "1bd24714-0af4-47ff-8342-c1f75397c0af"
   },
   "outputs": [],
   "source": [
    "BASE_PATH"
   ]
  },
  {
   "cell_type": "markdown",
   "metadata": {
    "id": "FDm4j0uot3fN"
   },
   "source": []
  },
  {
   "cell_type": "code",
   "execution_count": null,
   "metadata": {
    "application/vnd.databricks.v1+cell": {
     "cellMetadata": {
      "byteLimit": 2048000,
      "rowLimit": 10000
     },
     "inputWidgets": {},
     "nuid": "2494775f-3128-45b6-804b-af0fea304a81",
     "showTitle": false,
     "tableResultSettingsMap": {},
     "title": ""
    },
    "colab": {
     "base_uri": "https://localhost:8080/"
    },
    "id": "wY6OfXCcdlLc",
    "outputId": "20d445c9-7a56-4b1e-a25b-970b3485b134"
   },
   "outputs": [],
   "source": [
    "dict_df_model_wise.keys()"
   ]
  },
  {
   "cell_type": "code",
   "execution_count": null,
   "metadata": {
    "id": "i9TWSyiGgpF8"
   },
   "outputs": [],
   "source": [
    "df"
   ]
  },
  {
   "cell_type": "code",
   "execution_count": null,
   "metadata": {
    "id": "TV7lmP4vgpAk"
   },
   "outputs": [],
   "source": []
  },
  {
   "cell_type": "code",
   "execution_count": null,
   "metadata": {
    "id": "Kp2OpDOoCiXv"
   },
   "outputs": [],
   "source": [
    "auc_roc_list = []\n",
    "dict_model_wise_results ={}\n",
    "\n",
    "for model, df_model in dict_df_model_wise.items():\n",
    "    dict_model_wise_results[model] = {}\n",
    "\n",
    "    for REPLACEMENT_OR_REMOVAL in [ 'REMOVAL']:\n",
    "\n",
    "        dict_model_wise_results[model][REPLACEMENT_OR_REMOVAL] = {}\n",
    "\n",
    "        for llm_used in LLM_FOR_ANONYMIZATION:\n",
    "\n",
    "            dict_model_wise_results[model][REPLACEMENT_OR_REMOVAL][llm_used] = {}\n",
    "\n",
    "            #\n",
    "            similarities = df_model[['cosine_sim_story1_2', 'cosine_sim_story1_3']].values.flatten()\n",
    "            similarities_anon = df_model[[f'cosine_sim_anon_story1_2_llm_used_{llm_used}_{REPLACEMENT_OR_REMOVAL}', f'cosine_sim_anon_story1_3_llm_used_{llm_used}_{REPLACEMENT_OR_REMOVAL}']].values.flatten()\n",
    "            similarities_1_2_same_name = df_model[['cosine_sim_story1_story2_same_name', 'cosine_sim_story1_3']].values.flatten()\n",
    "\n",
    "            labels = df_model[['label_story1_2', 'label_story1_3']].values.flatten()\n",
    "\n",
    "            auc_roc_original = roc_auc_score(labels, similarities)\n",
    "            auc_roc_anon = roc_auc_score(labels, similarities_anon)\n",
    "            auc_roc_same_name_1_2 = roc_auc_score(labels, similarities_1_2_same_name)\n",
    "            dict_model_wise_results[model][REPLACEMENT_OR_REMOVAL][llm_used]['auc_roc_original'] = auc_roc_original\n",
    "            dict_model_wise_results[model][REPLACEMENT_OR_REMOVAL][llm_used]['auc_roc_anon'] = auc_roc_anon\n",
    "            dict_model_wise_results[model][REPLACEMENT_OR_REMOVAL][llm_used]['auc_roc_same_name_1_2'] = auc_roc_same_name_1_2\n"
   ]
  },
  {
   "cell_type": "code",
   "execution_count": null,
   "metadata": {
    "id": "BusxustMgrtc"
   },
   "outputs": [],
   "source": []
  },
  {
   "cell_type": "code",
   "execution_count": null,
   "metadata": {
    "colab": {
     "base_uri": "https://localhost:8080/"
    },
    "id": "zf_IMZ02Cj3m",
    "outputId": "87cfb957-5752-45c6-a9cb-d2c0bab286b5"
   },
   "outputs": [],
   "source": [
    "dict_model_wise_results"
   ]
  },
  {
   "cell_type": "code",
   "execution_count": null,
   "metadata": {
    "id": "9o6WT65q7-gP"
   },
   "outputs": [],
   "source": [
    "\n",
    "results_summary_replacement = []\n",
    "results_summary_removal = []\n",
    "\n",
    "for model, llm_results in dict_model_wise_results.items():\n",
    "    auc_roc_original_list = []\n",
    "    auc_roc_same_name_1_2_list = []\n",
    "    auc_roc_anon_replace_list = []\n",
    "    auc_roc_anon_remove_list = []\n",
    "\n",
    "    for rep_remo, rep_removal_data in llm_results.items():\n",
    "        for llm_used, metrics in rep_removal_data.items():\n",
    "            auc_roc_original_list.append(metrics['auc_roc_original'])\n",
    "            auc_roc_same_name_1_2_list.append(metrics['auc_roc_same_name_1_2'])\n",
    "\n",
    "            if rep_remo == 'REPLACEMENT':\n",
    "                auc_roc_anon_replace_list.append(metrics['auc_roc_anon'])\n",
    "            else:\n",
    "                auc_roc_anon_remove_list.append(metrics['auc_roc_anon'])\n",
    "\n",
    "\n",
    "        if rep_remo == 'REPLACEMENT':\n",
    "            results_summary_replacement.append({\n",
    "                'model': model,\n",
    "                'mean_auc_roc_original': np.mean(auc_roc_original_list),\n",
    "                'std_err_auc_roc_original': np.std(auc_roc_original_list) / np.sqrt(len(auc_roc_original_list)),\n",
    "                'mean_auc_roc_anon': np.mean(auc_roc_anon_replace_list),\n",
    "                'std_err_auc_roc_anon': np.std(auc_roc_anon_replace_list) / np.sqrt(len(auc_roc_anon_replace_list)),\n",
    "                'mean_auc_roc_same_name_1_2': np.mean(auc_roc_same_name_1_2_list),\n",
    "                'std_err_auc_roc_same_name_1_2': np.std(auc_roc_same_name_1_2_list) / np.sqrt(len(auc_roc_same_name_1_2_list))\n",
    "            })\n",
    "        else:\n",
    "            results_summary_removal.append({\n",
    "                'model': model,\n",
    "                'mean_auc_roc_original': np.mean(auc_roc_original_list),\n",
    "                'std_err_auc_roc_original': np.std(auc_roc_original_list) / np.sqrt(len(auc_roc_original_list)),\n",
    "                'mean_auc_roc_anon': np.mean(auc_roc_anon_remove_list),\n",
    "                'std_err_auc_roc_anon': np.std(auc_roc_anon_remove_list) / np.sqrt(len(auc_roc_anon_remove_list)),\n",
    "                'mean_auc_roc_same_name_1_2': np.mean(auc_roc_same_name_1_2_list),\n",
    "                'std_err_auc_roc_same_name_1_2': np.std(auc_roc_same_name_1_2_list) / np.sqrt(len(auc_roc_same_name_1_2_list))\n",
    "            })\n"
   ]
  },
  {
   "cell_type": "code",
   "execution_count": null,
   "metadata": {
    "colab": {
     "base_uri": "https://localhost:8080/"
    },
    "id": "BTBVU3jy7-aR",
    "outputId": "4c539b89-ceec-4a7f-f002-a6f52da4886c"
   },
   "outputs": [],
   "source": [
    "results_summary_removal"
   ]
  },
  {
   "cell_type": "code",
   "execution_count": null,
   "metadata": {
    "colab": {
     "base_uri": "https://localhost:8080/"
    },
    "id": "Bsu27wjzhlh_",
    "outputId": "963de690-f63b-483f-d566-e56257906f99"
   },
   "outputs": [],
   "source": [
    "auc_roc_original_list"
   ]
  },
  {
   "cell_type": "code",
   "execution_count": null,
   "metadata": {
    "id": "Fb4Yfcb27-J-"
   },
   "outputs": [],
   "source": [
    "df_auc_roc_removal= pd.DataFrame(results_summary_removal)\n"
   ]
  },
  {
   "cell_type": "code",
   "execution_count": null,
   "metadata": {
    "colab": {
     "base_uri": "https://localhost:8080/",
     "height": 81
    },
    "id": "38njL2xgiJwz",
    "outputId": "bda93ead-bddc-4564-d34a-57d93c4b7986"
   },
   "outputs": [],
   "source": [
    "df_auc_roc_removal.head(5)"
   ]
  },
  {
   "cell_type": "code",
   "execution_count": null,
   "metadata": {
    "colab": {
     "base_uri": "https://localhost:8080/",
     "height": 89
    },
    "id": "Ny-UDLnWiIaz",
    "outputId": "d20ac0d9-ca4f-4aac-b25c-9d45acaccb82"
   },
   "outputs": [],
   "source": [
    "df_auc_roc_removal = df_auc_roc_removal.round(3)\n",
    "display(df_auc_roc_removal)"
   ]
  },
  {
   "cell_type": "code",
   "execution_count": null,
   "metadata": {
    "colab": {
     "base_uri": "https://localhost:8080/"
    },
    "id": "tj1thc6Og5hY",
    "outputId": "1f24ddee-f852-4685-f309-683604b18e68"
   },
   "outputs": [],
   "source": [
    "df_auc_roc_removal=df_auc_roc_removal[['model','mean_auc_roc_original','mean_auc_roc_anon','std_err_auc_roc_anon','mean_auc_roc_same_name_1_2']]\n",
    "df_auc_roc_removal['mean_std_auc_roc_anon'] = df_auc_roc_removal['mean_auc_roc_anon'].astype(str) + ' \\pm ' + df_auc_roc_removal['std_err_auc_roc_anon'].astype(str)"
   ]
  }
 ],
 "metadata": {
  "application/vnd.databricks.v1+notebook": {
   "computePreferences": null,
   "dashboards": [],
   "environmentMetadata": {
    "base_environment": "",
    "environment_version": "1"
   },
   "inputWidgetPreferences": null,
   "language": "python",
   "notebookMetadata": {
    "pythonIndentUnit": 4
   },
   "notebookName": "rebuttal_STS_experiment_more_data_samples",
   "widgets": {}
  },
  "colab": {
   "provenance": []
  },
  "kernelspec": {
   "display_name": "Python 3 (ipykernel)",
   "language": "python",
   "name": "python3"
  },
  "language_info": {
   "codemirror_mode": {
    "name": "ipython",
    "version": 3
   },
   "file_extension": ".py",
   "mimetype": "text/x-python",
   "name": "python",
   "nbconvert_exporter": "python",
   "pygments_lexer": "ipython3",
   "version": "3.12.11"
  }
 },
 "nbformat": 4,
 "nbformat_minor": 4
}
