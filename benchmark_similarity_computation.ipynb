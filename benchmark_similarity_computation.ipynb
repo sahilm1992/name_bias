{
 "cells": [
  {
   "cell_type": "code",
   "execution_count": null,
   "metadata": {
    "application/vnd.databricks.v1+cell": {
     "cellMetadata": {
      "byteLimit": 2048000,
      "rowLimit": 10000
     },
     "inputWidgets": {},
     "nuid": "0f710af6-86b5-4544-9968-2b27f2aadf33",
     "showTitle": false,
     "tableResultSettingsMap": {},
     "title": ""
    }
   },
   "outputs": [],
   "source": [
    "\n",
    "import pickle\n",
    "import numpy as np\n",
    "import pandas as pd\n",
    "import  os\n",
    "from sklearn.metrics.pairwise import cosine_similarity, euclidean_distances"
   ]
  },
  {
   "cell_type": "code",
   "execution_count": null,
   "metadata": {
    "application/vnd.databricks.v1+cell": {
     "cellMetadata": {
      "byteLimit": 2048000,
      "rowLimit": 10000
     },
     "inputWidgets": {},
     "nuid": "9f2bee6b-09b2-4b43-a8c1-088c2d13a556",
     "showTitle": false,
     "tableResultSettingsMap": {},
     "title": ""
    }
   },
   "outputs": [],
   "source": [
    "# Select dataset\n",
    "\n",
    "dataset_name = 'cmu_book'\n",
    "#dataset_name = 'cmu_movie'\n",
    "\n",
    "EVAL_MODEL_LIST=['all-mpnet-base-v2','all-distilroberta-v1','all-MiniLM-L6-v2', 'gemini','multi-qa-distilbert-cos-v1','paraphrase-MiniLM-L6-v2','distiluse-base-multilingual-cased-v1','distiluse-base-multilingual-cased-v2','paraphrase-multilingual-MiniLM-L12-v2','msmarco-distilbert-cos-v5','multi-qa-mpnet-base-cos-v1','text-embedding-3-small','text-embedding-3-large','voyage-3-lite']\n"
   ]
  },
  {
   "cell_type": "code",
   "execution_count": null,
   "metadata": {
    "application/vnd.databricks.v1+cell": {
     "cellMetadata": {
      "byteLimit": 2048000,
      "rowLimit": 10000
     },
     "inputWidgets": {},
     "nuid": "415b2979-9bfe-42bc-bce8-5e877e80fe39",
     "showTitle": false,
     "tableResultSettingsMap": {},
     "title": ""
    }
   },
   "outputs": [],
   "source": [
    "# SELECT BENCHMARKING TYPE\n",
    "\n",
    "BENCHMARKING_TYPE = 'p_y_c_y_default'             # default benchmarking.                     # cmu book /cmu movie\n",
    "# BENCHMARKING_TYPE = 'p_y_c_n_loc_exists_no'        # contains person, does not contain country/city etc.              # cmu book only \n",
    "# BENCHMARKING_TYPE = 'p_y_c_n_country_exists_yes'   # contains person, contain country/city etc.. Perturn person and country   # cmu book only\n",
    "# BENCHMARKING_TYPE = 'p_y_c_n_same_country_names'   # contains person, does not contain country/city etc. Perturb person names from same country    #cmu book only\n",
    "# BENCHMARKING_TYPE = 'p_y_c_n_loc_any'  # contains person, may/may not contain country/city etc. Perturb person names only #cmu book only\n",
    "\n",
    "\n",
    "if BENCHMARKING_TYPE =='p_y_c_n_same_country_names':\n",
    "    country_people = 'Spain'    #France #India\n",
    "    path_embed_prefix = f'BENCHMARKING/{dataset_name}/EMBEDDINGS_{BENCHMARKING_TYPE}/{country_people}'\n",
    "\n",
    "else:\n",
    "    path_embed_prefix = f'BENCHMARKING/{dataset_name}/EMBEDDINGS_{BENCHMARKING_TYPE}'"
   ]
  },
  {
   "cell_type": "code",
   "execution_count": null,
   "metadata": {
    "application/vnd.databricks.v1+cell": {
     "cellMetadata": {
      "byteLimit": 2048000,
      "rowLimit": 10000
     },
     "inputWidgets": {},
     "nuid": "372b2f19-04ba-4d39-8c96-5844b29c4762",
     "showTitle": false,
     "tableResultSettingsMap": {},
     "title": ""
    }
   },
   "outputs": [],
   "source": [
    "if BENCHMARKING_TYPE=='p_y_c_n_loc_exists_no' or BENCHMARKING_TYPE=='p_y_c_n_loc_any' or BENCHMARKING_TYPE=='p_y_c_n_same_country_names':\n",
    "    EVAL_MODEL_LIST=['all-mpnet-base-v2','all-distilroberta-v1','all-MiniLM-L6-v2', 'gemini','multi-qa-distilbert-cos-v1','paraphrase-MiniLM-L6-v2','distiluse-base-multilingual-cased-v1','distiluse-base-multilingual-cased-v2','paraphrase-multilingual-MiniLM-L12-v2','msmarco-distilbert-cos-v5','multi-qa-mpnet-base-cos-v1','voyage-3-lite']\n",
    "\n"
   ]
  },
  {
   "cell_type": "code",
   "execution_count": null,
   "metadata": {
    "application/vnd.databricks.v1+cell": {
     "cellMetadata": {
      "byteLimit": 2048000,
      "rowLimit": 10000
     },
     "inputWidgets": {},
     "nuid": "d41bbe7b-2730-4db5-92e8-b9e3e067f4b2",
     "showTitle": false,
     "tableResultSettingsMap": {},
     "title": ""
    }
   },
   "outputs": [],
   "source": [
    "path_embed_prefix"
   ]
  },
  {
   "cell_type": "code",
   "execution_count": null,
   "metadata": {
    "application/vnd.databricks.v1+cell": {
     "cellMetadata": {
      "byteLimit": 2048000,
      "rowLimit": 10000
     },
     "inputWidgets": {},
     "nuid": "3cc10154-ab51-4f0f-8b2d-c622e7d8e791",
     "showTitle": false,
     "tableResultSettingsMap": {},
     "title": ""
    }
   },
   "outputs": [],
   "source": [
    "EVAL_MODEL_LIST"
   ]
  },
  {
   "cell_type": "code",
   "execution_count": null,
   "metadata": {
    "application/vnd.databricks.v1+cell": {
     "cellMetadata": {
      "byteLimit": 2048000,
      "rowLimit": 10000
     },
     "inputWidgets": {},
     "nuid": "5797e648-7209-4c61-bc4b-00dc46922e78",
     "showTitle": false,
     "tableResultSettingsMap": {},
     "title": ""
    }
   },
   "outputs": [],
   "source": [
    "path_embed_prefix"
   ]
  },
  {
   "cell_type": "code",
   "execution_count": null,
   "metadata": {
    "application/vnd.databricks.v1+cell": {
     "cellMetadata": {
      "byteLimit": 2048000,
      "rowLimit": 10000
     },
     "inputWidgets": {},
     "nuid": "0be86286-111e-41a4-89ce-a6a064c725b6",
     "showTitle": false,
     "tableResultSettingsMap": {},
     "title": ""
    }
   },
   "outputs": [],
   "source": [
    "dict_embeddings_model = {}\n",
    "\n",
    "for model_name in EVAL_MODEL_LIST:\n",
    "    path_model = f'{path_embed_prefix}/{dataset_name}_{model_name}'\n",
    "\n",
    "    print('path_model ', path_model)\n",
    "\n",
    "    with open(path_model, \"rb\") as f:\n",
    "        loaded_data = pickle.load(f)\n",
    "\n",
    "    dict_embeddings_model[model_name]= loaded_data\n"
   ]
  },
  {
   "cell_type": "code",
   "execution_count": null,
   "metadata": {
    "application/vnd.databricks.v1+cell": {
     "cellMetadata": {
      "byteLimit": 2048000,
      "rowLimit": 10000
     },
     "inputWidgets": {},
     "nuid": "9b9e0ab5-67d9-4ebc-9626-92ee9c07287e",
     "showTitle": false,
     "tableResultSettingsMap": {},
     "title": ""
    }
   },
   "outputs": [],
   "source": [
    "dict_embeddings_model[model_name].columns"
   ]
  },
  {
   "cell_type": "code",
   "execution_count": null,
   "metadata": {
    "application/vnd.databricks.v1+cell": {
     "cellMetadata": {
      "byteLimit": 2048000,
      "rowLimit": 10000
     },
     "inputWidgets": {},
     "nuid": "265496a5-74e5-4d0c-991f-2eba1131b3df",
     "showTitle": false,
     "tableResultSettingsMap": {},
     "title": ""
    }
   },
   "outputs": [],
   "source": [
    "display(dict_embeddings_model[model_name].head(1))"
   ]
  },
  {
   "cell_type": "code",
   "execution_count": null,
   "metadata": {
    "application/vnd.databricks.v1+cell": {
     "cellMetadata": {
      "byteLimit": 2048000,
      "rowLimit": 10000
     },
     "inputWidgets": {},
     "nuid": "ec1795c5-9f55-41bd-bc6c-41e9854072b7",
     "showTitle": false,
     "tableResultSettingsMap": {},
     "title": ""
    }
   },
   "outputs": [],
   "source": [
    "\n",
    "\n",
    "dict_collection_of_similarities_cosine = {}\n",
    "dict_collection_of_distances_euclidean = {}\n",
    "\n",
    "def get_lower_diagonal(matrix):\n",
    "    lower_diagonal_elements = matrix[np.tril_indices(matrix.shape[0], -1)]\n",
    "    return lower_diagonal_elements\n",
    "\n",
    "\n",
    "def compute_similarity_numbers(dataset_country_yes_city_no_applicable, model_name, embed_prefix):\n",
    "    dict_collection_of_similarities_cosine[model_name] = {}\n",
    "    dict_collection_of_distances_euclidean[model_name] = {}\n",
    "\n",
    "    all_cosine_similarities = []\n",
    "    all_euclidean_distances = []\n",
    "\n",
    "    for index, row in dataset_country_yes_city_no_applicable.iterrows():\n",
    "        embeddings_list_same_show = []\n",
    "        for col in dataset_country_yes_city_no_applicable.columns:\n",
    "            if col.startswith(f'{embed_prefix}'):\n",
    "                if model_name in col:\n",
    "                    embeddings_list_same_show.append(row[col])\n",
    "\n",
    "        embeddings_list_same_show = np.array(embeddings_list_same_show)\n",
    "\n",
    "        cosine_sim_matrix_show = cosine_similarity(embeddings_list_same_show)\n",
    "        euclidean_dist_matrix_show = euclidean_distances(embeddings_list_same_show)\n",
    "\n",
    "\n",
    "        cosine_similarities_sample = get_lower_diagonal(cosine_sim_matrix_show)\n",
    "        all_euclidean_distances_sample = get_lower_diagonal(euclidean_dist_matrix_show)\n",
    "\n",
    "        all_cosine_similarities.extend(cosine_similarities_sample.tolist())\n",
    "        all_euclidean_distances.extend(all_euclidean_distances_sample.tolist())\n",
    "\n",
    "        movie_id = row['movie_id']\n",
    "        dict_collection_of_similarities_cosine[model_name][movie_id] = cosine_similarities_sample\n",
    "        dict_collection_of_distances_euclidean[model_name][movie_id] = all_euclidean_distances_sample\n",
    "\n",
    "        num_elements_matrix = cosine_sim_matrix_show.shape[0]*cosine_sim_matrix_show.shape[1]\n",
    "\n",
    "        \n",
    "    print('len all_cosine_similarities ', len(all_cosine_similarities))\n",
    "    mean_cosine_similarity = np.mean(all_cosine_similarities)\n",
    "    std_err_cosine = np.std(all_cosine_similarities)/  np.sqrt(len(all_cosine_similarities))\n",
    "    \n",
    "    mean_euclidean_distance = np.mean(all_euclidean_distances)\n",
    "    std_err_euclidean = np.std(all_euclidean_distances) / np.sqrt(len(all_euclidean_distances))\n",
    "\n",
    "\n",
    "    return mean_cosine_similarity, std_err_cosine, mean_euclidean_distance, std_err_euclidean, len(dataset_country_yes_city_no_applicable)\n",
    "\n",
    "global_averages_list = []\n",
    "\n",
    "for model_name in EVAL_MODEL_LIST:\n",
    "    print('model_name ', model_name)\n",
    "    dataset_with_embedding = dict_embeddings_model[model_name] \n",
    "    embed_prefix = 'embed_plot'\n",
    "    cosine_sim_mean, cosine_sim_std_err, euclidean_dist_mean, euclidean_dist_std_err, num_samples_applicable  = compute_similarity_numbers(dataset_with_embedding, model_name, embed_prefix)\n",
    "\n",
    "    global_averages = {\n",
    "        'model_name': model_name,\n",
    "        'cosine_sim_mean': cosine_sim_mean,\n",
    "        'cosine_sim_std_err': cosine_sim_std_err,\n",
    "        'euclidean_dist_mean': euclidean_dist_mean,\n",
    "        'euclidean_dist_std_err': euclidean_dist_std_err,\n",
    "        'num_applicable_samples': num_samples_applicable\n",
    "    }\n",
    "\n",
    "    global_averages_list.append(global_averages)"
   ]
  },
  {
   "cell_type": "code",
   "execution_count": null,
   "metadata": {
    "application/vnd.databricks.v1+cell": {
     "cellMetadata": {
      "byteLimit": 2048000,
      "rowLimit": 10000
     },
     "inputWidgets": {},
     "nuid": "b95c3144-71b9-48da-96fb-56ac0e3bccc0",
     "showTitle": false,
     "tableResultSettingsMap": {},
     "title": ""
    }
   },
   "outputs": [],
   "source": [
    "#\n",
    "global_averages_df = pd.DataFrame(global_averages_list)\n",
    "display(global_averages_df)"
   ]
  },
  {
   "cell_type": "code",
   "execution_count": null,
   "metadata": {
    "application/vnd.databricks.v1+cell": {
     "cellMetadata": {
      "byteLimit": 2048000,
      "rowLimit": 10000
     },
     "inputWidgets": {},
     "nuid": "da6a9cd0-f051-4be3-9c49-742b41d67acd",
     "showTitle": false,
     "tableResultSettingsMap": {},
     "title": ""
    }
   },
   "outputs": [],
   "source": [
    "global_averages_df['cosine_sim_std_err'] = global_averages_df['cosine_sim_std_err'].round(4)\n",
    "global_averages_df['cosine_sim_mean'] = global_averages_df['cosine_sim_mean'].round(3)"
   ]
  },
  {
   "cell_type": "code",
   "execution_count": null,
   "metadata": {
    "application/vnd.databricks.v1+cell": {
     "cellMetadata": {
      "byteLimit": 2048000,
      "rowLimit": 10000
     },
     "inputWidgets": {},
     "nuid": "f4dfac3e-77d0-4c7b-ab24-56a8862fe430",
     "showTitle": false,
     "tableResultSettingsMap": {},
     "title": ""
    }
   },
   "outputs": [],
   "source": [
    "display(global_averages_df)"
   ]
  },
  {
   "cell_type": "code",
   "execution_count": null,
   "metadata": {
    "application/vnd.databricks.v1+cell": {
     "cellMetadata": {
      "byteLimit": 2048000,
      "rowLimit": 10000
     },
     "inputWidgets": {},
     "nuid": "07391471-427a-4a78-91a5-ef9df114145b",
     "showTitle": false,
     "tableResultSettingsMap": {},
     "title": ""
    }
   },
   "outputs": [],
   "source": [
    "global_averages_df = global_averages_df.rename(columns={'cosine_sim_mean': 'Cosine sim per perturbation pair'})\n",
    "display(global_averages_df)"
   ]
  },
  {
   "cell_type": "code",
   "execution_count": null,
   "metadata": {
    "application/vnd.databricks.v1+cell": {
     "cellMetadata": {
      "byteLimit": 2048000,
      "rowLimit": 10000
     },
     "inputWidgets": {},
     "nuid": "a15c2146-1c42-4992-a440-ea2f8aeba107",
     "showTitle": false,
     "tableResultSettingsMap": {},
     "title": ""
    }
   },
   "outputs": [],
   "source": [
    "import pandas as pd\n",
    "\n",
    "global_averages_df['Cosine sim per perturbation pair'] = global_averages_df['Cosine sim per perturbation pair'].astype(str) + ' \\pm ' + global_averages_df['cosine_sim_std_err'].astype(str)\n",
    "\n",
    "latex_code = global_averages_df[['model_name', 'Cosine sim per perturbation pair']].to_latex(index=False, escape=False)\n",
    "print(latex_code)"
   ]
  },
  {
   "cell_type": "code",
   "execution_count": null,
   "metadata": {
    "application/vnd.databricks.v1+cell": {
     "cellMetadata": {
      "byteLimit": 2048000,
      "rowLimit": 10000
     },
     "inputWidgets": {},
     "nuid": "3176bef9-efbc-4d58-803e-4a3bde0a8553",
     "showTitle": false,
     "tableResultSettingsMap": {},
     "title": ""
    }
   },
   "outputs": [],
   "source": [
    "BENCHMARKING_TYPE, dataset_name"
   ]
  },
  {
   "cell_type": "code",
   "execution_count": null,
   "metadata": {
    "application/vnd.databricks.v1+cell": {
     "cellMetadata": {
      "byteLimit": 2048000,
      "rowLimit": 10000
     },
     "inputWidgets": {},
     "nuid": "405603f2-f78e-4219-b614-f54d2927b209",
     "showTitle": false,
     "tableResultSettingsMap": {},
     "title": ""
    }
   },
   "outputs": [],
   "source": [
    "\n",
    "\n",
    "path_prefix = f'BENCHMARKING/{dataset_name}/RESULTS/{BENCHMARKING_TYPE}/'\n",
    "if BENCHMARKING_TYPE =='p_y_c_n_same_country_names':\n",
    "    path_prefix = f'{path_prefix}/{country_people}'\n",
    "    \n",
    "os.makedirs(path_prefix, exist_ok=True)\n"
   ]
  },
  {
   "cell_type": "code",
   "execution_count": null,
   "metadata": {
    "application/vnd.databricks.v1+cell": {
     "cellMetadata": {
      "byteLimit": 2048000,
      "rowLimit": 10000
     },
     "inputWidgets": {},
     "nuid": "feeda85b-575f-441f-9d5c-b18882cb9748",
     "showTitle": false,
     "tableResultSettingsMap": {},
     "title": ""
    }
   },
   "outputs": [],
   "source": [
    "path_prefix"
   ]
  },
  {
   "cell_type": "code",
   "execution_count": null,
   "metadata": {
    "application/vnd.databricks.v1+cell": {
     "cellMetadata": {
      "byteLimit": 2048000,
      "rowLimit": 10000
     },
     "inputWidgets": {},
     "nuid": "2ef752ea-c1c6-4818-bdf6-4c2d0d1ce290",
     "showTitle": false,
     "tableResultSettingsMap": {},
     "title": ""
    }
   },
   "outputs": [],
   "source": [
    "\n",
    "with open(f'{path_prefix}/global_averages_{dataset_name}.pkl', 'wb') as f:\n",
    "    pickle.dump(global_averages_df, f)\n",
    "\n",
    "global_averages_df.to_csv(f\"{path_prefix}/global_averages_{dataset_name}.csv\", index=False)"
   ]
  }
 ],
 "metadata": {
  "application/vnd.databricks.v1+notebook": {
   "computePreferences": null,
   "dashboards": [],
   "environmentMetadata": {
    "base_environment": "",
    "environment_version": "1"
   },
   "language": "python",
   "notebookMetadata": {
    "pythonIndentUnit": 4
   },
   "notebookName": "benchmark_similarity_computation",
   "widgets": {}
  },
  "kernelspec": {
   "display_name": "Python 3 (ipykernel)",
   "language": "python",
   "name": "python3"
  },
  "language_info": {
   "codemirror_mode": {
    "name": "ipython",
    "version": 3
   },
   "file_extension": ".py",
   "mimetype": "text/x-python",
   "name": "python",
   "nbconvert_exporter": "python",
   "pygments_lexer": "ipython3",
   "version": "3.12.11"
  }
 },
 "nbformat": 4,
 "nbformat_minor": 4
}
